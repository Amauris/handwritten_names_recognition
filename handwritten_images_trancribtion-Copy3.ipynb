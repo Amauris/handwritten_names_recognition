{
 "cells": [
  {
   "cell_type": "code",
   "execution_count": 1,
   "metadata": {},
   "outputs": [
    {
     "name": "stderr",
     "output_type": "stream",
     "text": [
      "Using TensorFlow backend.\n"
     ]
    }
   ],
   "source": [
    "import tensorflow as tf\n",
    "import numpy as np\n",
    "import pandas as pd\n",
    "from keras.preprocessing.image import ImageDataGenerator\n",
    "import os\n",
    "import random \n",
    "import cv2\n",
    "import imutils\n",
    "import random\n",
    "import matplotlib.pyplot as plt\n",
    "import seaborn as sns\n",
    "from sklearn.preprocessing import LabelBinarizer\n",
    "import keras\n",
    "from keras.utils import np_utils\n",
    "from keras.models import Model, Sequential\n",
    "from keras import optimizers\n",
    "from sklearn.preprocessing import LabelBinarizer\n",
    "from keras import backend as K\n",
    "from keras.layers import Dense, Activation, Flatten, Dense,MaxPooling2D, Dropout\n",
    "from keras.layers import Conv2D, MaxPooling2D, BatchNormalization\n",
    "from sklearn.metrics import confusion_matrix, f1_score\n",
    "from keras.applications.resnet50 import ResNet50\n",
    "from tensorflow.keras.preprocessing.image import ImageDataGenerator, array_to_img, img_to_array, load_img\n",
    "import pickle\n",
    "\n",
    "np.random.seed(123)"
   ]
  },
  {
   "cell_type": "code",
   "execution_count": 2,
   "metadata": {},
   "outputs": [
    {
     "name": "stdout",
     "output_type": "stream",
     "text": [
      "Tensor Flow Version: 2.1.0\n",
      "Keras Version: 2.2.4-tf\n",
      "\n",
      "Python 3.7.9 (default, Aug 31 2020, 17:10:11) [MSC v.1916 64 bit (AMD64)]\n",
      "Pandas 1.2.1\n",
      "Scikit-Learn 0.24.1\n",
      "GPU is available\n"
     ]
    }
   ],
   "source": [
    "import sys\n",
    "\n",
    "import tensorflow.keras\n",
    "import sklearn as sk\n",
    "\n",
    "print(f\"Tensor Flow Version: {tf.__version__}\")\n",
    "print(f\"Keras Version: {tensorflow.keras.__version__}\")\n",
    "print()\n",
    "print(f\"Python {sys.version}\")\n",
    "print(f\"Pandas {pd.__version__}\")\n",
    "print(f\"Scikit-Learn {sk.__version__}\")\n",
    "gpu = len(tf.config.list_physical_devices('GPU'))>0\n",
    "print(\"GPU is\", \"available\" if gpu else \"NOT AVAILABLE\")"
   ]
  },
  {
   "cell_type": "code",
   "execution_count": 3,
   "metadata": {
    "scrolled": true
   },
   "outputs": [
    {
     "name": "stdout",
     "output_type": "stream",
     "text": [
      "Found 834036 images belonging to 39 classes.\n",
      "Found 22524 images belonging to 39 classes.\n"
     ]
    }
   ],
   "source": [
    "train_dir = 'dataset/handwritten_character/Train'\n",
    "val_dir = 'dataset/handwritten_character/Validation'\n",
    "\n",
    "idg = ImageDataGenerator(rescale=1./255)\n",
    "\n",
    "# get all the data in the directory train (834036 images), and reshape them\n",
    "train_generator = idg.flow_from_directory(train_dir, color_mode = 'grayscale',\n",
    "                                         target_size=(32, 32),\n",
    "                                         batch_size = 834036,\n",
    "                                         class_mode ='binary')\n",
    "\n",
    "# get all the data in the directory validation (22524 images), and reshape them\n",
    "valid_generator = idg.flow_from_directory(val_dir, color_mode = 'grayscale',\n",
    "                                         target_size=(32, 32),\n",
    "                                         batch_size = 22524,\n",
    "                                         class_mode ='binary')\n",
    "\n",
    "# create the data sets\n",
    "# train_images, train_labels = next(train_generator)\n",
    "# val_images, val_labels = next(valid_generator)"
   ]
  },
  {
   "cell_type": "code",
   "execution_count": 5,
   "metadata": {},
   "outputs": [],
   "source": [
    "# Saving the train images/labels\n",
    "save_path = \"pickle_files/\"\n",
    "\n",
    "# with open(os.path.join(save_path, \"train.pkl\"), \"wb\") as f:\n",
    "#     pickle.dump((train_images, train_labels), f)"
   ]
  },
  {
   "cell_type": "code",
   "execution_count": 6,
   "metadata": {},
   "outputs": [],
   "source": [
    "# Saving the val images/labels\n",
    "\n",
    "# with open(os.path.join(save_path, \"val.pkl\"), \"wb\") as f:\n",
    "#     pickle.dump((val_images, val_labels), f)"
   ]
  },
  {
   "cell_type": "code",
   "execution_count": 7,
   "metadata": {},
   "outputs": [],
   "source": [
    "# Load train images/labels\n",
    "with open(os.path.join(save_path, \"train.pkl\"), \"rb\") as f:\n",
    "    (train_images, train_labels) = pickle.load(f)"
   ]
  },
  {
   "cell_type": "code",
   "execution_count": 8,
   "metadata": {},
   "outputs": [],
   "source": [
    "# Load train images/labels\n",
    "with open(os.path.join(save_path, \"val.pkl\"), \"rb\") as f:\n",
    "    (val_images, val_labels) = pickle.load(f)"
   ]
  },
  {
   "cell_type": "code",
   "execution_count": 9,
   "metadata": {},
   "outputs": [
    {
     "data": {
      "text/plain": [
       "{'#': 0,\n",
       " '$': 1,\n",
       " '&': 2,\n",
       " '0': 3,\n",
       " '1': 4,\n",
       " '2': 5,\n",
       " '3': 6,\n",
       " '4': 7,\n",
       " '5': 8,\n",
       " '6': 9,\n",
       " '7': 10,\n",
       " '8': 11,\n",
       " '9': 12,\n",
       " '@': 13,\n",
       " 'A': 14,\n",
       " 'B': 15,\n",
       " 'C': 16,\n",
       " 'D': 17,\n",
       " 'E': 18,\n",
       " 'F': 19,\n",
       " 'G': 20,\n",
       " 'H': 21,\n",
       " 'I': 22,\n",
       " 'J': 23,\n",
       " 'K': 24,\n",
       " 'L': 25,\n",
       " 'M': 26,\n",
       " 'N': 27,\n",
       " 'P': 28,\n",
       " 'Q': 29,\n",
       " 'R': 30,\n",
       " 'S': 31,\n",
       " 'T': 32,\n",
       " 'U': 33,\n",
       " 'V': 34,\n",
       " 'W': 35,\n",
       " 'X': 36,\n",
       " 'Y': 37,\n",
       " 'Z': 38}"
      ]
     },
     "execution_count": 9,
     "metadata": {},
     "output_type": "execute_result"
    }
   ],
   "source": [
    "train_generator.class_indices"
   ]
  },
  {
   "cell_type": "code",
   "execution_count": 10,
   "metadata": {},
   "outputs": [
    {
     "data": {
      "text/plain": [
       "array([ 0,  0,  0, ..., 38, 38, 38])"
      ]
     },
     "execution_count": 10,
     "metadata": {},
     "output_type": "execute_result"
    }
   ],
   "source": [
    "train_generator.classes"
   ]
  },
  {
   "cell_type": "code",
   "execution_count": 11,
   "metadata": {},
   "outputs": [],
   "source": [
    "#figure out how to save and load files using pickle"
   ]
  },
  {
   "cell_type": "code",
   "execution_count": 12,
   "metadata": {},
   "outputs": [
    {
     "name": "stdout",
     "output_type": "stream",
     "text": [
      "Train images shape:  (834036, 32, 32, 1)\n",
      "Val images shape:  (22524, 32, 32, 1)\n",
      "Train labels shape:  (834036,)\n",
      "Val labels shape:  (22524,)\n"
     ]
    }
   ],
   "source": [
    "# Explore your dataset\n",
    "print('Train images shape: ', train_images.shape)\n",
    "print('Val images shape: ', val_images.shape)\n",
    "print('Train labels shape: ', train_labels.shape)\n",
    "print('Val labels shape: ', val_labels.shape)"
   ]
  },
  {
   "cell_type": "code",
   "execution_count": 13,
   "metadata": {},
   "outputs": [
    {
     "data": {
      "text/plain": [
       "(834036, 32, 32, 1)"
      ]
     },
     "execution_count": 13,
     "metadata": {},
     "output_type": "execute_result"
    }
   ],
   "source": [
    "train_images.shape"
   ]
  },
  {
   "cell_type": "code",
   "execution_count": 14,
   "metadata": {},
   "outputs": [
    {
     "data": {
      "image/png": "[encoded data removed]",
      "text/plain": [
       "<PIL.Image.Image image mode=L size=32x32 at 0x291ABD45188>"
      ]
     },
     "execution_count": 14,
     "metadata": {},
     "output_type": "execute_result"
    }
   ],
   "source": [
    "array_to_img(train_images[0])"
   ]
  },
  {
   "cell_type": "code",
   "execution_count": 15,
   "metadata": {},
   "outputs": [
    {
     "data": {
      "text/plain": [
       "array([ 0., 11., 32., ...,  4., 15.,  5.], dtype=float32)"
      ]
     },
     "execution_count": 15,
     "metadata": {},
     "output_type": "execute_result"
    }
   ],
   "source": [
    "train_labels"
   ]
  },
  {
   "cell_type": "code",
   "execution_count": 16,
   "metadata": {},
   "outputs": [],
   "source": [
    "LB = LabelBinarizer()\n",
    "train_labels = LB.fit_transform(train_labels)\n",
    "val_labels = LB.fit_transform(val_labels)"
   ]
  },
  {
   "cell_type": "code",
   "execution_count": 17,
   "metadata": {},
   "outputs": [
    {
     "data": {
      "text/plain": [
       "array([[1, 0, 0, ..., 0, 0, 0],\n",
       "       [0, 0, 0, ..., 0, 0, 0],\n",
       "       [0, 0, 0, ..., 0, 0, 0],\n",
       "       ...,\n",
       "       [0, 0, 0, ..., 0, 0, 0],\n",
       "       [0, 0, 0, ..., 0, 0, 0],\n",
       "       [0, 0, 0, ..., 0, 0, 0]])"
      ]
     },
     "execution_count": 17,
     "metadata": {},
     "output_type": "execute_result"
    }
   ],
   "source": [
    "train_labels"
   ]
  },
  {
   "cell_type": "code",
   "execution_count": 18,
   "metadata": {},
   "outputs": [],
   "source": [
    "train_labels = np.array(train_labels)\n",
    "val_labels = np.array(val_labels)"
   ]
  },
  {
   "cell_type": "code",
   "execution_count": 19,
   "metadata": {},
   "outputs": [
    {
     "data": {
      "text/plain": [
       "array([[1, 0, 0, ..., 0, 0, 0],\n",
       "       [0, 0, 0, ..., 0, 0, 0],\n",
       "       [0, 0, 0, ..., 0, 0, 0],\n",
       "       ...,\n",
       "       [0, 0, 0, ..., 0, 0, 0],\n",
       "       [0, 0, 0, ..., 0, 0, 0],\n",
       "       [0, 0, 0, ..., 0, 0, 0]])"
      ]
     },
     "execution_count": 19,
     "metadata": {},
     "output_type": "execute_result"
    }
   ],
   "source": [
    "train_labels"
   ]
  },
  {
   "cell_type": "code",
   "execution_count": 19,
   "metadata": {},
   "outputs": [],
   "source": [
    "#plot more images her letters to visualize"
   ]
  },
  {
   "cell_type": "code",
   "execution_count": 20,
   "metadata": {
    "scrolled": true
   },
   "outputs": [],
   "source": [
    "# restnet = ResNet50(include_top=False, weights='imagenet')"
   ]
  },
  {
   "cell_type": "code",
   "execution_count": 29,
   "metadata": {},
   "outputs": [],
   "source": [
    "# output = restnet.layers[-1].output\n",
    "# output= keras.layers.Flatten()(output)"
   ]
  },
  {
   "cell_type": "code",
   "execution_count": 21,
   "metadata": {},
   "outputs": [],
   "source": [
    "# restnet = Model(restnet.input, output=output)"
   ]
  },
  {
   "cell_type": "code",
   "execution_count": 21,
   "metadata": {},
   "outputs": [],
   "source": [
    "model_2 = Sequential()\n",
    "\n",
    "model_2.add(Conv2D(32, (3, 3), activation='relu', input_shape=(32, 32, 1)))\n",
    "model_2.add(BatchNormalization())\n",
    "model_2.add(Conv2D(32, (3, 3), activation='relu'))\n",
    "model_2.add(BatchNormalization())\n",
    "model_2.add(Conv2D(32, (5, 5), strides=2, padding='same', activation='relu'))\n",
    "model_2.add(BatchNormalization())\n",
    "model_2.add(Dropout(0.4))\n",
    "\n",
    "model_2.add(Conv2D(64, (3, 3), activation='relu'))\n",
    "model_2.add(BatchNormalization())\n",
    "model_2.add(Conv2D(64, (3,3), activation='relu'))\n",
    "model_2.add(BatchNormalization())\n",
    "model_2.add(Conv2D(64, (5, 5), strides=2, padding='same', activation='relu'))\n",
    "model_2.add(BatchNormalization())\n",
    "model_2.add(Dropout(0.4))\n",
    "\n",
    "model_2.add(Conv2D(128, kernel_size = 4, activation='relu'))\n",
    "model_2.add(BatchNormalization())\n",
    "model_2.add(Flatten())\n",
    "model_2.add(Dropout(0.4))\n",
    "model_2.add(Dense(39, activation='softmax'))"
   ]
  },
  {
   "cell_type": "code",
   "execution_count": 22,
   "metadata": {},
   "outputs": [
    {
     "name": "stdout",
     "output_type": "stream",
     "text": [
      "Model: \"sequential_1\"\n",
      "_________________________________________________________________\n",
      "Layer (type)                 Output Shape              Param #   \n",
      "=================================================================\n",
      "conv2d_1 (Conv2D)            (None, 30, 30, 32)        320       \n",
      "_________________________________________________________________\n",
      "batch_normalization_1 (Batch (None, 30, 30, 32)        128       \n",
      "_________________________________________________________________\n",
      "conv2d_2 (Conv2D)            (None, 28, 28, 32)        9248      \n",
      "_________________________________________________________________\n",
      "batch_normalization_2 (Batch (None, 28, 28, 32)        128       \n",
      "_________________________________________________________________\n",
      "conv2d_3 (Conv2D)            (None, 14, 14, 32)        25632     \n",
      "_________________________________________________________________\n",
      "batch_normalization_3 (Batch (None, 14, 14, 32)        128       \n",
      "_________________________________________________________________\n",
      "dropout_1 (Dropout)          (None, 14, 14, 32)        0         \n",
      "_________________________________________________________________\n",
      "conv2d_4 (Conv2D)            (None, 12, 12, 64)        18496     \n",
      "_________________________________________________________________\n",
      "batch_normalization_4 (Batch (None, 12, 12, 64)        256       \n",
      "_________________________________________________________________\n",
      "conv2d_5 (Conv2D)            (None, 10, 10, 64)        36928     \n",
      "_________________________________________________________________\n",
      "batch_normalization_5 (Batch (None, 10, 10, 64)        256       \n",
      "_________________________________________________________________\n",
      "conv2d_6 (Conv2D)            (None, 5, 5, 64)          102464    \n",
      "_________________________________________________________________\n",
      "batch_normalization_6 (Batch (None, 5, 5, 64)          256       \n",
      "_________________________________________________________________\n",
      "dropout_2 (Dropout)          (None, 5, 5, 64)          0         \n",
      "_________________________________________________________________\n",
      "conv2d_7 (Conv2D)            (None, 2, 2, 128)         131200    \n",
      "_________________________________________________________________\n",
      "batch_normalization_7 (Batch (None, 2, 2, 128)         512       \n",
      "_________________________________________________________________\n",
      "flatten_1 (Flatten)          (None, 512)               0         \n",
      "_________________________________________________________________\n",
      "dropout_3 (Dropout)          (None, 512)               0         \n",
      "_________________________________________________________________\n",
      "dense_1 (Dense)              (None, 39)                20007     \n",
      "=================================================================\n",
      "Total params: 345,959\n",
      "Trainable params: 345,127\n",
      "Non-trainable params: 832\n",
      "_________________________________________________________________\n"
     ]
    }
   ],
   "source": [
    "model_2.summary()"
   ]
  },
  {
   "cell_type": "code",
   "execution_count": 23,
   "metadata": {},
   "outputs": [],
   "source": [
    "model_2.compile(loss = 'categorical_crossentropy',\n",
    "             optimizer='adam',\n",
    "             metrics = ['accuracy'])"
   ]
  },
  {
   "cell_type": "code",
   "execution_count": 24,
   "metadata": {},
   "outputs": [
    {
     "name": "stdout",
     "output_type": "stream",
     "text": [
      "Train on 834036 samples, validate on 22524 samples\n",
      "Epoch 1/50\n",
      "834036/834036 [==============================] - 344s 413us/step - loss: 0.2744 - accuracy: 0.9115 - val_loss: 0.2141 - val_accuracy: 0.9239\n",
      "Epoch 2/50\n",
      "834036/834036 [==============================] - 344s 413us/step - loss: 0.1797 - accuracy: 0.9395 - val_loss: 0.1853 - val_accuracy: 0.9480\n",
      "Epoch 3/50\n",
      "834036/834036 [==============================] - 338s 405us/step - loss: 0.1642 - accuracy: 0.9443 - val_loss: 0.1427 - val_accuracy: 0.9562\n",
      "Epoch 4/50\n",
      "834036/834036 [==============================] - 337s 404us/step - loss: 0.1556 - accuracy: 0.9473 - val_loss: 0.1514 - val_accuracy: 0.9546\n",
      "Epoch 5/50\n",
      "834036/834036 [==============================] - 348s 418us/step - loss: 0.1488 - accuracy: 0.9495 - val_loss: 0.1447 - val_accuracy: 0.9525\n",
      "Epoch 6/50\n",
      "834036/834036 [==============================] - 351s 421us/step - loss: 0.1444 - accuracy: 0.9507 - val_loss: 0.1311 - val_accuracy: 0.9592\n",
      "Epoch 7/50\n",
      "834036/834036 [==============================] - 349s 419us/step - loss: 0.1412 - accuracy: 0.9518 - val_loss: 0.1389 - val_accuracy: 0.9519\n",
      "Epoch 8/50\n",
      "834036/834036 [==============================] - 341s 409us/step - loss: 0.1380 - accuracy: 0.9530 - val_loss: 0.1388 - val_accuracy: 0.9577\n",
      "Epoch 9/50\n",
      "834036/834036 [==============================] - 340s 407us/step - loss: 0.1350 - accuracy: 0.9539 - val_loss: 0.1272 - val_accuracy: 0.9592\n",
      "Epoch 10/50\n",
      "834036/834036 [==============================] - 336s 403us/step - loss: 0.1314 - accuracy: 0.9552 - val_loss: 0.1213 - val_accuracy: 0.9614\n",
      "Epoch 11/50\n",
      "834036/834036 [==============================] - 336s 403us/step - loss: 0.1272 - accuracy: 0.9569 - val_loss: 0.1160 - val_accuracy: 0.9614\n",
      "Epoch 12/50\n",
      "834036/834036 [==============================] - 344s 412us/step - loss: 0.1238 - accuracy: 0.9582 - val_loss: 0.1203 - val_accuracy: 0.9580\n",
      "Epoch 13/50\n",
      "834036/834036 [==============================] - 347s 416us/step - loss: 0.1210 - accuracy: 0.9590 - val_loss: 0.1141 - val_accuracy: 0.9601\n",
      "Epoch 14/50\n",
      "834036/834036 [==============================] - 346s 415us/step - loss: 0.1185 - accuracy: 0.9599 - val_loss: 0.1195 - val_accuracy: 0.9611\n",
      "Epoch 15/50\n",
      "834036/834036 [==============================] - 343s 411us/step - loss: 0.1164 - accuracy: 0.9605 - val_loss: 0.1249 - val_accuracy: 0.9543\n",
      "Epoch 16/50\n",
      "834036/834036 [==============================] - 335s 401us/step - loss: 0.1151 - accuracy: 0.9609 - val_loss: 0.1034 - val_accuracy: 0.9636\n",
      "Epoch 17/50\n",
      "834036/834036 [==============================] - 342s 410us/step - loss: 0.1135 - accuracy: 0.9614 - val_loss: 0.1095 - val_accuracy: 0.9650\n",
      "Epoch 18/50\n",
      "834036/834036 [==============================] - 344s 412us/step - loss: 0.1118 - accuracy: 0.9621 - val_loss: 0.1081 - val_accuracy: 0.9646\n",
      "Epoch 19/50\n",
      "834036/834036 [==============================] - 347s 416us/step - loss: 0.1106 - accuracy: 0.9626 - val_loss: 0.1040 - val_accuracy: 0.9629\n",
      "Epoch 20/50\n",
      "834036/834036 [==============================] - 347s 416us/step - loss: 0.1096 - accuracy: 0.9626 - val_loss: 0.1040 - val_accuracy: 0.9647\n",
      "Epoch 21/50\n",
      "834036/834036 [==============================] - 342s 410us/step - loss: 0.1081 - accuracy: 0.9633 - val_loss: 0.1042 - val_accuracy: 0.9653.1\n",
      "Epoch 22/50\n",
      "834036/834036 [==============================] - 343s 412us/step - loss: 0.1076 - accuracy: 0.9635 - val_loss: 0.1022 - val_accuracy: 0.9645\n",
      "Epoch 23/50\n",
      "834036/834036 [==============================] - 342s 410us/step - loss: 0.1064 - accuracy: 0.9636 - val_loss: 0.0954 - val_accuracy: 0.9670\n",
      "Epoch 24/50\n",
      "834036/834036 [==============================] - 343s 412us/step - loss: 0.1056 - accuracy: 0.9640 - val_loss: 0.0970 - val_accuracy: 0.9662\n",
      "Epoch 25/50\n",
      "834036/834036 [==============================] - 337s 404us/step - loss: 0.1044 - accuracy: 0.9644 - val_loss: 0.0969 - val_accuracy: 0.9648\n",
      "Epoch 26/50\n",
      "834036/834036 [==============================] - 338s 406us/step - loss: 0.1038 - accuracy: 0.9646 - val_loss: 0.1044 - val_accuracy: 0.9673\n",
      "Epoch 27/50\n",
      "834036/834036 [==============================] - 343s 411us/step - loss: 0.1033 - accuracy: 0.9646 - val_loss: 0.0966 - val_accuracy: 0.9668\n",
      "Epoch 28/50\n",
      "834036/834036 [==============================] - 342s 410us/step - loss: 0.1026 - accuracy: 0.9648 - val_loss: 0.1001 - val_accuracy: 0.9659\n",
      "Epoch 29/50\n",
      "834036/834036 [==============================] - 337s 404us/step - loss: 0.1023 - accuracy: 0.9651 - val_loss: 0.0903 - val_accuracy: 0.9698\n",
      "Epoch 30/50\n",
      "834036/834036 [==============================] - 333s 399us/step - loss: 0.1015 - accuracy: 0.9652 - val_loss: 0.0971 - val_accuracy: 0.9649\n",
      "Epoch 31/50\n",
      "834036/834036 [==============================] - 334s 400us/step - loss: 0.1010 - accuracy: 0.9654 - val_loss: 0.0933 - val_accuracy: 0.9674\n",
      "Epoch 32/50\n",
      "834036/834036 [==============================] - 328s 393us/step - loss: 0.1004 - accuracy: 0.9654 - val_loss: 0.0966 - val_accuracy: 0.9673\n",
      "Epoch 33/50\n",
      "834036/834036 [==============================] - 334s 400us/step - loss: 0.1000 - accuracy: 0.9656 - val_loss: 0.0910 - val_accuracy: 0.9695\n",
      "Epoch 34/50\n",
      "834036/834036 [==============================] - 334s 400us/step - loss: 0.0993 - accuracy: 0.9660 - val_loss: 0.0967 - val_accuracy: 0.9653\n",
      "Epoch 35/50\n",
      "834036/834036 [==============================] - 337s 404us/step - loss: 0.0986 - accuracy: 0.9660 - val_loss: 0.0971 - val_accuracy: 0.9657\n",
      "Epoch 36/50\n",
      "834036/834036 [==============================] - 343s 411us/step - loss: 0.0981 - accuracy: 0.9662 - val_loss: 0.0998 - val_accuracy: 0.9643\n",
      "Epoch 37/50\n",
      "834036/834036 [==============================] - 343s 411us/step - loss: 0.0973 - accuracy: 0.9665 - val_loss: 0.0959 - val_accuracy: 0.9673\n",
      "Epoch 38/50\n",
      "834036/834036 [==============================] - 344s 412us/step - loss: 0.0976 - accuracy: 0.9663 - val_loss: 0.0967 - val_accuracy: 0.9662\n",
      "Epoch 39/50\n",
      "834036/834036 [==============================] - 334s 401us/step - loss: 0.0967 - accuracy: 0.9665 - val_loss: 0.0931 - val_accuracy: 0.9692\n",
      "Epoch 40/50\n",
      "834036/834036 [==============================] - 343s 411us/step - loss: 0.0966 - accuracy: 0.9665 - val_loss: 0.0895 - val_accuracy: 0.9690\n",
      "Epoch 41/50\n",
      "834036/834036 [==============================] - 342s 410us/step - loss: 0.0958 - accuracy: 0.9669 - val_loss: 0.0945 - val_accuracy: 0.9663\n",
      "Epoch 42/50\n",
      "834036/834036 [==============================] - 342s 410us/step - loss: 0.0955 - accuracy: 0.9670 - val_loss: 0.0885 - val_accuracy: 0.9702\n",
      "Epoch 43/50\n",
      "834036/834036 [==============================] - 333s 399us/step - loss: 0.0955 - accuracy: 0.9671 - val_loss: 0.0901 - val_accuracy: 0.9699\n",
      "Epoch 44/50\n",
      "834036/834036 [==============================] - 332s 398us/step - loss: 0.0949 - accuracy: 0.9672 - val_loss: 0.0877 - val_accuracy: 0.9695\n",
      "Epoch 45/50\n",
      "834036/834036 [==============================] - 342s 410us/step - loss: 0.0945 - accuracy: 0.9674 - val_loss: 0.0954 - val_accuracy: 0.9683\n",
      "Epoch 46/50\n",
      "834036/834036 [==============================] - 344s 412us/step - loss: 0.0940 - accuracy: 0.9674 - val_loss: 0.0880 - val_accuracy: 0.9700\n",
      "Epoch 47/50\n",
      "834036/834036 [==============================] - 342s 411us/step - loss: 0.0931 - accuracy: 0.9675 - val_loss: 0.0891 - val_accuracy: 0.9693\n",
      "Epoch 48/50\n",
      "834036/834036 [==============================] - 342s 410us/step - loss: 0.0931 - accuracy: 0.9676 - val_loss: 0.0893 - val_accuracy: 0.9689\n",
      "Epoch 49/50\n",
      "834036/834036 [==============================] - 343s 411us/step - loss: 0.0934 - accuracy: 0.9675 - val_loss: 0.0926 - val_accuracy: 0.9661\n",
      "Epoch 50/50\n",
      "834036/834036 [==============================] - 342s 411us/step - loss: 0.0925 - accuracy: 0.9680 - val_loss: 0.0947 - val_accuracy: 0.9674\n"
     ]
    }
   ],
   "source": [
    "np.random.seed(123)\n",
    "results_2 = model_2.fit(train_images, train_labels, epochs=50, validation_data=(val_images, val_labels), batch_size=32, verbose=1)"
   ]
  },
  {
   "cell_type": "code",
   "execution_count": 25,
   "metadata": {},
   "outputs": [
    {
     "data": {
      "text/plain": [
       "dict_keys(['val_loss', 'val_accuracy', 'loss', 'accuracy'])"
      ]
     },
     "execution_count": 25,
     "metadata": {},
     "output_type": "execute_result"
    }
   ],
   "source": [
    "results_2.history.keys()"
   ]
  },
  {
   "cell_type": "code",
   "execution_count": 26,
   "metadata": {},
   "outputs": [],
   "source": [
    "def visualize_training_results(results):\n",
    "    history = results.history\n",
    "    plt.figure()\n",
    "    plt.plot(history['val_loss'])\n",
    "    plt.plot(history['loss'])\n",
    "    plt.legend(['val_loss', 'loss'])\n",
    "    plt.title('Loss')\n",
    "    plt.xlabel('Epochs')\n",
    "    plt.ylabel('Loss')\n",
    "    plt.show()\n",
    "    \n",
    "    plt.figure()\n",
    "    plt.plot(history['val_accuracy'])\n",
    "    plt.plot(history['accuracy'])\n",
    "    plt.legend(['val_accuracy', 'accuracy'])\n",
    "    plt.title('Accuracy')\n",
    "    plt.xlabel('Epochs')\n",
    "    plt.ylabel('Accuracy')\n",
    "    plt.show()"
   ]
  },
  {
   "cell_type": "code",
   "execution_count": 27,
   "metadata": {},
   "outputs": [
    {
     "data": {
      "image/png": "[encoded data removed]",
      "text/plain": [
       "<Figure size 432x288 with 1 Axes>"
      ]
     },
     "metadata": {
      "needs_background": "light"
     },
     "output_type": "display_data"
    },
    {
     "data": {
      "image/png": "[encoded data removed]",
      "text/plain": [
       "<Figure size 432x288 with 1 Axes>"
      ]
     },
     "metadata": {
      "needs_background": "light"
     },
     "output_type": "display_data"
    }
   ],
   "source": [
    "visualize_training_results(results_2)"
   ]
  },
  {
   "cell_type": "code",
   "execution_count": 29,
   "metadata": {},
   "outputs": [],
   "source": [
    "# Save model\n",
    "\n",
    "model_2.save('saved_models/CNN_model_2')"
   ]
  },
  {
   "cell_type": "code",
   "execution_count": 32,
   "metadata": {},
   "outputs": [],
   "source": [
    "# Load model\n",
    "\n",
    "model_2 = keras.models.load_model('saved_models/CNN_model_2')"
   ]
  },
  {
   "cell_type": "code",
   "execution_count": 32,
   "metadata": {},
   "outputs": [],
   "source": [
    "from keras import models"
   ]
  },
  {
   "cell_type": "code",
   "execution_count": 34,
   "metadata": {},
   "outputs": [],
   "source": [
    "# Extract model layer outputs\n",
    "layer_outputs = [layer.output for layer in model_2.layers[:8]]\n",
    "\n",
    "# Rather then a model with a single output, we are going to make a model to display the feature maps\n",
    "activation_model = models.Model(inputs=model_2.input, outputs=layer_outputs)"
   ]
  },
  {
   "cell_type": "code",
   "execution_count": null,
   "metadata": {},
   "outputs": [],
   "source": [
    "image_path = \"dataset/handwritting_names/train_v2/train/TRAIN_00411.jpg\"\n",
    "\n",
    "img = image.load_img(img_)"
   ]
  },
  {
   "cell_type": "code",
   "execution_count": 36,
   "metadata": {},
   "outputs": [],
   "source": [
    "names_train = pd.read_csv('dataset/handwritting_names/written_name_train_v2.csv')"
   ]
  },
  {
   "cell_type": "code",
   "execution_count": 37,
   "metadata": {
    "scrolled": true
   },
   "outputs": [
    {
     "data": {
      "text/html": [
       "<div>\n",
       "<style scoped>\n",
       "    .dataframe tbody tr th:only-of-type {\n",
       "        vertical-align: middle;\n",
       "    }\n",
       "\n",
       "    .dataframe tbody tr th {\n",
       "        vertical-align: top;\n",
       "    }\n",
       "\n",
       "    .dataframe thead th {\n",
       "        text-align: right;\n",
       "    }\n",
       "</style>\n",
       "<table border=\"1\" class=\"dataframe\">\n",
       "  <thead>\n",
       "    <tr style=\"text-align: right;\">\n",
       "      <th></th>\n",
       "      <th>FILENAME</th>\n",
       "      <th>IDENTITY</th>\n",
       "    </tr>\n",
       "  </thead>\n",
       "  <tbody>\n",
       "    <tr>\n",
       "      <th>0</th>\n",
       "      <td>TRAIN_00001.jpg</td>\n",
       "      <td>BALTHAZAR</td>\n",
       "    </tr>\n",
       "    <tr>\n",
       "      <th>1</th>\n",
       "      <td>TRAIN_00002.jpg</td>\n",
       "      <td>SIMON</td>\n",
       "    </tr>\n",
       "    <tr>\n",
       "      <th>2</th>\n",
       "      <td>TRAIN_00003.jpg</td>\n",
       "      <td>BENES</td>\n",
       "    </tr>\n",
       "    <tr>\n",
       "      <th>3</th>\n",
       "      <td>TRAIN_00004.jpg</td>\n",
       "      <td>LA LOVE</td>\n",
       "    </tr>\n",
       "    <tr>\n",
       "      <th>4</th>\n",
       "      <td>TRAIN_00005.jpg</td>\n",
       "      <td>DAPHNE</td>\n",
       "    </tr>\n",
       "  </tbody>\n",
       "</table>\n",
       "</div>"
      ],
      "text/plain": [
       "          FILENAME   IDENTITY\n",
       "0  TRAIN_00001.jpg  BALTHAZAR\n",
       "1  TRAIN_00002.jpg      SIMON\n",
       "2  TRAIN_00003.jpg      BENES\n",
       "3  TRAIN_00004.jpg    LA LOVE\n",
       "4  TRAIN_00005.jpg     DAPHNE"
      ]
     },
     "execution_count": 37,
     "metadata": {},
     "output_type": "execute_result"
    }
   ],
   "source": [
    "names_train.head()"
   ]
  },
  {
   "cell_type": "code",
   "execution_count": 38,
   "metadata": {
    "scrolled": false
   },
   "outputs": [
    {
     "data": {
      "text/plain": [
       "THOMAS       1825\n",
       "EMPTY        1796\n",
       "LEA          1582\n",
       "EMMA         1482\n",
       "LUCAS        1479\n",
       "CAMILLE      1367\n",
       "HUGO         1367\n",
       "CLEMENT      1313\n",
       "MANON        1277\n",
       "LOUIS        1257\n",
       "THEO         1214\n",
       "CHLOE        1204\n",
       "ANTOINE      1168\n",
       "MARIE        1156\n",
       "ENZO         1148\n",
       "CLARA        1143\n",
       "PAUL         1118\n",
       "NATHAN       1107\n",
       "ALEXANDRE    1080\n",
       "MAXIME       1066\n",
       "Name: IDENTITY, dtype: int64"
      ]
     },
     "execution_count": 38,
     "metadata": {},
     "output_type": "execute_result"
    }
   ],
   "source": [
    "names_train.IDENTITY.value_counts().head(20)"
   ]
  },
  {
   "cell_type": "code",
   "execution_count": 39,
   "metadata": {},
   "outputs": [
    {
     "data": {
      "text/html": [
       "<div>\n",
       "<style scoped>\n",
       "    .dataframe tbody tr th:only-of-type {\n",
       "        vertical-align: middle;\n",
       "    }\n",
       "\n",
       "    .dataframe tbody tr th {\n",
       "        vertical-align: top;\n",
       "    }\n",
       "\n",
       "    .dataframe thead th {\n",
       "        text-align: right;\n",
       "    }\n",
       "</style>\n",
       "<table border=\"1\" class=\"dataframe\">\n",
       "  <thead>\n",
       "    <tr style=\"text-align: right;\">\n",
       "      <th></th>\n",
       "      <th>FILENAME</th>\n",
       "      <th>IDENTITY</th>\n",
       "    </tr>\n",
       "  </thead>\n",
       "  <tbody>\n",
       "    <tr>\n",
       "      <th>256</th>\n",
       "      <td>TRAIN_00257.jpg</td>\n",
       "      <td>CLARA</td>\n",
       "    </tr>\n",
       "    <tr>\n",
       "      <th>410</th>\n",
       "      <td>TRAIN_00411.jpg</td>\n",
       "      <td>CLARA</td>\n",
       "    </tr>\n",
       "    <tr>\n",
       "      <th>440</th>\n",
       "      <td>TRAIN_00441.jpg</td>\n",
       "      <td>CLARA</td>\n",
       "    </tr>\n",
       "    <tr>\n",
       "      <th>1142</th>\n",
       "      <td>TRAIN_01143.jpg</td>\n",
       "      <td>CLARA</td>\n",
       "    </tr>\n",
       "    <tr>\n",
       "      <th>1164</th>\n",
       "      <td>TRAIN_01165.jpg</td>\n",
       "      <td>CLARA</td>\n",
       "    </tr>\n",
       "    <tr>\n",
       "      <th>1480</th>\n",
       "      <td>TRAIN_01481.jpg</td>\n",
       "      <td>CLARA</td>\n",
       "    </tr>\n",
       "    <tr>\n",
       "      <th>1808</th>\n",
       "      <td>TRAIN_01809.jpg</td>\n",
       "      <td>CLARA</td>\n",
       "    </tr>\n",
       "    <tr>\n",
       "      <th>2020</th>\n",
       "      <td>TRAIN_02021.jpg</td>\n",
       "      <td>CLARA</td>\n",
       "    </tr>\n",
       "    <tr>\n",
       "      <th>2511</th>\n",
       "      <td>TRAIN_02512.jpg</td>\n",
       "      <td>CLARA</td>\n",
       "    </tr>\n",
       "    <tr>\n",
       "      <th>2596</th>\n",
       "      <td>TRAIN_02597.jpg</td>\n",
       "      <td>CLARA</td>\n",
       "    </tr>\n",
       "  </tbody>\n",
       "</table>\n",
       "</div>"
      ],
      "text/plain": [
       "             FILENAME IDENTITY\n",
       "256   TRAIN_00257.jpg    CLARA\n",
       "410   TRAIN_00411.jpg    CLARA\n",
       "440   TRAIN_00441.jpg    CLARA\n",
       "1142  TRAIN_01143.jpg    CLARA\n",
       "1164  TRAIN_01165.jpg    CLARA\n",
       "1480  TRAIN_01481.jpg    CLARA\n",
       "1808  TRAIN_01809.jpg    CLARA\n",
       "2020  TRAIN_02021.jpg    CLARA\n",
       "2511  TRAIN_02512.jpg    CLARA\n",
       "2596  TRAIN_02597.jpg    CLARA"
      ]
     },
     "execution_count": 39,
     "metadata": {},
     "output_type": "execute_result"
    }
   ],
   "source": [
    "names_train[names_train.IDENTITY == 'CLARA'].head(10)"
   ]
  },
  {
   "cell_type": "code",
   "execution_count": 29,
   "metadata": {},
   "outputs": [],
   "source": [
    "# plot confusion matrix"
   ]
  },
  {
   "cell_type": "code",
   "execution_count": 40,
   "metadata": {},
   "outputs": [],
   "source": [
    "def sort_contours(cnts, method='left-to-right'):\n",
    "    reverse = False\n",
    "    i = 0\n",
    "    if method == 'right-to-left' or method == 'bottom-to-top':\n",
    "        reverse = True\n",
    "    if method == 'top-to-bottom' or method == 'botton-to-top':\n",
    "        i = 1\n",
    "    boundingBoxes = [cv2.boundingRect(c) for c in cnts]\n",
    "    (cnts, boundingBoxes) = zip(*sorted(zip(cnts, boundingBoxes),\n",
    "       key = lambda b:b[1][i], reverse=reverse))\n",
    "    return (cnts, boundingBoxes)"
   ]
  },
  {
   "cell_type": "code",
   "execution_count": 41,
   "metadata": {},
   "outputs": [],
   "source": [
    "def get_letters(img):\n",
    "    letters = []\n",
    "    image = cv2.imread(img)\n",
    "    gray = cv2.cvtColor(image, cv2.COLOR_BGR2GRAY)\n",
    "    ret,thresh1 = cv2.threshold(gray ,127,255,cv2.THRESH_BINARY_INV)\n",
    "    dilated = cv2.dilate(thresh1, None, iterations=2)\n",
    "\n",
    "    cnts = cv2.findContours(dilated.copy(), cv2.RETR_EXTERNAL,cv2.CHAIN_APPROX_SIMPLE)\n",
    "    cnts = imutils.grab_contours(cnts)\n",
    "    cnts = sort_contours(cnts, method=\"left-to-right\")[0]\n",
    "    # loop over the contours\n",
    "    for c in cnts:\n",
    "        if cv2.contourArea(c) > 10:\n",
    "            (x, y, w, h) = cv2.boundingRect(c)\n",
    "            cv2.rectangle(image, (x, y), (x + w, y + h), (0, 255, 255), 2)\n",
    "        roi = gray[y:y + h, x:x + w]\n",
    "        thresh = cv2.threshold(roi, 0, 255,cv2.THRESH_BINARY_INV | cv2.THRESH_OTSU)[1]\n",
    "        thresh = cv2.resize(thresh, (32, 32), interpolation = cv2.INTER_CUBIC)\n",
    "        thresh = thresh.astype(\"float32\") / 255.0\n",
    "        thresh = np.expand_dims(thresh, axis=-1)\n",
    "        thresh = thresh.reshape(1,32,32,1)\n",
    "        ypred = model_2.predict(thresh)\n",
    "        ypred = LB.inverse_transform(ypred)\n",
    "        ypred = [k for k, v in train_generator.class_indices.items() if v == ypred]\n",
    "        [x] = ypred\n",
    "        letters.append(x)\n",
    "    return letters, image"
   ]
  },
  {
   "cell_type": "code",
   "execution_count": 42,
   "metadata": {},
   "outputs": [],
   "source": [
    "# gray = cv2.cvtColor(image, cv2.COLOR_BGR2GRAY)"
   ]
  },
  {
   "cell_type": "code",
   "execution_count": 43,
   "metadata": {},
   "outputs": [],
   "source": [
    "# ret,thresh1 = cv2.threshold(gray ,127,255,cv2.THRESH_BINARY_INV)"
   ]
  },
  {
   "cell_type": "code",
   "execution_count": 44,
   "metadata": {},
   "outputs": [],
   "source": [
    "# dilated = cv2.dilate(thresh1, None, iterations=2)"
   ]
  },
  {
   "cell_type": "code",
   "execution_count": 45,
   "metadata": {},
   "outputs": [],
   "source": [
    "# cnts = cv2.findContours(dilated.copy(), cv2.RETR_EXTERNAL,cv2.CHAIN_APPROX_SIMPLE)"
   ]
  },
  {
   "cell_type": "code",
   "execution_count": 46,
   "metadata": {},
   "outputs": [],
   "source": [
    "# cnts = imutils.grab_contours(cnts)"
   ]
  },
  {
   "cell_type": "code",
   "execution_count": 47,
   "metadata": {},
   "outputs": [],
   "source": [
    "# cnts = sort_contours(cnts, method=\"left-to-right\")[0]"
   ]
  },
  {
   "cell_type": "code",
   "execution_count": 48,
   "metadata": {},
   "outputs": [],
   "source": [
    "# for c in cnts:\n",
    "#         if cv2.contourArea(c) > 10:\n",
    "#             (x, y, w, h) = cv2.boundingRect(c)\n",
    "#             cv2.rectangle(image, (x, y), (x + w, y + h), (0, 255, 0), 2)"
   ]
  },
  {
   "cell_type": "code",
   "execution_count": 49,
   "metadata": {},
   "outputs": [],
   "source": [
    "# roi = gray[y:y + h, x:x + w]"
   ]
  },
  {
   "cell_type": "code",
   "execution_count": 50,
   "metadata": {},
   "outputs": [],
   "source": [
    "# thresh = cv2.threshold(roi, 0, 255,cv2.THRESH_BINARY_INV | cv2.THRESH_OTSU)[1]"
   ]
  },
  {
   "cell_type": "code",
   "execution_count": 51,
   "metadata": {},
   "outputs": [],
   "source": [
    "# thresh = cv2.resize(thresh, (32, 32), interpolation = cv2.INTER_CUBIC)"
   ]
  },
  {
   "cell_type": "code",
   "execution_count": 52,
   "metadata": {},
   "outputs": [],
   "source": [
    "# thresh = thresh.astype(\"float32\") / 255.0"
   ]
  },
  {
   "cell_type": "code",
   "execution_count": 53,
   "metadata": {},
   "outputs": [],
   "source": [
    "# thresh = np.expand_dims(thresh, axis=-1)"
   ]
  },
  {
   "cell_type": "code",
   "execution_count": 54,
   "metadata": {},
   "outputs": [],
   "source": [
    "# thresh = thresh.reshape(1,32,32,1)"
   ]
  },
  {
   "cell_type": "code",
   "execution_count": 55,
   "metadata": {},
   "outputs": [],
   "source": [
    "# ypred = model_1.predict(thresh)"
   ]
  },
  {
   "cell_type": "code",
   "execution_count": 56,
   "metadata": {},
   "outputs": [],
   "source": [
    "# ypred = LB.inverse_transform(ypred)"
   ]
  },
  {
   "cell_type": "code",
   "execution_count": 57,
   "metadata": {},
   "outputs": [],
   "source": [
    "# ypred"
   ]
  },
  {
   "cell_type": "code",
   "execution_count": null,
   "metadata": {},
   "outputs": [],
   "source": []
  },
  {
   "cell_type": "code",
   "execution_count": 58,
   "metadata": {},
   "outputs": [],
   "source": [
    "def get_word(letter):\n",
    "    word = \"\".join(letter)\n",
    "    return word"
   ]
  },
  {
   "cell_type": "code",
   "execution_count": 59,
   "metadata": {
    "scrolled": true
   },
   "outputs": [
    {
     "name": "stdout",
     "output_type": "stream",
     "text": [
      "CLARA\n"
     ]
    },
    {
     "data": {
      "text/plain": [
       "<matplotlib.image.AxesImage at 0x29422a2afc8>"
      ]
     },
     "execution_count": 59,
     "metadata": {},
     "output_type": "execute_result"
    },
    {
     "data": {
      "image/png": "[encoded data removed]",
      "text/plain": [
       "<Figure size 432x288 with 1 Axes>"
      ]
     },
     "metadata": {
      "needs_background": "light"
     },
     "output_type": "display_data"
    }
   ],
   "source": [
    "letter, image = get_letters(\"dataset/handwritting_names/train_v2/train/TRAIN_00411.jpg\")\n",
    "word = get_word(letter)\n",
    "print(word)\n",
    "plt.imshow(image)"
   ]
  },
  {
   "cell_type": "code",
   "execution_count": null,
   "metadata": {},
   "outputs": [],
   "source": []
  }
 ],
 "metadata": {
  "kernelspec": {
   "display_name": "Python 3.7 (tensorflow)",
   "language": "python",
   "name": "tensorflow"
  },
  "language_info": {
   "codemirror_mode": {
    "name": "ipython",
    "version": 3
   },
   "file_extension": ".py",
   "mimetype": "text/x-python",
   "name": "python",
   "nbconvert_exporter": "python",
   "pygments_lexer": "ipython3",
   "version": "3.7.9"
  },
  "toc": {
   "base_numbering": 1,
   "nav_menu": {},
   "number_sections": true,
   "sideBar": true,
   "skip_h1_title": false,
   "title_cell": "Table of Contents",
   "title_sidebar": "Contents",
   "toc_cell": false,
   "toc_position": {},
   "toc_section_display": true,
   "toc_window_display": false
  }
 },
 "nbformat": 4,
 "nbformat_minor": 4
}
