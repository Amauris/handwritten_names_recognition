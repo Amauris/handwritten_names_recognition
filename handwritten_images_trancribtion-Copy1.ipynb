{
 "cells": [
  {
   "cell_type": "code",
   "execution_count": 1,
   "metadata": {},
   "outputs": [
    {
     "name": "stderr",
     "output_type": "stream",
     "text": [
      "Using TensorFlow backend.\n"
     ]
    }
   ],
   "source": [
    "import tensorflow as tf\n",
    "import numpy as np\n",
    "import pandas as pd\n",
    "from keras.preprocessing.image import ImageDataGenerator\n",
    "import os\n",
    "import random \n",
    "import cv2\n",
    "import imutils\n",
    "import random\n",
    "import matplotlib.pyplot as plt\n",
    "import seaborn as sns\n",
    "from sklearn.preprocessing import LabelBinarizer\n",
    "import keras\n",
    "from keras.utils import np_utils\n",
    "from keras.models import Model, Sequential\n",
    "from keras import optimizers\n",
    "from sklearn.preprocessing import LabelBinarizer\n",
    "from keras import backend as K\n",
    "from keras.layers import Dense, Activation, Flatten, Dense,MaxPooling2D, Dropout\n",
    "from keras.layers import Conv2D, MaxPooling2D, BatchNormalization\n",
    "from sklearn.metrics import confusion_matrix, f1_score\n",
    "from keras.applications.resnet50 import ResNet50\n",
    "from tensorflow.keras.preprocessing.image import ImageDataGenerator, array_to_img, img_to_array, load_img\n",
    "import pickle\n",
    "\n",
    "np.random.seed(123)"
   ]
  },
  {
   "cell_type": "code",
   "execution_count": 2,
   "metadata": {},
   "outputs": [
    {
     "name": "stdout",
     "output_type": "stream",
     "text": [
      "Tensor Flow Version: 2.1.0\n",
      "Keras Version: 2.2.4-tf\n",
      "\n",
      "Python 3.7.9 (default, Aug 31 2020, 17:10:11) [MSC v.1916 64 bit (AMD64)]\n",
      "Pandas 1.2.1\n",
      "Scikit-Learn 0.24.1\n",
      "GPU is available\n"
     ]
    }
   ],
   "source": [
    "import sys\n",
    "\n",
    "import tensorflow.keras\n",
    "import pandas as pd\n",
    "import sklearn as sk\n",
    "import tensorflow as tf\n",
    "\n",
    "print(f\"Tensor Flow Version: {tf.__version__}\")\n",
    "print(f\"Keras Version: {tensorflow.keras.__version__}\")\n",
    "print()\n",
    "print(f\"Python {sys.version}\")\n",
    "print(f\"Pandas {pd.__version__}\")\n",
    "print(f\"Scikit-Learn {sk.__version__}\")\n",
    "gpu = len(tf.config.list_physical_devices('GPU'))>0\n",
    "print(\"GPU is\", \"available\" if gpu else \"NOT AVAILABLE\")"
   ]
  },
  {
   "cell_type": "code",
   "execution_count": 4,
   "metadata": {
    "scrolled": true
   },
   "outputs": [
    {
     "name": "stdout",
     "output_type": "stream",
     "text": [
      "Found 834036 images belonging to 39 classes.\n",
      "Found 22524 images belonging to 39 classes.\n"
     ]
    }
   ],
   "source": [
    "train_dir = 'dataset/handwritten_character/Train'\n",
    "val_dir = 'dataset/handwritten_character/Validation'\n",
    "\n",
    "idg = ImageDataGenerator(rescale=1./255)\n",
    "\n",
    "train_generator = idg.flow_from_directory(train_dir, color_mode = 'grayscale',\n",
    "                                         target_size=(32, 32),\n",
    "                                         batch_size = 834036,\n",
    "                                         class_mode ='binary')\n",
    "\n",
    "valid_generator = idg.flow_from_directory(val_dir, color_mode = 'grayscale',\n",
    "                                         target_size=(32, 32),\n",
    "                                         batch_size = 22524,\n",
    "                                         class_mode ='binary')\n",
    "\n",
    "train_images, train_labels = next(train_generator)\n",
    "val_images, val_labels = next(valid_generator)"
   ]
  },
  {
   "cell_type": "code",
   "execution_count": 5,
   "metadata": {},
   "outputs": [
    {
     "data": {
      "text/plain": [
       "{'#': 0,\n",
       " '$': 1,\n",
       " '&': 2,\n",
       " '0': 3,\n",
       " '1': 4,\n",
       " '2': 5,\n",
       " '3': 6,\n",
       " '4': 7,\n",
       " '5': 8,\n",
       " '6': 9,\n",
       " '7': 10,\n",
       " '8': 11,\n",
       " '9': 12,\n",
       " '@': 13,\n",
       " 'A': 14,\n",
       " 'B': 15,\n",
       " 'C': 16,\n",
       " 'D': 17,\n",
       " 'E': 18,\n",
       " 'F': 19,\n",
       " 'G': 20,\n",
       " 'H': 21,\n",
       " 'I': 22,\n",
       " 'J': 23,\n",
       " 'K': 24,\n",
       " 'L': 25,\n",
       " 'M': 26,\n",
       " 'N': 27,\n",
       " 'P': 28,\n",
       " 'Q': 29,\n",
       " 'R': 30,\n",
       " 'S': 31,\n",
       " 'T': 32,\n",
       " 'U': 33,\n",
       " 'V': 34,\n",
       " 'W': 35,\n",
       " 'X': 36,\n",
       " 'Y': 37,\n",
       " 'Z': 38}"
      ]
     },
     "execution_count": 5,
     "metadata": {},
     "output_type": "execute_result"
    }
   ],
   "source": [
    "train_generator.class_indices"
   ]
  },
  {
   "cell_type": "code",
   "execution_count": 6,
   "metadata": {},
   "outputs": [
    {
     "data": {
      "text/plain": [
       "array([ 0,  0,  0, ..., 38, 38, 38])"
      ]
     },
     "execution_count": 6,
     "metadata": {},
     "output_type": "execute_result"
    }
   ],
   "source": [
    "train_generator.classes"
   ]
  },
  {
   "cell_type": "code",
   "execution_count": 7,
   "metadata": {},
   "outputs": [],
   "source": [
    "#figure out how to save and load files using pickle"
   ]
  },
  {
   "cell_type": "code",
   "execution_count": 8,
   "metadata": {},
   "outputs": [
    {
     "name": "stdout",
     "output_type": "stream",
     "text": [
      "Train images:  (834036, 32, 32, 1)\n",
      "Val images:  (22524, 32, 32, 1)\n",
      "Train labels:  (834036,)\n",
      "Val labels:  (22524,)\n"
     ]
    }
   ],
   "source": [
    "print('Train images: ', train_images.shape)\n",
    "print('Val images: ', val_images.shape)\n",
    "print('Train labels: ', train_labels.shape)\n",
    "print('Val labels: ', val_labels.shape)"
   ]
  },
  {
   "cell_type": "code",
   "execution_count": 9,
   "metadata": {},
   "outputs": [
    {
     "data": {
      "text/plain": [
       "(834036, 32, 32, 1)"
      ]
     },
     "execution_count": 9,
     "metadata": {},
     "output_type": "execute_result"
    }
   ],
   "source": [
    "train_images.shape"
   ]
  },
  {
   "cell_type": "code",
   "execution_count": 10,
   "metadata": {},
   "outputs": [
    {
     "data": {
      "image/png": "[encoded data removed]",
      "text/plain": [
       "<PIL.Image.Image image mode=L size=32x32 at 0x17213625908>"
      ]
     },
     "execution_count": 10,
     "metadata": {},
     "output_type": "execute_result"
    }
   ],
   "source": [
    "array_to_img(train_images[0])"
   ]
  },
  {
   "cell_type": "code",
   "execution_count": 13,
   "metadata": {},
   "outputs": [
    {
     "data": {
      "text/plain": [
       "array([25.,  6.,  9., ...,  1.,  8., 32.], dtype=float32)"
      ]
     },
     "execution_count": 13,
     "metadata": {},
     "output_type": "execute_result"
    }
   ],
   "source": [
    "train_labels"
   ]
  },
  {
   "cell_type": "code",
   "execution_count": 14,
   "metadata": {},
   "outputs": [],
   "source": [
    "LB = LabelBinarizer()\n",
    "train_labels = LB.fit_transform(train_labels)\n",
    "val_labels = LB.fit_transform(val_labels)"
   ]
  },
  {
   "cell_type": "code",
   "execution_count": 15,
   "metadata": {},
   "outputs": [
    {
     "data": {
      "text/plain": [
       "array([[0, 0, 0, ..., 0, 0, 0],\n",
       "       [0, 0, 0, ..., 0, 0, 0],\n",
       "       [0, 0, 0, ..., 0, 0, 0],\n",
       "       ...,\n",
       "       [0, 1, 0, ..., 0, 0, 0],\n",
       "       [0, 0, 0, ..., 0, 0, 0],\n",
       "       [0, 0, 0, ..., 0, 0, 0]])"
      ]
     },
     "execution_count": 15,
     "metadata": {},
     "output_type": "execute_result"
    }
   ],
   "source": [
    "train_labels"
   ]
  },
  {
   "cell_type": "code",
   "execution_count": 16,
   "metadata": {},
   "outputs": [],
   "source": [
    "train_labels = np.array(train_labels)\n",
    "val_labels = np.array(val_labels)"
   ]
  },
  {
   "cell_type": "code",
   "execution_count": 17,
   "metadata": {},
   "outputs": [
    {
     "data": {
      "text/plain": [
       "array([[0, 0, 0, ..., 0, 0, 0],\n",
       "       [0, 0, 0, ..., 0, 0, 0],\n",
       "       [0, 0, 0, ..., 0, 0, 0],\n",
       "       ...,\n",
       "       [0, 1, 0, ..., 0, 0, 0],\n",
       "       [0, 0, 0, ..., 0, 0, 0],\n",
       "       [0, 0, 0, ..., 0, 0, 0]])"
      ]
     },
     "execution_count": 17,
     "metadata": {},
     "output_type": "execute_result"
    }
   ],
   "source": [
    "train_labels"
   ]
  },
  {
   "cell_type": "code",
   "execution_count": 18,
   "metadata": {},
   "outputs": [],
   "source": [
    "#plot more images her letters to visualize"
   ]
  },
  {
   "cell_type": "code",
   "execution_count": 19,
   "metadata": {
    "scrolled": true
   },
   "outputs": [],
   "source": [
    "# restnet = ResNet50(include_top=False, weights='imagenet')"
   ]
  },
  {
   "cell_type": "code",
   "execution_count": 20,
   "metadata": {},
   "outputs": [],
   "source": [
    "# output = restnet.layers[-1].output\n",
    "# output= keras.layers.Flatten()(output)"
   ]
  },
  {
   "cell_type": "code",
   "execution_count": 21,
   "metadata": {},
   "outputs": [],
   "source": [
    "# restnet = Model(restnet.input, output=output)"
   ]
  },
  {
   "cell_type": "code",
   "execution_count": 22,
   "metadata": {},
   "outputs": [],
   "source": [
    "model_1 = Sequential()\n",
    "\n",
    "model_1.add(Conv2D(32, (3, 3), padding = 'same', activation='relu', input_shape=(32, 32, 1)))\n",
    "model_1.add(MaxPooling2D(pool_size=(2,2)))\n",
    "model_1.add(Conv2D(64, (3, 3), activation='relu'))\n",
    "model_1.add(MaxPooling2D(pool_size=(2, 2)))\n",
    "model_1.add(Conv2D(128, (3, 3), activation='relu'))\n",
    "model_1.add(MaxPooling2D(pool_size=(2,2)))\n",
    "model_1.add(Dropout(.025))\n",
    "\n",
    "model_1.add(Flatten())\n",
    "model_1.add(Dense(128, activation='relu'))\n",
    "model_1.add(Dropout(0.2))\n",
    "model_1.add(Dense(39, activation='softmax'))"
   ]
  },
  {
   "cell_type": "code",
   "execution_count": 23,
   "metadata": {},
   "outputs": [
    {
     "name": "stdout",
     "output_type": "stream",
     "text": [
      "Model: \"sequential_1\"\n",
      "_________________________________________________________________\n",
      "Layer (type)                 Output Shape              Param #   \n",
      "=================================================================\n",
      "conv2d_1 (Conv2D)            (None, 32, 32, 32)        320       \n",
      "_________________________________________________________________\n",
      "max_pooling2d_1 (MaxPooling2 (None, 16, 16, 32)        0         \n",
      "_________________________________________________________________\n",
      "conv2d_2 (Conv2D)            (None, 14, 14, 64)        18496     \n",
      "_________________________________________________________________\n",
      "max_pooling2d_2 (MaxPooling2 (None, 7, 7, 64)          0         \n",
      "_________________________________________________________________\n",
      "conv2d_3 (Conv2D)            (None, 5, 5, 128)         73856     \n",
      "_________________________________________________________________\n",
      "max_pooling2d_3 (MaxPooling2 (None, 2, 2, 128)         0         \n",
      "_________________________________________________________________\n",
      "dropout_1 (Dropout)          (None, 2, 2, 128)         0         \n",
      "_________________________________________________________________\n",
      "flatten_1 (Flatten)          (None, 512)               0         \n",
      "_________________________________________________________________\n",
      "dense_1 (Dense)              (None, 128)               65664     \n",
      "_________________________________________________________________\n",
      "dropout_2 (Dropout)          (None, 128)               0         \n",
      "_________________________________________________________________\n",
      "dense_2 (Dense)              (None, 39)                5031      \n",
      "=================================================================\n",
      "Total params: 163,367\n",
      "Trainable params: 163,367\n",
      "Non-trainable params: 0\n",
      "_________________________________________________________________\n"
     ]
    }
   ],
   "source": [
    "model_1.summary()"
   ]
  },
  {
   "cell_type": "code",
   "execution_count": 24,
   "metadata": {},
   "outputs": [],
   "source": [
    "model_1.compile(loss = 'categorical_crossentropy',\n",
    "             optimizer='adam',\n",
    "             metrics = ['accuracy'])"
   ]
  },
  {
   "cell_type": "code",
   "execution_count": 59,
   "metadata": {},
   "outputs": [
    {
     "name": "stdout",
     "output_type": "stream",
     "text": [
      "Train on 834036 samples, validate on 22524 samples\n",
      "Epoch 1/50\n",
      "834036/834036 [==============================] - 111s 133us/step - loss: 0.1537 - accuracy: 0.9482 - val_loss: 0.1663 - val_accuracy: 0.9519\n",
      "Epoch 2/50\n",
      "834036/834036 [==============================] - 111s 133us/step - loss: 0.1533 - accuracy: 0.9480 - val_loss: 0.1816 - val_accuracy: 0.9475\n",
      "Epoch 3/50\n",
      "834036/834036 [==============================] - 110s 132us/step - loss: 0.1524 - accuracy: 0.9483 - val_loss: 0.1761 - val_accuracy: 0.9478\n",
      "Epoch 4/50\n",
      "834036/834036 [==============================] - 112s 134us/step - loss: 0.1512 - accuracy: 0.9489 - val_loss: 0.1788 - val_accuracy: 0.9511\n",
      "Epoch 5/50\n",
      "834036/834036 [==============================] - 111s 134us/step - loss: 0.1494 - accuracy: 0.9495 - val_loss: 0.1707 - val_accuracy: 0.9475\n",
      "Epoch 6/50\n",
      "834036/834036 [==============================] - 111s 132us/step - loss: 0.1499 - accuracy: 0.9494 - val_loss: 0.1854 - val_accuracy: 0.9498\n",
      "Epoch 7/50\n",
      "834036/834036 [==============================] - 112s 135us/step - loss: 0.1491 - accuracy: 0.9500 - val_loss: 0.1734 - val_accuracy: 0.9507\n",
      "Epoch 8/50\n",
      "834036/834036 [==============================] - 118s 142us/step - loss: 0.1474 - accuracy: 0.9504 - val_loss: 0.1794 - val_accuracy: 0.9462\n",
      "Epoch 9/50\n",
      "834036/834036 [==============================] - 119s 143us/step - loss: 0.1489 - accuracy: 0.9502 - val_loss: 0.1809 - val_accuracy: 0.9455\n",
      "Epoch 10/50\n",
      "834036/834036 [==============================] - 121s 146us/step - loss: 0.1488 - accuracy: 0.9499 - val_loss: 0.1766 - val_accuracy: 0.9502\n",
      "Epoch 11/50\n",
      "834036/834036 [==============================] - 121s 145us/step - loss: 0.1501 - accuracy: 0.9498 - val_loss: 0.1844 - val_accuracy: 0.9455\n",
      "Epoch 12/50\n",
      "834036/834036 [==============================] - 121s 145us/step - loss: 0.1490 - accuracy: 0.9501 - val_loss: 0.1778 - val_accuracy: 0.9496\n",
      "Epoch 13/50\n",
      "834036/834036 [==============================] - 118s 142us/step - loss: 0.1501 - accuracy: 0.9503 - val_loss: 0.1711 - val_accuracy: 0.9505\n",
      "Epoch 14/50\n",
      "834036/834036 [==============================] - 119s 143us/step - loss: 0.1519 - accuracy: 0.9495 - val_loss: 0.1719 - val_accuracy: 0.9524\n",
      "Epoch 15/50\n",
      "834036/834036 [==============================] - 120s 144us/step - loss: 0.1509 - accuracy: 0.9498 - val_loss: 0.1899 - val_accuracy: 0.9483\n",
      "Epoch 16/50\n",
      "834036/834036 [==============================] - 119s 142us/step - loss: 0.1540 - accuracy: 0.9495 - val_loss: 0.1826 - val_accuracy: 0.9455\n",
      "Epoch 17/50\n",
      "834036/834036 [==============================] - 119s 142us/step - loss: 0.1523 - accuracy: 0.9499 - val_loss: 0.1811 - val_accuracy: 0.9503\n",
      "Epoch 18/50\n",
      "834036/834036 [==============================] - 119s 142us/step - loss: 0.1542 - accuracy: 0.9494 - val_loss: 0.1978 - val_accuracy: 0.9461\n",
      "Epoch 19/50\n",
      "834036/834036 [==============================] - 119s 143us/step - loss: 0.1554 - accuracy: 0.9492 - val_loss: 0.1897 - val_accuracy: 0.9453\n",
      "Epoch 20/50\n",
      "834036/834036 [==============================] - 119s 143us/step - loss: 0.1548 - accuracy: 0.9494 - val_loss: 0.2305 - val_accuracy: 0.9397\n",
      "Epoch 21/50\n",
      "834036/834036 [==============================] - 118s 142us/step - loss: 0.1562 - accuracy: 0.9488 - val_loss: 0.1931 - val_accuracy: 0.9490\n",
      "Epoch 22/50\n",
      "834036/834036 [==============================] - 119s 142us/step - loss: 0.1565 - accuracy: 0.9487 - val_loss: 0.1905 - val_accuracy: 0.9491\n",
      "Epoch 23/50\n",
      "834036/834036 [==============================] - 119s 143us/step - loss: 0.1595 - accuracy: 0.9482 - val_loss: 0.1919 - val_accuracy: 0.9461\n",
      "Epoch 24/50\n",
      "834036/834036 [==============================] - 119s 143us/step - loss: 0.1599 - accuracy: 0.9481 - val_loss: 0.1901 - val_accuracy: 0.9450\n",
      "Epoch 25/50\n",
      "834036/834036 [==============================] - 122s 146us/step - loss: 0.1610 - accuracy: 0.9478 - val_loss: 0.2084 - val_accuracy: 0.9485\n",
      "Epoch 26/50\n",
      "834036/834036 [==============================] - 119s 143us/step - loss: 0.1643 - accuracy: 0.9471 - val_loss: 0.1852 - val_accuracy: 0.9513\n",
      "Epoch 27/50\n",
      "834036/834036 [==============================] - 118s 141us/step - loss: 0.1635 - accuracy: 0.9473 - val_loss: 0.1998 - val_accuracy: 0.9460\n",
      "Epoch 28/50\n",
      "834036/834036 [==============================] - 121s 145us/step - loss: 0.1635 - accuracy: 0.9471 - val_loss: 0.1971 - val_accuracy: 0.9456\n",
      "Epoch 29/50\n",
      "834036/834036 [==============================] - 121s 146us/step - loss: 0.1694 - accuracy: 0.9464 - val_loss: 0.2023 - val_accuracy: 0.9443\n",
      "Epoch 30/50\n",
      "834036/834036 [==============================] - 120s 144us/step - loss: 0.1667 - accuracy: 0.9463 - val_loss: 0.1897 - val_accuracy: 0.9487\n",
      "Epoch 31/50\n",
      "834036/834036 [==============================] - 121s 145us/step - loss: 0.1694 - accuracy: 0.9459 - val_loss: 0.2152 - val_accuracy: 0.9436\n",
      "Epoch 32/50\n",
      "834036/834036 [==============================] - 121s 145us/step - loss: 0.1718 - accuracy: 0.9455 - val_loss: 0.2134 - val_accuracy: 0.9497\n",
      "Epoch 33/50\n",
      "834036/834036 [==============================] - 121s 146us/step - loss: 0.1705 - accuracy: 0.9455 - val_loss: 0.2130 - val_accuracy: 0.9461\n",
      "Epoch 34/50\n",
      "834036/834036 [==============================] - 122s 146us/step - loss: 0.1719 - accuracy: 0.9453 - val_loss: 0.2035 - val_accuracy: 0.9487\n",
      "Epoch 35/50\n",
      "834036/834036 [==============================] - 119s 143us/step - loss: 0.1740 - accuracy: 0.9447 - val_loss: 0.2003 - val_accuracy: 0.9476\n",
      "Epoch 36/50\n",
      "834036/834036 [==============================] - 120s 144us/step - loss: 0.1765 - accuracy: 0.9442 - val_loss: 0.2087 - val_accuracy: 0.9401\n",
      "Epoch 37/50\n",
      "834036/834036 [==============================] - 120s 144us/step - loss: 0.1757 - accuracy: 0.9445 - val_loss: 0.1931 - val_accuracy: 0.9458\n",
      "Epoch 38/50\n",
      "834036/834036 [==============================] - 119s 143us/step - loss: 0.1780 - accuracy: 0.9439 - val_loss: 0.2305 - val_accuracy: 0.9379\n",
      "Epoch 39/50\n",
      "834036/834036 [==============================] - 121s 145us/step - loss: 0.1801 - accuracy: 0.9431 - val_loss: 0.2007 - val_accuracy: 0.9459\n",
      "Epoch 40/50\n",
      "834036/834036 [==============================] - 123s 147us/step - loss: 0.1780 - accuracy: 0.9436 - val_loss: 0.2115 - val_accuracy: 0.9404\n",
      "Epoch 41/50\n",
      "834036/834036 [==============================] - 122s 147us/step - loss: 0.1800 - accuracy: 0.9433 - val_loss: 0.1966 - val_accuracy: 0.9433\n",
      "Epoch 42/50\n",
      "834036/834036 [==============================] - 122s 146us/step - loss: 0.1800 - accuracy: 0.9434 - val_loss: 0.2229 - val_accuracy: 0.9457\n",
      "Epoch 43/50\n",
      "834036/834036 [==============================] - 122s 146us/step - loss: 0.1832 - accuracy: 0.9425 - val_loss: 0.2121 - val_accuracy: 0.9433\n",
      "Epoch 44/50\n",
      "834036/834036 [==============================] - 122s 146us/step - loss: 0.1843 - accuracy: 0.9422 - val_loss: 0.2047 - val_accuracy: 0.9465\n",
      "Epoch 45/50\n",
      "834036/834036 [==============================] - 119s 143us/step - loss: 0.1851 - accuracy: 0.9422 - val_loss: 0.2059 - val_accuracy: 0.9423\n",
      "Epoch 46/50\n",
      "834036/834036 [==============================] - 119s 143us/step - loss: 0.1919 - accuracy: 0.9408 - val_loss: 0.2011 - val_accuracy: 0.9462\n",
      "Epoch 47/50\n",
      "834036/834036 [==============================] - 119s 143us/step - loss: 0.1890 - accuracy: 0.9413 - val_loss: 0.2214 - val_accuracy: 0.9420\n",
      "Epoch 48/50\n",
      "834036/834036 [==============================] - 121s 145us/step - loss: 0.1878 - accuracy: 0.9417 - val_loss: 0.2157 - val_accuracy: 0.9433\n",
      "Epoch 49/50\n",
      "834036/834036 [==============================] - 122s 146us/step - loss: 0.1973 - accuracy: 0.9391 - val_loss: 0.2084 - val_accuracy: 0.9391\n",
      "Epoch 50/50\n",
      "834036/834036 [==============================] - 123s 148us/step - loss: 0.1924 - accuracy: 0.9402 - val_loss: 0.2059 - val_accuracy: 0.9422\n"
     ]
    }
   ],
   "source": [
    "np.random.seed(123)\n",
    "results_1 = model_1.fit(train_images, train_labels, epochs=50, validation_data=(val_images, val_labels), batch_size=32, verbose=1)"
   ]
  },
  {
   "cell_type": "code",
   "execution_count": 60,
   "metadata": {},
   "outputs": [
    {
     "data": {
      "text/plain": [
       "dict_keys(['val_loss', 'val_accuracy', 'loss', 'accuracy'])"
      ]
     },
     "execution_count": 60,
     "metadata": {},
     "output_type": "execute_result"
    }
   ],
   "source": [
    "results_1.history.keys()"
   ]
  },
  {
   "cell_type": "code",
   "execution_count": 61,
   "metadata": {},
   "outputs": [],
   "source": [
    "def visualize_training_results(results):\n",
    "    history = results.history\n",
    "    plt.figure()\n",
    "    plt.plot(history['val_loss'])\n",
    "    plt.plot(history['loss'])\n",
    "    plt.legend(['val_loss', 'loss'])\n",
    "    plt.title('Loss')\n",
    "    plt.xlabel('Epochs')\n",
    "    plt.ylabel('Loss')\n",
    "    plt.show()\n",
    "    \n",
    "    plt.figure()\n",
    "    plt.plot(history['val_accuracy'])\n",
    "    plt.plot(history['accuracy'])\n",
    "    plt.legend(['val_accuracy', 'accuracy'])\n",
    "    plt.title('Accuracy')\n",
    "    plt.xlabel('Epochs')\n",
    "    plt.ylabel('Accuracy')\n",
    "    plt.show()"
   ]
  },
  {
   "cell_type": "code",
   "execution_count": 62,
   "metadata": {},
   "outputs": [
    {
     "data": {
      "image/png": "[encoded data removed]",
      "text/plain": [
       "<Figure size 432x288 with 1 Axes>"
      ]
     },
     "metadata": {
      "needs_background": "light"
     },
     "output_type": "display_data"
    },
    {
     "data": {
      "image/png": "[encoded data removed]",
      "text/plain": [
       "<Figure size 432x288 with 1 Axes>"
      ]
     },
     "metadata": {
      "needs_background": "light"
     },
     "output_type": "display_data"
    }
   ],
   "source": [
    "visualize_training_results(results_1)"
   ]
  },
  {
   "cell_type": "code",
   "execution_count": 29,
   "metadata": {},
   "outputs": [],
   "source": [
    "# plot confusion matrix"
   ]
  },
  {
   "cell_type": "code",
   "execution_count": 63,
   "metadata": {},
   "outputs": [],
   "source": [
    "def sort_contours(cnts, method='left-to-right'):\n",
    "    reverse = False\n",
    "    i = 0\n",
    "    if method == 'right-to-left' or method == 'bottom-to-top':\n",
    "        reverse = True\n",
    "    if method == 'top-to-bottom' or method == 'botton-to-top':\n",
    "        i = 1\n",
    "    boundingBoxes = [cv2.boundingRect(c) for c in cnts]\n",
    "    (cnts, boundingBoxes) = zip(*sorted(zip(cnts, boundingBoxes),\n",
    "       key = lambda b:b[1][i], reverse=reverse))\n",
    "    return (cnts, boundingBoxes)"
   ]
  },
  {
   "cell_type": "code",
   "execution_count": 70,
   "metadata": {},
   "outputs": [],
   "source": [
    "def get_letters(img):\n",
    "    letters = []\n",
    "    image = cv2.imread(img)\n",
    "    gray = cv2.cvtColor(image, cv2.COLOR_BGR2GRAY)\n",
    "    ret,thresh1 = cv2.threshold(gray ,127,255,cv2.THRESH_BINARY_INV)\n",
    "    dilated = cv2.dilate(thresh1, None, iterations=2)\n",
    "\n",
    "    cnts = cv2.findContours(dilated.copy(), cv2.RETR_EXTERNAL,cv2.CHAIN_APPROX_SIMPLE)\n",
    "    cnts = imutils.grab_contours(cnts)\n",
    "    cnts = sort_contours(cnts, method=\"left-to-right\")[0]\n",
    "    # loop over the contours\n",
    "    for c in cnts:\n",
    "        if cv2.contourArea(c) > 10:\n",
    "            (x, y, w, h) = cv2.boundingRect(c)\n",
    "            cv2.rectangle(image, (x, y), (x + w, y + h), (0, 255, 0), 2)\n",
    "        roi = gray[y:y + h, x:x + w]\n",
    "        thresh = cv2.threshold(roi, 0, 255,cv2.THRESH_BINARY_INV | cv2.THRESH_OTSU)[1]\n",
    "        thresh = cv2.resize(thresh, (32, 32), interpolation = cv2.INTER_CUBIC)\n",
    "        thresh = thresh.astype(\"float32\") / 255.0\n",
    "        thresh = np.expand_dims(thresh, axis=-1)\n",
    "        thresh = thresh.reshape(1,32,32,1)\n",
    "        ypred = model_1.predict(thresh)\n",
    "        ypred = LB.inverse_transform(ypred)\n",
    "        ypred = [k for k, v in train_generator.class_indices.items() if v == ypred]\n",
    "        [x] = ypred\n",
    "        letters.append(x)\n",
    "    return letters, image"
   ]
  },
  {
   "cell_type": "code",
   "execution_count": 36,
   "metadata": {},
   "outputs": [],
   "source": [
    "# gray = cv2.cvtColor(image, cv2.COLOR_BGR2GRAY)"
   ]
  },
  {
   "cell_type": "code",
   "execution_count": 37,
   "metadata": {},
   "outputs": [],
   "source": [
    "# ret,thresh1 = cv2.threshold(gray ,127,255,cv2.THRESH_BINARY_INV)"
   ]
  },
  {
   "cell_type": "code",
   "execution_count": 38,
   "metadata": {},
   "outputs": [],
   "source": [
    "# dilated = cv2.dilate(thresh1, None, iterations=2)"
   ]
  },
  {
   "cell_type": "code",
   "execution_count": 39,
   "metadata": {},
   "outputs": [],
   "source": [
    "# cnts = cv2.findContours(dilated.copy(), cv2.RETR_EXTERNAL,cv2.CHAIN_APPROX_SIMPLE)"
   ]
  },
  {
   "cell_type": "code",
   "execution_count": 40,
   "metadata": {},
   "outputs": [],
   "source": [
    "# cnts = imutils.grab_contours(cnts)"
   ]
  },
  {
   "cell_type": "code",
   "execution_count": 41,
   "metadata": {},
   "outputs": [],
   "source": [
    "# cnts = sort_contours(cnts, method=\"left-to-right\")[0]"
   ]
  },
  {
   "cell_type": "code",
   "execution_count": 42,
   "metadata": {},
   "outputs": [],
   "source": [
    "# for c in cnts:\n",
    "#         if cv2.contourArea(c) > 10:\n",
    "#             (x, y, w, h) = cv2.boundingRect(c)\n",
    "#             cv2.rectangle(image, (x, y), (x + w, y + h), (0, 255, 0), 2)"
   ]
  },
  {
   "cell_type": "code",
   "execution_count": 43,
   "metadata": {},
   "outputs": [],
   "source": [
    "# roi = gray[y:y + h, x:x + w]"
   ]
  },
  {
   "cell_type": "code",
   "execution_count": 44,
   "metadata": {},
   "outputs": [],
   "source": [
    "# thresh = cv2.threshold(roi, 0, 255,cv2.THRESH_BINARY_INV | cv2.THRESH_OTSU)[1]"
   ]
  },
  {
   "cell_type": "code",
   "execution_count": 45,
   "metadata": {},
   "outputs": [],
   "source": [
    "# thresh = cv2.resize(thresh, (32, 32), interpolation = cv2.INTER_CUBIC)"
   ]
  },
  {
   "cell_type": "code",
   "execution_count": 46,
   "metadata": {},
   "outputs": [],
   "source": [
    "# thresh = thresh.astype(\"float32\") / 255.0"
   ]
  },
  {
   "cell_type": "code",
   "execution_count": 47,
   "metadata": {},
   "outputs": [],
   "source": [
    "# thresh = np.expand_dims(thresh, axis=-1)"
   ]
  },
  {
   "cell_type": "code",
   "execution_count": 48,
   "metadata": {},
   "outputs": [],
   "source": [
    "# thresh = thresh.reshape(1,32,32,1)"
   ]
  },
  {
   "cell_type": "code",
   "execution_count": 49,
   "metadata": {},
   "outputs": [],
   "source": [
    "# ypred = model_1.predict(thresh)"
   ]
  },
  {
   "cell_type": "code",
   "execution_count": 50,
   "metadata": {},
   "outputs": [],
   "source": [
    "# ypred = LB.inverse_transform(ypred)"
   ]
  },
  {
   "cell_type": "code",
   "execution_count": 51,
   "metadata": {},
   "outputs": [
    {
     "data": {
      "text/plain": [
       "array([31.], dtype=float32)"
      ]
     },
     "execution_count": 51,
     "metadata": {},
     "output_type": "execute_result"
    }
   ],
   "source": [
    "# ypred"
   ]
  },
  {
   "cell_type": "code",
   "execution_count": null,
   "metadata": {},
   "outputs": [],
   "source": []
  },
  {
   "cell_type": "code",
   "execution_count": 71,
   "metadata": {},
   "outputs": [],
   "source": [
    "def get_word(letter):\n",
    "    word = \"\".join(letter)\n",
    "    return word"
   ]
  },
  {
   "cell_type": "code",
   "execution_count": 72,
   "metadata": {
    "scrolled": true
   },
   "outputs": [
    {
     "name": "stdout",
     "output_type": "stream",
     "text": [
      "EL7SA\n"
     ]
    },
    {
     "data": {
      "text/plain": [
       "<matplotlib.image.AxesImage at 0x17212b348c8>"
      ]
     },
     "execution_count": 72,
     "metadata": {},
     "output_type": "execute_result"
    },
    {
     "data": {
      "image/png": "[encoded data removed]",
      "text/plain": [
       "<Figure size 432x288 with 1 Axes>"
      ]
     },
     "metadata": {
      "needs_background": "light"
     },
     "output_type": "display_data"
    }
   ],
   "source": [
    "letter, image = get_letters(\"dataset/handwritting_names/train_v2/train/TRAIN_00037.jpg\")\n",
    "word = get_word(letter)\n",
    "print(word)\n",
    "plt.imshow(image)"
   ]
  },
  {
   "cell_type": "code",
   "execution_count": null,
   "metadata": {},
   "outputs": [],
   "source": []
  }
 ],
 "metadata": {
  "kernelspec": {
   "display_name": "Python 3.7 (tensorflow)",
   "language": "python",
   "name": "tensorflow"
  },
  "language_info": {
   "codemirror_mode": {
    "name": "ipython",
    "version": 3
   },
   "file_extension": ".py",
   "mimetype": "text/x-python",
   "name": "python",
   "nbconvert_exporter": "python",
   "pygments_lexer": "ipython3",
   "version": "3.7.9"
  },
  "toc": {
   "base_numbering": 1,
   "nav_menu": {},
   "number_sections": true,
   "sideBar": true,
   "skip_h1_title": false,
   "title_cell": "Table of Contents",
   "title_sidebar": "Contents",
   "toc_cell": false,
   "toc_position": {},
   "toc_section_display": true,
   "toc_window_display": false
  }
 },
 "nbformat": 4,
 "nbformat_minor": 4
}
