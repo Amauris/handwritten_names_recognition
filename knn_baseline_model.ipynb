{
 "cells": [
  {
   "cell_type": "code",
   "execution_count": 22,
   "metadata": {},
   "outputs": [],
   "source": [
    "import tensorflow as tf\n",
    "import numpy as np\n",
    "import pandas as pd\n",
    "from keras.preprocessing.image import ImageDataGenerator\n",
    "import os\n",
    "import random \n",
    "import cv2\n",
    "import imutils\n",
    "import random\n",
    "import matplotlib.pyplot as plt\n",
    "import seaborn as sns\n",
    "from sklearn.preprocessing import LabelBinarizer\n",
    "import keras\n",
    "from keras.utils import np_utils\n",
    "from keras.models import Model, Sequential\n",
    "from keras import optimizers\n",
    "from sklearn.preprocessing import LabelBinarizer\n",
    "from keras import backend as K\n",
    "from keras.layers import Dense, Activation, Flatten, Dense,MaxPooling2D, Dropout\n",
    "from keras.layers import Conv2D, MaxPooling2D, BatchNormalization\n",
    "from sklearn.metrics import confusion_matrix, f1_score\n",
    "from sklearn.neighbors import KNeighborsClassifier\n",
    "from keras.applications.resnet50 import ResNet50\n",
    "from keras.utils.vis_utils import plot_model\n",
    "from tensorflow.keras.preprocessing.image import ImageDataGenerator, array_to_img, img_to_array, load_img\n",
    "import pickle\n",
    "import itertools\n",
    "\n",
    "np.random.seed(123)"
   ]
  },
  {
   "cell_type": "code",
   "execution_count": 2,
   "metadata": {},
   "outputs": [
    {
     "name": "stdout",
     "output_type": "stream",
     "text": [
      "Tensor Flow Version: 2.1.0\n",
      "Keras Version: 2.2.4-tf\n",
      "\n",
      "Python 3.7.9 (default, Aug 31 2020, 17:10:11) [MSC v.1916 64 bit (AMD64)]\n",
      "Pandas 1.2.1\n",
      "Scikit-Learn 0.24.1\n",
      "GPU is available\n"
     ]
    }
   ],
   "source": [
    "import sys\n",
    "\n",
    "import tensorflow.keras\n",
    "import sklearn as sk\n",
    "\n",
    "print(f\"Tensor Flow Version: {tf.__version__}\")\n",
    "print(f\"Keras Version: {tensorflow.keras.__version__}\")\n",
    "print()\n",
    "print(f\"Python {sys.version}\")\n",
    "print(f\"Pandas {pd.__version__}\")\n",
    "print(f\"Scikit-Learn {sk.__version__}\")\n",
    "gpu = len(tf.config.list_physical_devices('GPU'))>0\n",
    "print(\"GPU is\", \"available\" if gpu else \"NOT AVAILABLE\")"
   ]
  },
  {
   "cell_type": "code",
   "execution_count": 38,
   "metadata": {
    "scrolled": true
   },
   "outputs": [
    {
     "name": "stdout",
     "output_type": "stream",
     "text": [
      "Found 834036 images belonging to 39 classes.\n",
      "Found 22524 images belonging to 39 classes.\n"
     ]
    }
   ],
   "source": [
    "train_dir = 'dataset/handwritten_character/Train'\n",
    "val_dir = 'dataset/handwritten_character/Validation'\n",
    "\n",
    "idg = ImageDataGenerator(rescale=1./255)\n",
    "                       \n",
    "\n",
    "# get all the data in the directory train (834036 images), and reshape them\n",
    "train_generator = idg.flow_from_directory(train_dir, color_mode = 'grayscale',\n",
    "                                         target_size=(32, 32),\n",
    "                                         batch_size = 834036,\n",
    "                                         class_mode ='categorical')\n",
    "\n",
    "# get all the data in the directory validation (22524 images), and reshape them\n",
    "valid_generator = idg.flow_from_directory(val_dir, color_mode = 'grayscale',\n",
    "                                         target_size=(32, 32),\n",
    "                                         batch_size = 22524,\n",
    "                                         class_mode ='categorical')\n",
    "\n",
    "# create the data sets\n",
    "# train_images, train_labels = next(train_generator)\n",
    "# val_images, val_labels = next(valid_generator)"
   ]
  },
  {
   "cell_type": "code",
   "execution_count": 40,
   "metadata": {},
   "outputs": [],
   "source": [
    "# Saving the train images/labels\n",
    "save_path = \"pickle_files/\"\n",
    "\n",
    "# with open(os.path.join(save_path, \"train_cat.pkl\"), \"wb\") as f:\n",
    "#     pickle.dump((train_images, train_labels), f)"
   ]
  },
  {
   "cell_type": "code",
   "execution_count": 41,
   "metadata": {},
   "outputs": [],
   "source": [
    "# Saving the val images/labels\n",
    "\n",
    "# with open(os.path.join(save_path, \"val_cat.pkl\"), \"wb\") as f:\n",
    "#     pickle.dump((val_images, val_labels), f)"
   ]
  },
  {
   "cell_type": "code",
   "execution_count": 26,
   "metadata": {},
   "outputs": [],
   "source": [
    "# Load train images/labels\n",
    "with open(os.path.join(save_path, \"train_cat.pkl\"), \"rb\") as f:\n",
    "    (train_images, train_labels) = pickle.load(f)"
   ]
  },
  {
   "cell_type": "code",
   "execution_count": 27,
   "metadata": {},
   "outputs": [],
   "source": [
    "# Load val images/labels\n",
    "with open(os.path.join(save_path, \"val_cat.pkl\"), \"rb\") as f:\n",
    "    (val_images, val_labels) = pickle.load(f)"
   ]
  },
  {
   "cell_type": "code",
   "execution_count": 42,
   "metadata": {},
   "outputs": [
    {
     "name": "stdout",
     "output_type": "stream",
     "text": [
      "Train images shape:  (834036, 32, 32, 1)\n",
      "Val images shape:  (22524, 32, 32, 1)\n",
      "Train labels shape:  (834036, 39)\n",
      "Val labels shape:  (22524, 39)\n"
     ]
    }
   ],
   "source": [
    "# Explore your dataset\n",
    "print('Train images shape: ', train_images.shape)\n",
    "print('Val images shape: ', val_images.shape)\n",
    "print('Train labels shape: ', train_labels.shape)\n",
    "print('Val labels shape: ', val_labels.shape)"
   ]
  },
  {
   "cell_type": "code",
   "execution_count": 61,
   "metadata": {},
   "outputs": [],
   "source": [
    "train_img_unrow = train_images.reshape(834036, -1)"
   ]
  },
  {
   "cell_type": "code",
   "execution_count": 64,
   "metadata": {},
   "outputs": [],
   "source": [
    "val_img_unrow = val_images.reshape(22524, -1)"
   ]
  },
  {
   "cell_type": "code",
   "execution_count": 65,
   "metadata": {},
   "outputs": [
    {
     "data": {
      "text/plain": [
       "(834036, 1024)"
      ]
     },
     "execution_count": 65,
     "metadata": {},
     "output_type": "execute_result"
    }
   ],
   "source": [
    "np.shape(train_img_unrow)"
   ]
  },
  {
   "cell_type": "code",
   "execution_count": 66,
   "metadata": {},
   "outputs": [
    {
     "data": {
      "text/plain": [
       "(22524, 1024)"
      ]
     },
     "execution_count": 66,
     "metadata": {},
     "output_type": "execute_result"
    }
   ],
   "source": [
    "np.shape(val_img_unrow)"
   ]
  },
  {
   "cell_type": "code",
   "execution_count": 67,
   "metadata": {},
   "outputs": [],
   "source": [
    "train_labels_final = train_labels.reshape(834036, -1)"
   ]
  },
  {
   "cell_type": "code",
   "execution_count": 68,
   "metadata": {
    "scrolled": true
   },
   "outputs": [
    {
     "data": {
      "text/plain": [
       "(834036, 39)"
      ]
     },
     "execution_count": 68,
     "metadata": {},
     "output_type": "execute_result"
    }
   ],
   "source": [
    "np.shape(train_labels_final)"
   ]
  },
  {
   "cell_type": "code",
   "execution_count": 69,
   "metadata": {},
   "outputs": [],
   "source": [
    "val_labels_final = val_labels.reshape(22524, -1)"
   ]
  },
  {
   "cell_type": "code",
   "execution_count": 70,
   "metadata": {
    "scrolled": false
   },
   "outputs": [
    {
     "data": {
      "text/plain": [
       "(22524, 39)"
      ]
     },
     "execution_count": 70,
     "metadata": {},
     "output_type": "execute_result"
    }
   ],
   "source": [
    "np.shape(val_labels_final)"
   ]
  },
  {
   "cell_type": "code",
   "execution_count": 71,
   "metadata": {},
   "outputs": [
    {
     "name": "stdout",
     "output_type": "stream",
     "text": [
      "k=1, accuracy=93.55%\n",
      "k=3, accuracy=91.48%\n",
      "k=5, accuracy=90.61%\n",
      "k=7, accuracy=90.18%\n",
      "k=9, accuracy=89.82%\n"
     ]
    }
   ],
   "source": [
    "kVals = np.arange(1,10,2)\n",
    "\n",
    "for k in kVals:\n",
    "    \n",
    "    model = KNeighborsClassifier(n_neighbors=k)\n",
    "    model.fit(train_img_unrow, train_labels_final)\n",
    "    \n",
    "    score = model.score(val_img_unrow, val_labels_final)\n",
    "    print(\"k=%d, accuracy=%.2f%%\" % (k, score * 100))"
   ]
  },
  {
   "cell_type": "code",
   "execution_count": 74,
   "metadata": {},
   "outputs": [],
   "source": [
    "model_1 = KNeighborsClassifier(n_neighbors=1)\n",
    "model_1.fit(train_img_unrow, train_labels_final)\n",
    "\n",
    "score = model_1.score(val_img_unrow, val_labels_final)"
   ]
  },
  {
   "cell_type": "code",
   "execution_count": 76,
   "metadata": {},
   "outputs": [
    {
     "data": {
      "text/plain": [
       "0.9355354288758657"
      ]
     },
     "execution_count": 76,
     "metadata": {},
     "output_type": "execute_result"
    }
   ],
   "source": [
    "score"
   ]
  },
  {
   "cell_type": "code",
   "execution_count": 75,
   "metadata": {},
   "outputs": [],
   "source": [
    "# Save the model to disk\n",
    "save_path = \"saved_models/\"\n",
    "\n",
    "with open(os.path.join(save_path, \"KNN_model.pkl\"), \"wb\") as f:\n",
    "    pickle.dump(model_1, f)"
   ]
  },
  {
   "cell_type": "code",
   "execution_count": null,
   "metadata": {},
   "outputs": [],
   "source": [
    "# Load model from file\n",
    "\n",
    "with open(os.path.join(save_path, \"KNN_model.pkl\"), \"rb\") as f:\n",
    "    pickled_model = pickle.load(f)"
   ]
  },
  {
   "cell_type": "code",
   "execution_count": 31,
   "metadata": {},
   "outputs": [],
   "source": [
    "# Save model\n",
    "\n",
    "model_4.save('saved_models/CNN_model_4')"
   ]
  },
  {
   "cell_type": "code",
   "execution_count": 32,
   "metadata": {},
   "outputs": [],
   "source": [
    "# Load model\n",
    "\n",
    "model_4 = keras.models.load_model('saved_models/CNN_model_4')"
   ]
  },
  {
   "cell_type": "code",
   "execution_count": null,
   "metadata": {},
   "outputs": [],
   "source": [
    "#predict on the KNN model"
   ]
  }
 ],
 "metadata": {
  "kernelspec": {
   "display_name": "Python 3.7 (tensorflow)",
   "language": "python",
   "name": "tensorflow"
  },
  "language_info": {
   "codemirror_mode": {
    "name": "ipython",
    "version": 3
   },
   "file_extension": ".py",
   "mimetype": "text/x-python",
   "name": "python",
   "nbconvert_exporter": "python",
   "pygments_lexer": "ipython3",
   "version": "3.7.9"
  },
  "toc": {
   "base_numbering": 1,
   "nav_menu": {},
   "number_sections": true,
   "sideBar": true,
   "skip_h1_title": false,
   "title_cell": "Table of Contents",
   "title_sidebar": "Contents",
   "toc_cell": false,
   "toc_position": {},
   "toc_section_display": true,
   "toc_window_display": false
  }
 },
 "nbformat": 4,
 "nbformat_minor": 4
}
