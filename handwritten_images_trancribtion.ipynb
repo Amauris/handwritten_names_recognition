{
 "cells": [
  {
   "cell_type": "code",
   "execution_count": 3,
   "metadata": {
    "scrolled": true
   },
   "outputs": [
    {
     "name": "stdout",
     "output_type": "stream",
     "text": [
      "Requirement already satisfied: opencv-python in c:\\users\\edwar\\anaconda3\\envs\\tensorflow\\lib\\site-packages (4.5.1.48)\n",
      "Requirement already satisfied: numpy>=1.14.5 in c:\\users\\edwar\\anaconda3\\envs\\tensorflow\\lib\\site-packages (from opencv-python) (1.19.1)\n",
      "Note: you may need to restart the kernel to use updated packages.\n"
     ]
    }
   ],
   "source": [
    "pip install opencv-python"
   ]
  },
  {
   "cell_type": "code",
   "execution_count": 4,
   "metadata": {
    "scrolled": true
   },
   "outputs": [
    {
     "name": "stdout",
     "output_type": "stream",
     "text": [
      "Collecting imutils\n",
      "  Using cached imutils-0.5.4.tar.gz (17 kB)\n",
      "Building wheels for collected packages: imutils\n",
      "  Building wheel for imutils (setup.py): started\n",
      "  Building wheel for imutils (setup.py): finished with status 'done'\n",
      "  Created wheel for imutils: filename=imutils-0.5.4-py3-none-any.whl size=25860 sha256=166f19738b2e49f5f4ce40849d200b6376655a30138ab4535cf23555261f5107\n",
      "  Stored in directory: c:\\users\\edwar\\appdata\\local\\pip\\cache\\wheels\\86\\d7\\0a\\4923351ed1cec5d5e24c1eaf8905567b02a0343b24aa873df2\n",
      "Successfully built imutils\n",
      "Installing collected packages: imutils\n",
      "Successfully installed imutils-0.5.4\n",
      "Note: you may need to restart the kernel to use updated packages.\n"
     ]
    }
   ],
   "source": [
    "pip install imutils"
   ]
  },
  {
   "cell_type": "code",
   "execution_count": 5,
   "metadata": {},
   "outputs": [
    {
     "name": "stdout",
     "output_type": "stream",
     "text": [
      "Collecting pandas\n",
      "  Downloading pandas-1.2.1-cp37-cp37m-win_amd64.whl (9.1 MB)\n",
      "Requirement already satisfied: numpy>=1.16.5 in c:\\users\\edwar\\anaconda3\\envs\\tensorflow\\lib\\site-packages (from pandas) (1.19.1)\n",
      "Requirement already satisfied: python-dateutil>=2.7.3 in c:\\users\\edwar\\anaconda3\\envs\\tensorflow\\lib\\site-packages (from pandas) (2.8.1)\n",
      "Requirement already satisfied: six>=1.5 in c:\\users\\edwar\\anaconda3\\envs\\tensorflow\\lib\\site-packages (from python-dateutil>=2.7.3->pandas) (1.15.0)\n",
      "Collecting pytz>=2017.3\n",
      "  Using cached pytz-2021.1-py2.py3-none-any.whl (510 kB)\n",
      "Installing collected packages: pytz, pandas\n",
      "Successfully installed pandas-1.2.1 pytz-2021.1\n",
      "Note: you may need to restart the kernel to use updated packages.\n"
     ]
    }
   ],
   "source": [
    "pip install pandas"
   ]
  },
  {
   "cell_type": "code",
   "execution_count": 6,
   "metadata": {},
   "outputs": [
    {
     "name": "stdout",
     "output_type": "stream",
     "text": [
      "Collecting Keras\n",
      "  Using cached Keras-2.4.3-py2.py3-none-any.whl (36 kB)\n",
      "Requirement already satisfied: scipy>=0.14 in c:\\users\\edwar\\anaconda3\\envs\\tensorflow\\lib\\site-packages (from Keras) (1.5.2)\n",
      "Requirement already satisfied: numpy>=1.9.1 in c:\\users\\edwar\\anaconda3\\envs\\tensorflow\\lib\\site-packages (from Keras) (1.19.1)\n",
      "Requirement already satisfied: h5py in c:\\users\\edwar\\anaconda3\\envs\\tensorflow\\lib\\site-packages (from Keras) (2.8.0)\n",
      "Requirement already satisfied: six in c:\\users\\edwar\\anaconda3\\envs\\tensorflow\\lib\\site-packages (from h5py->Keras) (1.15.0)\n",
      "Collecting pyyaml\n",
      "  Downloading PyYAML-5.4.1-cp37-cp37m-win_amd64.whl (210 kB)\n",
      "Installing collected packages: pyyaml, Keras\n",
      "Successfully installed Keras-2.4.3 pyyaml-5.4.1\n",
      "Note: you may need to restart the kernel to use updated packages.\n"
     ]
    }
   ],
   "source": [
    "pip install Keras"
   ]
  },
  {
   "cell_type": "code",
   "execution_count": 7,
   "metadata": {},
   "outputs": [
    {
     "name": "stdout",
     "output_type": "stream",
     "text": [
      "Collecting matplotlib\n",
      "  Downloading matplotlib-3.3.4-cp37-cp37m-win_amd64.whl (8.5 MB)\n",
      "Requirement already satisfied: python-dateutil>=2.1 in c:\\users\\edwar\\anaconda3\\envs\\tensorflow\\lib\\site-packages (from matplotlib) (2.8.1)\n",
      "Requirement already satisfied: numpy>=1.15 in c:\\users\\edwar\\anaconda3\\envs\\tensorflow\\lib\\site-packages (from matplotlib) (1.19.1)\n",
      "Requirement already satisfied: pyparsing!=2.0.4,!=2.1.2,!=2.1.6,>=2.0.3 in c:\\users\\edwar\\anaconda3\\envs\\tensorflow\\lib\\site-packages (from matplotlib) (2.4.7)\n",
      "Collecting cycler>=0.10\n",
      "  Using cached cycler-0.10.0-py2.py3-none-any.whl (6.5 kB)\n",
      "Requirement already satisfied: six in c:\\users\\edwar\\anaconda3\\envs\\tensorflow\\lib\\site-packages (from cycler>=0.10->matplotlib) (1.15.0)\n",
      "Collecting kiwisolver>=1.0.1\n",
      "  Downloading kiwisolver-1.3.1-cp37-cp37m-win_amd64.whl (51 kB)\n",
      "Collecting pillow>=6.2.0\n",
      "  Downloading Pillow-8.1.0-cp37-cp37m-win_amd64.whl (2.2 MB)\n",
      "Installing collected packages: pillow, kiwisolver, cycler, matplotlib\n",
      "Successfully installed cycler-0.10.0 kiwisolver-1.3.1 matplotlib-3.3.4 pillow-8.1.0\n",
      "Note: you may need to restart the kernel to use updated packages.\n"
     ]
    }
   ],
   "source": [
    "pip install matplotlib"
   ]
  },
  {
   "cell_type": "code",
   "execution_count": 8,
   "metadata": {},
   "outputs": [
    {
     "name": "stdout",
     "output_type": "stream",
     "text": [
      "Collecting seaborn\n",
      "  Using cached seaborn-0.11.1-py3-none-any.whl (285 kB)\n",
      "Requirement already satisfied: matplotlib>=2.2 in c:\\users\\edwar\\anaconda3\\envs\\tensorflow\\lib\\site-packages (from seaborn) (3.3.4)\n",
      "Requirement already satisfied: pandas>=0.23 in c:\\users\\edwar\\anaconda3\\envs\\tensorflow\\lib\\site-packages (from seaborn) (1.2.1)\n",
      "Requirement already satisfied: numpy>=1.15 in c:\\users\\edwar\\anaconda3\\envs\\tensorflow\\lib\\site-packages (from seaborn) (1.19.1)\n",
      "Requirement already satisfied: scipy>=1.0 in c:\\users\\edwar\\anaconda3\\envs\\tensorflow\\lib\\site-packages (from seaborn) (1.5.2)\n",
      "Requirement already satisfied: kiwisolver>=1.0.1 in c:\\users\\edwar\\anaconda3\\envs\\tensorflow\\lib\\site-packages (from matplotlib>=2.2->seaborn) (1.3.1)\n",
      "Requirement already satisfied: pyparsing!=2.0.4,!=2.1.2,!=2.1.6,>=2.0.3 in c:\\users\\edwar\\anaconda3\\envs\\tensorflow\\lib\\site-packages (from matplotlib>=2.2->seaborn) (2.4.7)\n",
      "Requirement already satisfied: pillow>=6.2.0 in c:\\users\\edwar\\anaconda3\\envs\\tensorflow\\lib\\site-packages (from matplotlib>=2.2->seaborn) (8.1.0)\n",
      "Requirement already satisfied: python-dateutil>=2.1 in c:\\users\\edwar\\anaconda3\\envs\\tensorflow\\lib\\site-packages (from matplotlib>=2.2->seaborn) (2.8.1)\n",
      "Requirement already satisfied: cycler>=0.10 in c:\\users\\edwar\\anaconda3\\envs\\tensorflow\\lib\\site-packages (from matplotlib>=2.2->seaborn) (0.10.0)\n",
      "Requirement already satisfied: six in c:\\users\\edwar\\anaconda3\\envs\\tensorflow\\lib\\site-packages (from cycler>=0.10->matplotlib>=2.2->seaborn) (1.15.0)\n",
      "Requirement already satisfied: pytz>=2017.3 in c:\\users\\edwar\\anaconda3\\envs\\tensorflow\\lib\\site-packages (from pandas>=0.23->seaborn) (2021.1)\n",
      "Installing collected packages: seaborn\n",
      "Successfully installed seaborn-0.11.1\n",
      "Note: you may need to restart the kernel to use updated packages.\n"
     ]
    }
   ],
   "source": [
    "pip install seaborn"
   ]
  },
  {
   "cell_type": "code",
   "execution_count": 9,
   "metadata": {
    "scrolled": true
   },
   "outputs": [
    {
     "name": "stdout",
     "output_type": "stream",
     "text": [
      "Collecting scikit-learn\n",
      "  Downloading scikit_learn-0.24.1-cp37-cp37m-win_amd64.whl (6.8 MB)\n",
      "Requirement already satisfied: scipy>=0.19.1 in c:\\users\\edwar\\anaconda3\\envs\\tensorflow\\lib\\site-packages (from scikit-learn) (1.5.2)\n",
      "Requirement already satisfied: numpy>=1.13.3 in c:\\users\\edwar\\anaconda3\\envs\\tensorflow\\lib\\site-packages (from scikit-learn) (1.19.1)\n",
      "Collecting joblib>=0.11\n",
      "  Using cached joblib-1.0.0-py3-none-any.whl (302 kB)\n",
      "Collecting threadpoolctl>=2.0.0\n",
      "  Using cached threadpoolctl-2.1.0-py3-none-any.whl (12 kB)\n",
      "Installing collected packages: threadpoolctl, joblib, scikit-learn\n",
      "Successfully installed joblib-1.0.0 scikit-learn-0.24.1 threadpoolctl-2.1.0\n",
      "Note: you may need to restart the kernel to use updated packages.\n"
     ]
    }
   ],
   "source": [
    "pip install scikit-learn"
   ]
  },
  {
   "cell_type": "code",
   "execution_count": 13,
   "metadata": {},
   "outputs": [
    {
     "name": "stdout",
     "output_type": "stream",
     "text": [
      "Requirement already satisfied: tensorflow in c:\\users\\edwar\\anaconda3\\envs\\tensorflow\\lib\\site-packages (2.1.0)\n",
      "Requirement already satisfied: absl-py>=0.7.0 in c:\\users\\edwar\\anaconda3\\envs\\tensorflow\\lib\\site-packages (from tensorflow) (0.10.0)\n",
      "Requirement already satisfied: numpy<2.0,>=1.16.0 in c:\\users\\edwar\\anaconda3\\envs\\tensorflow\\lib\\site-packages (from tensorflow) (1.19.1)\n",
      "Requirement already satisfied: google-pasta>=0.1.6 in c:\\users\\edwar\\anaconda3\\envs\\tensorflow\\lib\\site-packages (from tensorflow) (0.2.0)\n",
      "Requirement already satisfied: termcolor>=1.1.0 in c:\\users\\edwar\\anaconda3\\envs\\tensorflow\\lib\\site-packages (from tensorflow) (1.1.0)\n",
      "Requirement already satisfied: wrapt>=1.11.1 in c:\\users\\edwar\\anaconda3\\envs\\tensorflow\\lib\\site-packages (from tensorflow) (1.12.1)\n",
      "Requirement already satisfied: astor>=0.6.0 in c:\\users\\edwar\\anaconda3\\envs\\tensorflow\\lib\\site-packages (from tensorflow) (0.8.1)\n",
      "Requirement already satisfied: wheel>=0.26 in c:\\users\\edwar\\anaconda3\\envs\\tensorflow\\lib\\site-packages (from tensorflow) (0.36.2)\n",
      "Requirement already satisfied: keras-applications>=1.0.8 in c:\\users\\edwar\\anaconda3\\envs\\tensorflow\\lib\\site-packages (from tensorflow) (1.0.8)\n",
      "Requirement already satisfied: tensorflow-estimator<2.2.0,>=2.1.0rc0 in c:\\users\\edwar\\anaconda3\\envs\\tensorflow\\lib\\site-packages (from tensorflow) (2.1.0)\n",
      "Requirement already satisfied: gast==0.2.2 in c:\\users\\edwar\\anaconda3\\envs\\tensorflow\\lib\\site-packages (from tensorflow) (0.2.2)\n",
      "Requirement already satisfied: grpcio>=1.8.6 in c:\\users\\edwar\\anaconda3\\envs\\tensorflow\\lib\\site-packages (from tensorflow) (1.31.0)\n",
      "Requirement already satisfied: protobuf>=3.8.0 in c:\\users\\edwar\\anaconda3\\envs\\tensorflow\\lib\\site-packages (from tensorflow) (3.13.0)\n",
      "Requirement already satisfied: six>=1.12.0 in c:\\users\\edwar\\anaconda3\\envs\\tensorflow\\lib\\site-packages (from tensorflow) (1.15.0)\n",
      "Requirement already satisfied: keras-preprocessing>=1.1.0 in c:\\users\\edwar\\anaconda3\\envs\\tensorflow\\lib\\site-packages (from tensorflow) (1.1.0)\n",
      "Requirement already satisfied: opt-einsum>=2.3.2 in c:\\users\\edwar\\anaconda3\\envs\\tensorflow\\lib\\site-packages (from tensorflow) (3.1.0)\n",
      "Collecting scipy==1.4.1\n",
      "  Downloading scipy-1.4.1-cp37-cp37m-win_amd64.whl (30.9 MB)\n",
      "Requirement already satisfied: h5py in c:\\users\\edwar\\anaconda3\\envs\\tensorflow\\lib\\site-packages (from keras-applications>=1.0.8->tensorflow) (2.8.0)\n",
      "Requirement already satisfied: setuptools in c:\\users\\edwar\\anaconda3\\envs\\tensorflow\\lib\\site-packages (from protobuf>=3.8.0->tensorflow) (52.0.0.post20210125)\n",
      "Collecting tensorboard<2.2.0,>=2.1.0\n",
      "  Downloading tensorboard-2.1.1-py3-none-any.whl (3.8 MB)\n",
      "Requirement already satisfied: google-auth<2,>=1.6.3 in c:\\users\\edwar\\anaconda3\\envs\\tensorflow\\lib\\site-packages (from tensorboard<2.2.0,>=2.1.0->tensorflow) (1.22.1)\n",
      "Requirement already satisfied: requests<3,>=2.21.0 in c:\\users\\edwar\\anaconda3\\envs\\tensorflow\\lib\\site-packages (from tensorboard<2.2.0,>=2.1.0->tensorflow) (2.24.0)\n",
      "Requirement already satisfied: markdown>=2.6.8 in c:\\users\\edwar\\anaconda3\\envs\\tensorflow\\lib\\site-packages (from tensorboard<2.2.0,>=2.1.0->tensorflow) (3.3.2)\n",
      "Requirement already satisfied: google-auth-oauthlib<0.5,>=0.4.1 in c:\\users\\edwar\\anaconda3\\envs\\tensorflow\\lib\\site-packages (from tensorboard<2.2.0,>=2.1.0->tensorflow) (0.4.1)\n",
      "Requirement already satisfied: werkzeug>=0.11.15 in c:\\users\\edwar\\anaconda3\\envs\\tensorflow\\lib\\site-packages (from tensorboard<2.2.0,>=2.1.0->tensorflow) (0.16.1)\n",
      "Requirement already satisfied: rsa<5,>=3.1.4 in c:\\users\\edwar\\anaconda3\\envs\\tensorflow\\lib\\site-packages (from google-auth<2,>=1.6.3->tensorboard<2.2.0,>=2.1.0->tensorflow) (4.6)\n",
      "Requirement already satisfied: pyasn1-modules>=0.2.1 in c:\\users\\edwar\\anaconda3\\envs\\tensorflow\\lib\\site-packages (from google-auth<2,>=1.6.3->tensorboard<2.2.0,>=2.1.0->tensorflow) (0.2.8)\n",
      "Requirement already satisfied: cachetools<5.0,>=2.0.0 in c:\\users\\edwar\\anaconda3\\envs\\tensorflow\\lib\\site-packages (from google-auth<2,>=1.6.3->tensorboard<2.2.0,>=2.1.0->tensorflow) (4.1.1)\n",
      "Requirement already satisfied: requests-oauthlib>=0.7.0 in c:\\users\\edwar\\anaconda3\\envs\\tensorflow\\lib\\site-packages (from google-auth-oauthlib<0.5,>=0.4.1->tensorboard<2.2.0,>=2.1.0->tensorflow) (1.3.0)\n",
      "Requirement already satisfied: importlib-metadata in c:\\users\\edwar\\anaconda3\\envs\\tensorflow\\lib\\site-packages (from markdown>=2.6.8->tensorboard<2.2.0,>=2.1.0->tensorflow) (2.0.0)\n",
      "Requirement already satisfied: pyasn1<0.5.0,>=0.4.6 in c:\\users\\edwar\\anaconda3\\envs\\tensorflow\\lib\\site-packages (from pyasn1-modules>=0.2.1->google-auth<2,>=1.6.3->tensorboard<2.2.0,>=2.1.0->tensorflow) (0.4.8)\n",
      "Requirement already satisfied: certifi>=2017.4.17 in c:\\users\\edwar\\anaconda3\\envs\\tensorflow\\lib\\site-packages (from requests<3,>=2.21.0->tensorboard<2.2.0,>=2.1.0->tensorflow) (2020.6.20)\n",
      "Requirement already satisfied: idna<3,>=2.5 in c:\\users\\edwar\\anaconda3\\envs\\tensorflow\\lib\\site-packages (from requests<3,>=2.21.0->tensorboard<2.2.0,>=2.1.0->tensorflow) (2.10)\n",
      "Requirement already satisfied: urllib3!=1.25.0,!=1.25.1,<1.26,>=1.21.1 in c:\\users\\edwar\\anaconda3\\envs\\tensorflow\\lib\\site-packages (from requests<3,>=2.21.0->tensorboard<2.2.0,>=2.1.0->tensorflow) (1.25.11)\n",
      "Requirement already satisfied: chardet<4,>=3.0.2 in c:\\users\\edwar\\anaconda3\\envs\\tensorflow\\lib\\site-packages (from requests<3,>=2.21.0->tensorboard<2.2.0,>=2.1.0->tensorflow) (3.0.4)\n",
      "Requirement already satisfied: oauthlib>=3.0.0 in c:\\users\\edwar\\anaconda3\\envs\\tensorflow\\lib\\site-packages (from requests-oauthlib>=0.7.0->google-auth-oauthlib<0.5,>=0.4.1->tensorboard<2.2.0,>=2.1.0->tensorflow) (3.1.0)\n",
      "Requirement already satisfied: zipp>=0.5 in c:\\users\\edwar\\anaconda3\\envs\\tensorflow\\lib\\site-packages (from importlib-metadata->markdown>=2.6.8->tensorboard<2.2.0,>=2.1.0->tensorflow) (3.4.0)\n",
      "Installing collected packages: tensorboard, scipy\n",
      "  Attempting uninstall: tensorboard\n",
      "    Found existing installation: tensorboard 2.2.1\n",
      "    Uninstalling tensorboard-2.2.1:\n",
      "      Successfully uninstalled tensorboard-2.2.1\n",
      "  Attempting uninstall: scipy\n",
      "    Found existing installation: scipy 1.5.2\n",
      "    Uninstalling scipy-1.5.2:\n",
      "      Successfully uninstalled scipy-1.5.2\n",
      "Note: you may need to restart the kernel to use updated packages.\n"
     ]
    },
    {
     "name": "stderr",
     "output_type": "stream",
     "text": [
      "ERROR: Could not install packages due to an EnvironmentError: [WinError 5] Access is denied: 'c:\\\\users\\\\edwar\\\\anaconda3\\\\envs\\\\tensorflow\\\\lib\\\\site-packages\\\\~cipy\\\\fft\\\\_pocketfft\\\\pypocketfft.cp37-win_amd64.pyd'\n",
      "Consider using the `--user` option or check the permissions.\n",
      "\n"
     ]
    }
   ],
   "source": [
    "pip install tensorflow"
   ]
  },
  {
   "cell_type": "code",
   "execution_count": 16,
   "metadata": {},
   "outputs": [
    {
     "name": "stdout",
     "output_type": "stream",
     "text": [
      "Collecting keras==2.3.1\n",
      "  Downloading Keras-2.3.1-py2.py3-none-any.whl (377 kB)\n",
      "Requirement already satisfied: six>=1.9.0 in c:\\users\\edwar\\anaconda3\\envs\\tensorflow\\lib\\site-packages (from keras==2.3.1) (1.15.0)\n",
      "Requirement already satisfied: h5py in c:\\users\\edwar\\anaconda3\\envs\\tensorflow\\lib\\site-packages (from keras==2.3.1) (2.8.0)\n",
      "Requirement already satisfied: numpy>=1.9.1 in c:\\users\\edwar\\anaconda3\\envs\\tensorflow\\lib\\site-packages (from keras==2.3.1) (1.19.1)\n",
      "Requirement already satisfied: scipy>=0.14 in c:\\users\\edwar\\anaconda3\\envs\\tensorflow\\lib\\site-packages (from keras==2.3.1) (1.4.1)\n",
      "Requirement already satisfied: pyyaml in c:\\users\\edwar\\anaconda3\\envs\\tensorflow\\lib\\site-packages (from keras==2.3.1) (5.4.1)\n",
      "Requirement already satisfied: keras-applications>=1.0.6 in c:\\users\\edwar\\anaconda3\\envs\\tensorflow\\lib\\site-packages (from keras==2.3.1) (1.0.8)\n",
      "Requirement already satisfied: keras-preprocessing>=1.0.5 in c:\\users\\edwar\\anaconda3\\envs\\tensorflow\\lib\\site-packages (from keras==2.3.1) (1.1.0)\n",
      "Installing collected packages: keras\n",
      "  Attempting uninstall: keras\n",
      "    Found existing installation: Keras 2.4.3\n",
      "    Uninstalling Keras-2.4.3:\n",
      "      Successfully uninstalled Keras-2.4.3\n",
      "Successfully installed keras-2.3.1\n",
      "Note: you may need to restart the kernel to use updated packages.\n"
     ]
    }
   ],
   "source": [
    "pip install keras==2.3.1"
   ]
  },
  {
   "cell_type": "code",
   "execution_count": 1,
   "metadata": {},
   "outputs": [
    {
     "name": "stderr",
     "output_type": "stream",
     "text": [
      "Using TensorFlow backend.\n"
     ]
    }
   ],
   "source": [
    "import tensorflow as tf\n",
    "import numpy as np\n",
    "import pandas as pd\n",
    "from keras.preprocessing.image import ImageDataGenerator\n",
    "import os\n",
    "import random \n",
    "import cv2\n",
    "import imutils\n",
    "import random\n",
    "import matplotlib.pyplot as plt\n",
    "import seaborn as sns\n",
    "from sklearn.preprocessing import LabelBinarizer\n",
    "import keras\n",
    "from keras.utils import np_utils\n",
    "from keras.models import Model, Sequential\n",
    "from keras import optimizers\n",
    "from sklearn.preprocessing import LabelBinarizer\n",
    "from keras import backend as K\n",
    "from keras.layers import Dense, Activation, Flatten, Dense,MaxPooling2D, Dropout\n",
    "from keras.layers import Conv2D, MaxPooling2D, BatchNormalization\n",
    "from keras.applications.resnet50 import ResNet50\n",
    "from tensorflow.keras.preprocessing.image import ImageDataGenerator, array_to_img, img_to_array, load_img\n",
    "\n",
    "np.random.seed(123)"
   ]
  },
  {
   "cell_type": "code",
   "execution_count": 11,
   "metadata": {},
   "outputs": [
    {
     "name": "stdout",
     "output_type": "stream",
     "text": [
      "Num GPUs available:  1\n"
     ]
    }
   ],
   "source": [
    "physical_devices = tf.config.experimental.list_physical_devices('GPU')\n",
    "print(\"Num GPUs available: \", len(physical_devices))\n",
    "tf.config.experimental.set_memory_growth(physical_devices[0], True)"
   ]
  },
  {
   "cell_type": "code",
   "execution_count": 2,
   "metadata": {},
   "outputs": [
    {
     "name": "stdout",
     "output_type": "stream",
     "text": [
      "Tensor Flow Version: 2.1.0\n",
      "Keras Version: 2.2.4-tf\n",
      "\n",
      "Python 3.7.9 (default, Aug 31 2020, 17:10:11) [MSC v.1916 64 bit (AMD64)]\n",
      "Pandas 1.2.1\n",
      "Scikit-Learn 0.24.1\n",
      "GPU is available\n"
     ]
    }
   ],
   "source": [
    "import sys\n",
    "\n",
    "import tensorflow.keras\n",
    "import pandas as pd\n",
    "import sklearn as sk\n",
    "import tensorflow as tf\n",
    "\n",
    "print(f\"Tensor Flow Version: {tf.__version__}\")\n",
    "print(f\"Keras Version: {tensorflow.keras.__version__}\")\n",
    "print()\n",
    "print(f\"Python {sys.version}\")\n",
    "print(f\"Pandas {pd.__version__}\")\n",
    "print(f\"Scikit-Learn {sk.__version__}\")\n",
    "gpu = len(tf.config.list_physical_devices('GPU'))>0\n",
    "print(\"GPU is\", \"available\" if gpu else \"NOT AVAILABLE\")"
   ]
  },
  {
   "cell_type": "code",
   "execution_count": 3,
   "metadata": {
    "scrolled": true
   },
   "outputs": [
    {
     "name": "stdout",
     "output_type": "stream",
     "text": [
      "Found 834036 images belonging to 39 classes.\n",
      "Found 22524 images belonging to 39 classes.\n"
     ]
    }
   ],
   "source": [
    "train_dir = 'dataset/handwritten_character/Train'\n",
    "val_dir = 'dataset/handwritten_character/Validation'\n",
    "\n",
    "idg = ImageDataGenerator(rescale=1./255)\n",
    "\n",
    "train_generator = idg.flow_from_directory(train_dir, color_mode = 'grayscale',\n",
    "                                         target_size=(32, 32),\n",
    "                                         batch_size = 32,\n",
    "                                         class_mode ='categorical')\n",
    "\n",
    "valid_generator = idg.flow_from_directory(val_dir, color_mode = 'grayscale',\n",
    "                                         target_size=(32, 32),\n",
    "                                         batch_size = 32,\n",
    "                                         class_mode ='categorical')\n",
    "\n",
    "train_images, train_labels = next(train_generator)\n",
    "val_images, val_labels = next(valid_generator)"
   ]
  },
  {
   "cell_type": "code",
   "execution_count": 5,
   "metadata": {},
   "outputs": [
    {
     "data": {
      "text/plain": [
       "(32, 32, 32, 1)"
      ]
     },
     "execution_count": 5,
     "metadata": {},
     "output_type": "execute_result"
    }
   ],
   "source": [
    "train_images.shape"
   ]
  },
  {
   "cell_type": "code",
   "execution_count": 6,
   "metadata": {},
   "outputs": [
    {
     "data": {
      "image/png": "[encoded data removed]",
      "text/plain": [
       "<PIL.Image.Image image mode=L size=32x32 at 0x23508D06808>"
      ]
     },
     "execution_count": 6,
     "metadata": {},
     "output_type": "execute_result"
    }
   ],
   "source": [
    "array_to_img(train_images[0])"
   ]
  },
  {
   "cell_type": "code",
   "execution_count": 7,
   "metadata": {},
   "outputs": [],
   "source": [
    "#plot more images her letters to visualize"
   ]
  },
  {
   "cell_type": "code",
   "execution_count": 8,
   "metadata": {
    "scrolled": true
   },
   "outputs": [],
   "source": [
    "# restnet = ResNet50(include_top=False, weights='imagenet')"
   ]
  },
  {
   "cell_type": "code",
   "execution_count": 9,
   "metadata": {},
   "outputs": [],
   "source": [
    "# output = restnet.layers[-1].output\n",
    "# output= keras.layers.Flatten()(output)"
   ]
  },
  {
   "cell_type": "code",
   "execution_count": 10,
   "metadata": {},
   "outputs": [],
   "source": [
    "# restnet = Model(restnet.input, output=output)"
   ]
  },
  {
   "cell_type": "code",
   "execution_count": 11,
   "metadata": {},
   "outputs": [],
   "source": [
    "model_1 = Sequential()\n",
    "\n",
    "model_1.add(Conv2D(32, (3, 3), padding = 'same', activation='relu', input_shape=(32, 32, 1)))\n",
    "model_1.add(MaxPooling2D(pool_size=(2,2)))\n",
    "model_1.add(Conv2D(64, (3, 3), activation='relu'))\n",
    "model_1.add(MaxPooling2D(pool_size=(2, 2)))\n",
    "model_1.add(Conv2D(128, (3, 3), activation='relu'))\n",
    "model_1.add(MaxPooling2D(pool_size=(2,2)))\n",
    "model_1.add(Dropout(.025))\n",
    "\n",
    "model_1.add(Flatten())\n",
    "model_1.add(Dense(128, activation='relu'))\n",
    "model_1.add(Dropout(0.2))\n",
    "model_1.add(Dense(39, activation='softmax'))"
   ]
  },
  {
   "cell_type": "code",
   "execution_count": 12,
   "metadata": {},
   "outputs": [
    {
     "name": "stdout",
     "output_type": "stream",
     "text": [
      "Model: \"sequential_1\"\n",
      "_________________________________________________________________\n",
      "Layer (type)                 Output Shape              Param #   \n",
      "=================================================================\n",
      "conv2d_1 (Conv2D)            (None, 32, 32, 32)        320       \n",
      "_________________________________________________________________\n",
      "max_pooling2d_1 (MaxPooling2 (None, 16, 16, 32)        0         \n",
      "_________________________________________________________________\n",
      "conv2d_2 (Conv2D)            (None, 14, 14, 64)        18496     \n",
      "_________________________________________________________________\n",
      "max_pooling2d_2 (MaxPooling2 (None, 7, 7, 64)          0         \n",
      "_________________________________________________________________\n",
      "conv2d_3 (Conv2D)            (None, 5, 5, 128)         73856     \n",
      "_________________________________________________________________\n",
      "max_pooling2d_3 (MaxPooling2 (None, 2, 2, 128)         0         \n",
      "_________________________________________________________________\n",
      "dropout_1 (Dropout)          (None, 2, 2, 128)         0         \n",
      "_________________________________________________________________\n",
      "flatten_1 (Flatten)          (None, 512)               0         \n",
      "_________________________________________________________________\n",
      "dense_1 (Dense)              (None, 128)               65664     \n",
      "_________________________________________________________________\n",
      "dropout_2 (Dropout)          (None, 128)               0         \n",
      "_________________________________________________________________\n",
      "dense_2 (Dense)              (None, 39)                5031      \n",
      "=================================================================\n",
      "Total params: 163,367\n",
      "Trainable params: 163,367\n",
      "Non-trainable params: 0\n",
      "_________________________________________________________________\n"
     ]
    }
   ],
   "source": [
    "model_1.summary()"
   ]
  },
  {
   "cell_type": "code",
   "execution_count": 13,
   "metadata": {},
   "outputs": [],
   "source": [
    "model_1.compile(loss = 'categorical_crossentropy',\n",
    "             optimizer='adam',\n",
    "             metrics = ['accuracy'])"
   ]
  },
  {
   "cell_type": "code",
   "execution_count": 15,
   "metadata": {},
   "outputs": [
    {
     "name": "stdout",
     "output_type": "stream",
     "text": [
      "Epoch 1/50\n",
      "26064/26064 [==============================] - 519s 20ms/step - loss: 0.2561 - accuracy: 0.9182 - val_loss: 0.0576 - val_accuracy: 0.9389\n",
      "Epoch 2/50\n",
      "26064/26064 [==============================] - 424s 16ms/step - loss: 0.1759 - accuracy: 0.9415 - val_loss: 0.0874 - val_accuracy: 0.9397\n",
      "Epoch 3/50\n",
      "26064/26064 [==============================] - 417s 16ms/step - loss: 0.1649 - accuracy: 0.9445 - val_loss: 0.0760 - val_accuracy: 0.9467\n",
      "Epoch 4/50\n",
      "26064/26064 [==============================] - 414s 16ms/step - loss: 0.1596 - accuracy: 0.9462 - val_loss: 0.3243 - val_accuracy: 0.9489\n",
      "Epoch 5/50\n",
      "26064/26064 [==============================] - 424s 16ms/step - loss: 0.1565 - accuracy: 0.9473 - val_loss: 0.0261 - val_accuracy: 0.9512: 0.1561 - accuracy: - ETA: 26s - loss: 0.1561 - ETA:  - ETA: 0s - loss: 0\n",
      "Epoch 6/50\n",
      "26064/26064 [==============================] - 414s 16ms/step - loss: 0.1549 - accuracy: 0.9475 - val_loss: 0.0299 - val_accuracy: 0.9488s - loss: - ETA: 0s -\n",
      "Epoch 7/50\n",
      "26064/26064 [==============================] - 416s 16ms/step - loss: 0.1539 - accuracy: 0.9480 - val_loss: 0.3826 - val_accuracy: 0.9500\n",
      "Epoch 8/50\n",
      "26064/26064 [==============================] - 407s 16ms/step - loss: 0.1526 - accuracy: 0.9483 - val_loss: 0.6775 - val_accuracy: 0.9455ETA: - ETA - ETA - ETA: 0s - loss: 0.1525 - \n",
      "Epoch 9/50\n",
      "26064/26064 [==============================] - 416s 16ms/step - loss: 0.1525 - accuracy: 0.9481 - val_loss: 0.0342 - val_accuracy: 0.9474\n",
      "Epoch 10/50\n",
      "26064/26064 [==============================] - 458s 18ms/step - loss: 0.1522 - accuracy: 0.9486 - val_loss: 0.1047 - val_accuracy: 0.9463s: 0.1516 - accura - ETA: 29s - - ETA: 19s - loss: 0.1514 - accu - ETA: 19s - loss: 0.1514 - accurac - ETA: 18s - loss: 0.1514 - - ET - ETA: 12s - loss: 0.1516 - accuracy: 0.94 - ETA: 12s - loss: 0.1516 - accuracy: 0 - E - ETA: 8s - loss: 0.1517 - accu - ETA: 7s - loss: 0.1518 - accuracy: 0.94 - ETA: 7s - loss: 0.1518 - accu - ETA: 7s - loss: 0.1 - ETA: 5s - loss: 0.1518 - accu - ETA: 5s - loss: 0.1518 - accu - ETA: 4s - los - ETA: 3s - loss: 0.1518 - accuracy - ETA\n",
      "Epoch 11/50\n",
      "26064/26064 [==============================] - 421s 16ms/step - loss: 0.1521 - accuracy: 0.9484 - val_loss: 0.4665 - val_accuracy: 0.9500: 0.1521 - accura\n",
      "Epoch 12/50\n",
      "26064/26064 [==============================] - 414s 16ms/step - loss: 0.1518 - accuracy: 0.9486 - val_loss: 0.3205 - val_accuracy: 0.9508\n",
      "Epoch 13/50\n",
      "26064/26064 [==============================] - 415s 16ms/step - loss: 0.1513 - accuracy: 0.9485 - val_loss: 0.5126 - val_accuracy: 0.9463\n",
      "Epoch 14/50\n",
      "26064/26064 [==============================] - 418s 16ms/step - loss: 0.1517 - accuracy: 0.9485 - val_loss: 0.0410 - val_accuracy: 0.9485\n",
      "Epoch 15/50\n",
      "26064/26064 [==============================] - 414s 16ms/step - loss: 0.1522 - accuracy: 0.9486 - val_loss: 0.0999 - val_accuracy: 0.9454\n",
      "Epoch 16/50\n",
      "26064/26064 [==============================] - 409s 16ms/step - loss: 0.1524 - accuracy: 0.9485 - val_loss: 0.0936 - val_accuracy: 0.9461\n",
      "Epoch 17/50\n",
      "26064/26064 [==============================] - 419s 16ms/step - loss: 0.1535 - accuracy: 0.9484 - val_loss: 0.2049 - val_accuracy: 0.9499\n",
      "Epoch 18/50\n",
      "26064/26064 [==============================] - 425s 16ms/step - loss: 0.1534 - accuracy: 0.9482 - val_loss: 0.2494 - val_accuracy: 0.9504: 23s - loss: 0.1530 - ac - ETA:  - ETA: 0s\n",
      "Epoch 19/50\n",
      "26064/26064 [==============================] - 477s 18ms/step - loss: 0.1569 - accuracy: 0.9477 - val_loss: 0.1112 - val_accuracy: 0.9458\n",
      "Epoch 20/50\n",
      "26064/26064 [==============================] - 436s 17ms/step - loss: 0.1558 - accuracy: 0.9480 - val_loss: 0.0330 - val_accuracy: 0.9474\n",
      "Epoch 21/50\n",
      "26064/26064 [==============================] - 413s 16ms/step - loss: 0.1564 - accuracy: 0.9477 - val_loss: 0.2166 - val_accuracy: 0.9439\n",
      "Epoch 22/50\n",
      "26064/26064 [==============================] - 410s 16ms/step - loss: 0.1596 - accuracy: 0.9470 - val_loss: 0.1412 - val_accuracy: 0.9466\n",
      "Epoch 23/50\n",
      "26064/26064 [==============================] - 413s 16ms/step - loss: 0.1604 - accuracy: 0.9470 - val_loss: 0.4575 - val_accuracy: 0.9472\n",
      "Epoch 24/50\n",
      "26064/26064 [==============================] - 411s 16ms/step - loss: 0.1616 - accuracy: 0.9467 - val_loss: 0.1262 - val_accuracy: 0.9436\n",
      "Epoch 25/50\n",
      "26064/26064 [==============================] - 469s 18ms/step - loss: 0.1641 - accuracy: 0.9465 - val_loss: 0.4402 - val_accuracy: 0.9480\n",
      "Epoch 26/50\n",
      "26064/26064 [==============================] - 434s 17ms/step - loss: 0.1654 - accuracy: 0.9463 - val_loss: 0.2404 - val_accuracy: 0.9474ss: 0\n",
      "Epoch 27/50\n",
      "26064/26064 [==============================] - 444s 17ms/step - loss: 0.1644 - accuracy: 0.9462 - val_loss: 0.0120 - val_accuracy: 0.9501\n",
      "Epoch 28/50\n",
      "26064/26064 [==============================] - 468s 18ms/step - loss: 0.1675 - accuracy: 0.9455 - val_loss: 0.0641 - val_accuracy: 0.9454ETA: 3 -  - ETA: 21s - loss: 0.1 - ETA: 20s - loss: 0.1667 -  - ETA - ETA: 17s - lo - ETA: 15s - loss: 0.1668 - accur - ETA: 14s - loss: 0.1668 - accuracy: 0 - ETA: 14s - loss: 0.1668 - accurac  - ET - ETA: 2s - loss: 0.1675 - accuracy:  - - ETA: 0s - loss: 0.1675 \n",
      "Epoch 29/50\n",
      "26064/26064 [==============================] - 420s 16ms/step - loss: 0.1681 - accuracy: 0.9453 - val_loss: 0.1025 - val_accuracy: 0.9467\n",
      "Epoch 30/50\n",
      "26064/26064 [==============================] - 413s 16ms/step - loss: 0.1697 - accuracy: 0.9449 - val_loss: 0.0289 - val_accuracy: 0.9464\n",
      "Epoch 31/50\n",
      "26064/26064 [==============================] - 415s 16ms/step - loss: 0.1712 - accuracy: 0.9446 - val_loss: 0.1950 - val_accuracy: 0.9480\n",
      "Epoch 32/50\n",
      "26064/26064 [==============================] - 411s 16ms/step - loss: 0.1716 - accuracy: 0.9446 - val_loss: 0.1031 - val_accuracy: 0.9427\n",
      "Epoch 33/50\n",
      "26064/26064 [==============================] - 415s 16ms/step - loss: 0.1763 - accuracy: 0.9435 - val_loss: 0.0700 - val_accuracy: 0.9475\n",
      "Epoch 34/50\n",
      "26064/26064 [==============================] - 413s 16ms/step - loss: 0.1750 - accuracy: 0.9435 - val_loss: 0.0977 - val_accuracy: 0.9436\n",
      "Epoch 35/50\n",
      "26064/26064 [==============================] - 415s 16ms/step - loss: 0.1774 - accuracy: 0.9432 - val_loss: 0.0437 - val_accuracy: 0.9433\n",
      "Epoch 36/50\n",
      "26064/26064 [==============================] - 436s 17ms/step - loss: 0.1855 - accuracy: 0.9420 - val_loss: 0.1467 - val_accuracy: 0.9453\n",
      "Epoch 37/50\n",
      "26064/26064 [==============================] - 446s 17ms/step - loss: 0.1813 - accuracy: 0.9423 - val_loss: 0.1895 - val_accuracy: 0.9491\n",
      "Epoch 38/50\n",
      "26064/26064 [==============================] - 429s 16ms/step - loss: 0.1811 - accuracy: 0.9425 - val_loss: 0.1446 - val_accuracy: 0.9429\n",
      "Epoch 39/50\n",
      "26064/26064 [==============================] - 425s 16ms/step - loss: 0.1860 - accuracy: 0.9418 - val_loss: 0.0251 - val_accuracy: 0.9500\n",
      "Epoch 40/50\n",
      "26064/26064 [==============================] - 421s 16ms/step - loss: 0.1821 - accuracy: 0.9423 - val_loss: 0.3351 - val_accuracy: 0.9456 - accuracy: 0.\n",
      "Epoch 41/50\n",
      "26064/26064 [==============================] - 429s 16ms/step - loss: 0.1931 - accuracy: 0.9407 - val_loss: 0.2269 - val_accuracy: 0.9454\n",
      "Epoch 42/50\n",
      "26064/26064 [==============================] - 428s 16ms/step - loss: 0.1838 - accuracy: 0.9418 - val_loss: 0.2220 - val_accuracy: 0.9461\n",
      "Epoch 43/50\n",
      "26064/26064 [==============================] - 426s 16ms/step - loss: 0.1846 - accuracy: 0.9416 - val_loss: 0.3143 - val_accuracy: 0.9421\n",
      "Epoch 44/50\n",
      "26064/26064 [==============================] - 431s 17ms/step - loss: 0.1950 - accuracy: 0.9407 - val_loss: 0.3453 - val_accuracy: 0.9477\n",
      "Epoch 45/50\n",
      "26064/26064 [==============================] - 445s 17ms/step - loss: 0.1858 - accuracy: 0.9412 - val_loss: 0.4432 - val_accuracy: 0.9468\n",
      "Epoch 46/50\n",
      "26064/26064 [==============================] - 445s 17ms/step - loss: 0.1876 - accuracy: 0.9408 - val_loss: 0.4527 - val_accuracy: 0.9453\n",
      "Epoch 47/50\n"
     ]
    },
    {
     "name": "stdout",
     "output_type": "stream",
     "text": [
      "26064/26064 [==============================] - 433s 17ms/step - loss: 0.1950 - accuracy: 0.9393 - val_loss: 0.2359 - val_accuracy: 0.9351\n",
      "Epoch 48/50\n",
      "26064/26064 [==============================] - 427s 16ms/step - loss: 0.1905 - accuracy: 0.9401 - val_loss: 0.2072 - val_accuracy: 0.9454\n",
      "Epoch 49/50\n",
      "26064/26064 [==============================] - 426s 16ms/step - loss: 0.1911 - accuracy: 0.9399 - val_loss: 0.3298 - val_accuracy: 0.9425\n",
      "Epoch 50/50\n",
      "26064/26064 [==============================] - 423s 16ms/step - loss: 0.1909 - accuracy: 0.9399 - val_loss: 0.2982 - val_accuracy: 0.9436\n"
     ]
    }
   ],
   "source": [
    "np.random.seed(123)\n",
    "results_1 = model_1.fit(train_generator, epochs=50, validation_data=valid_generator, verbose=1)"
   ]
  },
  {
   "cell_type": "code",
   "execution_count": 17,
   "metadata": {},
   "outputs": [
    {
     "data": {
      "text/plain": [
       "dict_keys(['val_loss', 'val_accuracy', 'loss', 'accuracy'])"
      ]
     },
     "execution_count": 17,
     "metadata": {},
     "output_type": "execute_result"
    }
   ],
   "source": [
    "results_1.history.keys()"
   ]
  },
  {
   "cell_type": "code",
   "execution_count": 20,
   "metadata": {},
   "outputs": [],
   "source": [
    "def visualize_training_results(results):\n",
    "    history = results.history\n",
    "    plt.figure()\n",
    "    plt.plot(history['val_loss'])\n",
    "    plt.plot(history['loss'])\n",
    "    plt.legend(['val_loss', 'loss'])\n",
    "    plt.title('Loss')\n",
    "    plt.xlabel('Epochs')\n",
    "    plt.ylabel('Loss')\n",
    "    plt.show()\n",
    "    \n",
    "    plt.figure()\n",
    "    plt.plot(history['val_accuracy'])\n",
    "    plt.plot(history['accuracy'])\n",
    "    plt.legend(['val_accuracy', 'accuracy'])\n",
    "    plt.title('Accuracy')\n",
    "    plt.xlabel('Epochs')\n",
    "    plt.ylabel('Accuracy')\n",
    "    plt.show()"
   ]
  },
  {
   "cell_type": "code",
   "execution_count": 21,
   "metadata": {},
   "outputs": [
    {
     "data": {
      "image/png": "[encoded data removed]",
      "text/plain": [
       "<Figure size 432x288 with 1 Axes>"
      ]
     },
     "metadata": {
      "needs_background": "light"
     },
     "output_type": "display_data"
    },
    {
     "data": {
      "image/png": "[encoded data removed]",
      "text/plain": [
       "<Figure size 432x288 with 1 Axes>"
      ]
     },
     "metadata": {
      "needs_background": "light"
     },
     "output_type": "display_data"
    }
   ],
   "source": [
    "visualize_training_results(results_1)"
   ]
  }
 ],
 "metadata": {
  "kernelspec": {
   "display_name": "Python 3.7 (tensorflow)",
   "language": "python",
   "name": "tensorflow"
  },
  "language_info": {
   "codemirror_mode": {
    "name": "ipython",
    "version": 3
   },
   "file_extension": ".py",
   "mimetype": "text/x-python",
   "name": "python",
   "nbconvert_exporter": "python",
   "pygments_lexer": "ipython3",
   "version": "3.7.9"
  },
  "toc": {
   "base_numbering": 1,
   "nav_menu": {},
   "number_sections": true,
   "sideBar": true,
   "skip_h1_title": false,
   "title_cell": "Table of Contents",
   "title_sidebar": "Contents",
   "toc_cell": false,
   "toc_position": {},
   "toc_section_display": true,
   "toc_window_display": false
  }
 },
 "nbformat": 4,
 "nbformat_minor": 4
}
