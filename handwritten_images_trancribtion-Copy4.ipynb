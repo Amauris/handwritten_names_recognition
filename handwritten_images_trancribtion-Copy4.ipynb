{
 "cells": [
  {
   "cell_type": "code",
   "execution_count": 1,
   "metadata": {},
   "outputs": [
    {
     "name": "stderr",
     "output_type": "stream",
     "text": [
      "Using TensorFlow backend.\n"
     ]
    }
   ],
   "source": [
    "import tensorflow as tf\n",
    "import numpy as np\n",
    "import pandas as pd\n",
    "from keras.preprocessing.image import ImageDataGenerator\n",
    "import os\n",
    "import random \n",
    "import cv2\n",
    "import imutils\n",
    "import random\n",
    "import matplotlib.pyplot as plt\n",
    "import seaborn as sns\n",
    "from sklearn.preprocessing import LabelBinarizer\n",
    "import keras\n",
    "from keras.utils import np_utils\n",
    "from keras.models import Model, Sequential\n",
    "from keras import optimizers\n",
    "from sklearn.preprocessing import LabelBinarizer\n",
    "from keras import backend as K\n",
    "from keras.layers import Dense, Activation, Flatten, Dense,MaxPooling2D, Dropout\n",
    "from keras.layers import Conv2D, MaxPooling2D, BatchNormalization\n",
    "from sklearn.metrics import confusion_matrix, f1_score\n",
    "from keras.applications.resnet50 import ResNet50\n",
    "from tensorflow.keras.preprocessing.image import ImageDataGenerator, array_to_img, img_to_array, load_img\n",
    "import pickle\n",
    "import itertools\n",
    "\n",
    "np.random.seed(123)"
   ]
  },
  {
   "cell_type": "code",
   "execution_count": 2,
   "metadata": {},
   "outputs": [
    {
     "name": "stdout",
     "output_type": "stream",
     "text": [
      "Tensor Flow Version: 2.1.0\n",
      "Keras Version: 2.2.4-tf\n",
      "\n",
      "Python 3.7.9 (default, Aug 31 2020, 17:10:11) [MSC v.1916 64 bit (AMD64)]\n",
      "Pandas 1.2.1\n",
      "Scikit-Learn 0.24.1\n",
      "GPU is available\n"
     ]
    }
   ],
   "source": [
    "import sys\n",
    "\n",
    "import tensorflow.keras\n",
    "import sklearn as sk\n",
    "\n",
    "print(f\"Tensor Flow Version: {tf.__version__}\")\n",
    "print(f\"Keras Version: {tensorflow.keras.__version__}\")\n",
    "print()\n",
    "print(f\"Python {sys.version}\")\n",
    "print(f\"Pandas {pd.__version__}\")\n",
    "print(f\"Scikit-Learn {sk.__version__}\")\n",
    "gpu = len(tf.config.list_physical_devices('GPU'))>0\n",
    "print(\"GPU is\", \"available\" if gpu else \"NOT AVAILABLE\")"
   ]
  },
  {
   "cell_type": "code",
   "execution_count": 3,
   "metadata": {
    "scrolled": true
   },
   "outputs": [
    {
     "name": "stdout",
     "output_type": "stream",
     "text": [
      "Found 834036 images belonging to 39 classes.\n",
      "Found 22524 images belonging to 39 classes.\n"
     ]
    }
   ],
   "source": [
    "train_dir = 'dataset/handwritten_character/Train'\n",
    "val_dir = 'dataset/handwritten_character/Validation'\n",
    "\n",
    "idg = ImageDataGenerator(rescale=1./255)\n",
    "\n",
    "# get all the data in the directory train (834036 images), and reshape them\n",
    "train_generator = idg.flow_from_directory(train_dir, color_mode = 'grayscale',\n",
    "                                         target_size=(32, 32),\n",
    "                                         batch_size = 834036,\n",
    "                                         class_mode ='binary')\n",
    "\n",
    "# get all the data in the directory validation (22524 images), and reshape them\n",
    "valid_generator = idg.flow_from_directory(val_dir, color_mode = 'grayscale',\n",
    "                                         target_size=(32, 32),\n",
    "                                         batch_size = 22524,\n",
    "                                         class_mode ='binary')\n",
    "\n",
    "# create the data sets\n",
    "# train_images, train_labels = next(train_generator)\n",
    "# val_images, val_labels = next(valid_generator)"
   ]
  },
  {
   "cell_type": "code",
   "execution_count": 4,
   "metadata": {},
   "outputs": [],
   "source": [
    "# Saving the train images/labels\n",
    "save_path = \"pickle_files/\"\n",
    "\n",
    "# with open(os.path.join(save_path, \"train.pkl\"), \"wb\") as f:\n",
    "#     pickle.dump((train_images, train_labels), f)"
   ]
  },
  {
   "cell_type": "code",
   "execution_count": 5,
   "metadata": {},
   "outputs": [],
   "source": [
    "# Saving the val images/labels\n",
    "\n",
    "# with open(os.path.join(save_path, \"val.pkl\"), \"wb\") as f:\n",
    "#     pickle.dump((val_images, val_labels), f)"
   ]
  },
  {
   "cell_type": "code",
   "execution_count": 6,
   "metadata": {},
   "outputs": [],
   "source": [
    "# Load train images/labels\n",
    "with open(os.path.join(save_path, \"train.pkl\"), \"rb\") as f:\n",
    "    (train_images, train_labels) = pickle.load(f)"
   ]
  },
  {
   "cell_type": "code",
   "execution_count": 7,
   "metadata": {},
   "outputs": [],
   "source": [
    "# Load val images/labels\n",
    "with open(os.path.join(save_path, \"val.pkl\"), \"rb\") as f:\n",
    "    (val_images, val_labels) = pickle.load(f)"
   ]
  },
  {
   "cell_type": "code",
   "execution_count": 8,
   "metadata": {},
   "outputs": [
    {
     "data": {
      "text/plain": [
       "{'#': 0,\n",
       " '$': 1,\n",
       " '&': 2,\n",
       " '0': 3,\n",
       " '1': 4,\n",
       " '2': 5,\n",
       " '3': 6,\n",
       " '4': 7,\n",
       " '5': 8,\n",
       " '6': 9,\n",
       " '7': 10,\n",
       " '8': 11,\n",
       " '9': 12,\n",
       " '@': 13,\n",
       " 'A': 14,\n",
       " 'B': 15,\n",
       " 'C': 16,\n",
       " 'D': 17,\n",
       " 'E': 18,\n",
       " 'F': 19,\n",
       " 'G': 20,\n",
       " 'H': 21,\n",
       " 'I': 22,\n",
       " 'J': 23,\n",
       " 'K': 24,\n",
       " 'L': 25,\n",
       " 'M': 26,\n",
       " 'N': 27,\n",
       " 'P': 28,\n",
       " 'Q': 29,\n",
       " 'R': 30,\n",
       " 'S': 31,\n",
       " 'T': 32,\n",
       " 'U': 33,\n",
       " 'V': 34,\n",
       " 'W': 35,\n",
       " 'X': 36,\n",
       " 'Y': 37,\n",
       " 'Z': 38}"
      ]
     },
     "execution_count": 8,
     "metadata": {},
     "output_type": "execute_result"
    }
   ],
   "source": [
    "train_generator.class_indices"
   ]
  },
  {
   "cell_type": "code",
   "execution_count": 9,
   "metadata": {},
   "outputs": [
    {
     "data": {
      "text/plain": [
       "array([ 0,  0,  0, ..., 38, 38, 38])"
      ]
     },
     "execution_count": 9,
     "metadata": {},
     "output_type": "execute_result"
    }
   ],
   "source": [
    "train_generator.classes"
   ]
  },
  {
   "cell_type": "code",
   "execution_count": 10,
   "metadata": {},
   "outputs": [],
   "source": [
    "#figure out how to save and load files using pickle"
   ]
  },
  {
   "cell_type": "code",
   "execution_count": 11,
   "metadata": {},
   "outputs": [
    {
     "name": "stdout",
     "output_type": "stream",
     "text": [
      "Train images shape:  (834036, 32, 32, 1)\n",
      "Val images shape:  (22524, 32, 32, 1)\n",
      "Train labels shape:  (834036,)\n",
      "Val labels shape:  (22524,)\n"
     ]
    }
   ],
   "source": [
    "# Explore your dataset\n",
    "print('Train images shape: ', train_images.shape)\n",
    "print('Val images shape: ', val_images.shape)\n",
    "print('Train labels shape: ', train_labels.shape)\n",
    "print('Val labels shape: ', val_labels.shape)"
   ]
  },
  {
   "cell_type": "code",
   "execution_count": 12,
   "metadata": {},
   "outputs": [
    {
     "data": {
      "text/plain": [
       "(834036, 32, 32, 1)"
      ]
     },
     "execution_count": 12,
     "metadata": {},
     "output_type": "execute_result"
    }
   ],
   "source": [
    "train_images.shape"
   ]
  },
  {
   "cell_type": "code",
   "execution_count": 13,
   "metadata": {},
   "outputs": [
    {
     "data": {
      "image/png": "[encoded data removed]",
      "text/plain": [
       "<PIL.Image.Image image mode=L size=32x32 at 0x19FDBB2F788>"
      ]
     },
     "execution_count": 13,
     "metadata": {},
     "output_type": "execute_result"
    }
   ],
   "source": [
    "array_to_img(train_images[0])"
   ]
  },
  {
   "cell_type": "code",
   "execution_count": 14,
   "metadata": {},
   "outputs": [
    {
     "data": {
      "text/plain": [
       "array([ 0., 11., 32., ...,  4., 15.,  5.], dtype=float32)"
      ]
     },
     "execution_count": 14,
     "metadata": {},
     "output_type": "execute_result"
    }
   ],
   "source": [
    "train_labels"
   ]
  },
  {
   "cell_type": "code",
   "execution_count": 15,
   "metadata": {},
   "outputs": [],
   "source": [
    "LB = LabelBinarizer()\n",
    "train_labels = LB.fit_transform(train_labels)\n",
    "val_labels = LB.fit_transform(val_labels)"
   ]
  },
  {
   "cell_type": "code",
   "execution_count": 16,
   "metadata": {},
   "outputs": [
    {
     "data": {
      "text/plain": [
       "array([[1, 0, 0, ..., 0, 0, 0],\n",
       "       [0, 0, 0, ..., 0, 0, 0],\n",
       "       [0, 0, 0, ..., 0, 0, 0],\n",
       "       ...,\n",
       "       [0, 0, 0, ..., 0, 0, 0],\n",
       "       [0, 0, 0, ..., 0, 0, 0],\n",
       "       [0, 0, 0, ..., 0, 0, 0]])"
      ]
     },
     "execution_count": 16,
     "metadata": {},
     "output_type": "execute_result"
    }
   ],
   "source": [
    "train_labels"
   ]
  },
  {
   "cell_type": "code",
   "execution_count": 17,
   "metadata": {},
   "outputs": [],
   "source": [
    "train_labels = np.array(train_labels)\n",
    "val_labels = np.array(val_labels)"
   ]
  },
  {
   "cell_type": "code",
   "execution_count": 18,
   "metadata": {},
   "outputs": [
    {
     "data": {
      "text/plain": [
       "array([[1, 0, 0, ..., 0, 0, 0],\n",
       "       [0, 0, 0, ..., 0, 0, 0],\n",
       "       [0, 0, 0, ..., 0, 0, 0],\n",
       "       ...,\n",
       "       [0, 0, 0, ..., 0, 0, 0],\n",
       "       [0, 0, 0, ..., 0, 0, 0],\n",
       "       [0, 0, 0, ..., 0, 0, 0]])"
      ]
     },
     "execution_count": 18,
     "metadata": {},
     "output_type": "execute_result"
    }
   ],
   "source": [
    "train_labels"
   ]
  },
  {
   "cell_type": "code",
   "execution_count": 19,
   "metadata": {},
   "outputs": [],
   "source": [
    "#plot more images her letters to visualize"
   ]
  },
  {
   "cell_type": "code",
   "execution_count": 20,
   "metadata": {
    "scrolled": true
   },
   "outputs": [],
   "source": [
    "# restnet = ResNet50(include_top=False, weights='imagenet')"
   ]
  },
  {
   "cell_type": "code",
   "execution_count": 21,
   "metadata": {},
   "outputs": [],
   "source": [
    "# output = restnet.layers[-1].output\n",
    "# output= keras.layers.Flatten()(output)"
   ]
  },
  {
   "cell_type": "code",
   "execution_count": 22,
   "metadata": {},
   "outputs": [],
   "source": [
    "# restnet = Model(restnet.input, output=output)"
   ]
  },
  {
   "cell_type": "code",
   "execution_count": 23,
   "metadata": {},
   "outputs": [],
   "source": [
    "model_3 = Sequential()\n",
    "\n",
    "model_3.add(Conv2D(32, (3, 3), activation='relu', input_shape=(32, 32, 1)))\n",
    "model_3.add(BatchNormalization())\n",
    "model_3.add(Conv2D(32, (3, 3), activation='relu'))\n",
    "model_3.add(BatchNormalization())\n",
    "model_3.add(Conv2D(32, (5, 5), strides=2, padding='same', activation='relu'))\n",
    "model_3.add(BatchNormalization())\n",
    "model_3.add(Dropout(0.4))\n",
    "\n",
    "model_3.add(Conv2D(64, (3, 3), activation='relu'))\n",
    "model_3.add(BatchNormalization())\n",
    "model_3.add(Conv2D(64, (3,3), activation='relu'))\n",
    "model_3.add(BatchNormalization())\n",
    "model_3.add(Conv2D(64, (5, 5), strides=2, padding='same', activation='relu'))\n",
    "model_3.add(BatchNormalization())\n",
    "model_3.add(Dropout(0.4))\n",
    "\n",
    "model_3.add(Conv2D(128, kernel_size = 4, activation='relu'))\n",
    "model_3.add(BatchNormalization())\n",
    "model_3.add(Flatten())\n",
    "model_3.add(Dropout(0.4))\n",
    "model_3.add(Dense(39, activation='softmax'))"
   ]
  },
  {
   "cell_type": "code",
   "execution_count": 24,
   "metadata": {},
   "outputs": [
    {
     "name": "stdout",
     "output_type": "stream",
     "text": [
      "Model: \"sequential_1\"\n",
      "_________________________________________________________________\n",
      "Layer (type)                 Output Shape              Param #   \n",
      "=================================================================\n",
      "conv2d_1 (Conv2D)            (None, 30, 30, 32)        320       \n",
      "_________________________________________________________________\n",
      "batch_normalization_1 (Batch (None, 30, 30, 32)        128       \n",
      "_________________________________________________________________\n",
      "conv2d_2 (Conv2D)            (None, 28, 28, 32)        9248      \n",
      "_________________________________________________________________\n",
      "batch_normalization_2 (Batch (None, 28, 28, 32)        128       \n",
      "_________________________________________________________________\n",
      "conv2d_3 (Conv2D)            (None, 14, 14, 32)        25632     \n",
      "_________________________________________________________________\n",
      "batch_normalization_3 (Batch (None, 14, 14, 32)        128       \n",
      "_________________________________________________________________\n",
      "dropout_1 (Dropout)          (None, 14, 14, 32)        0         \n",
      "_________________________________________________________________\n",
      "conv2d_4 (Conv2D)            (None, 12, 12, 64)        18496     \n",
      "_________________________________________________________________\n",
      "batch_normalization_4 (Batch (None, 12, 12, 64)        256       \n",
      "_________________________________________________________________\n",
      "conv2d_5 (Conv2D)            (None, 10, 10, 64)        36928     \n",
      "_________________________________________________________________\n",
      "batch_normalization_5 (Batch (None, 10, 10, 64)        256       \n",
      "_________________________________________________________________\n",
      "conv2d_6 (Conv2D)            (None, 5, 5, 64)          102464    \n",
      "_________________________________________________________________\n",
      "batch_normalization_6 (Batch (None, 5, 5, 64)          256       \n",
      "_________________________________________________________________\n",
      "dropout_2 (Dropout)          (None, 5, 5, 64)          0         \n",
      "_________________________________________________________________\n",
      "conv2d_7 (Conv2D)            (None, 2, 2, 128)         131200    \n",
      "_________________________________________________________________\n",
      "batch_normalization_7 (Batch (None, 2, 2, 128)         512       \n",
      "_________________________________________________________________\n",
      "flatten_1 (Flatten)          (None, 512)               0         \n",
      "_________________________________________________________________\n",
      "dropout_3 (Dropout)          (None, 512)               0         \n",
      "_________________________________________________________________\n",
      "dense_1 (Dense)              (None, 39)                20007     \n",
      "=================================================================\n",
      "Total params: 345,959\n",
      "Trainable params: 345,127\n",
      "Non-trainable params: 832\n",
      "_________________________________________________________________\n"
     ]
    }
   ],
   "source": [
    "model_3.summary()"
   ]
  },
  {
   "cell_type": "code",
   "execution_count": 25,
   "metadata": {},
   "outputs": [],
   "source": [
    "model_3.compile(loss = 'categorical_crossentropy',\n",
    "             optimizer='adam',\n",
    "             metrics = ['accuracy'])"
   ]
  },
  {
   "cell_type": "code",
   "execution_count": 26,
   "metadata": {},
   "outputs": [
    {
     "name": "stdout",
     "output_type": "stream",
     "text": [
      "Train on 834036 samples, validate on 22524 samples\n",
      "Epoch 1/150\n",
      "834036/834036 [==============================] - 353s 423us/step - loss: 0.2751 - accuracy: 0.9115 - val_loss: 0.1871 - val_accuracy: 0.9386\n",
      "Epoch 2/150\n",
      "834036/834036 [==============================] - 349s 418us/step - loss: 0.1804 - accuracy: 0.9392 - val_loss: 0.1713 - val_accuracy: 0.9521\n",
      "Epoch 3/150\n",
      "834036/834036 [==============================] - 344s 412us/step - loss: 0.1656 - accuracy: 0.9439 - val_loss: 0.1454 - val_accuracy: 0.9556\n",
      "Epoch 4/150\n",
      "834036/834036 [==============================] - 340s 408us/step - loss: 0.1568 - accuracy: 0.9466 - val_loss: 0.1434 - val_accuracy: 0.9562\n",
      "Epoch 5/150\n",
      "834036/834036 [==============================] - 342s 410us/step - loss: 0.1498 - accuracy: 0.9487 - val_loss: 0.1402 - val_accuracy: 0.9548\n",
      "Epoch 6/150\n",
      "834036/834036 [==============================] - 340s 408us/step - loss: 0.1444 - accuracy: 0.9506 - val_loss: 0.1339 - val_accuracy: 0.9584\n",
      "Epoch 7/150\n",
      "834036/834036 [==============================] - 342s 410us/step - loss: 0.1414 - accuracy: 0.9516 - val_loss: 0.1398 - val_accuracy: 0.9515\n",
      "Epoch 8/150\n",
      "834036/834036 [==============================] - 341s 408us/step - loss: 0.1385 - accuracy: 0.9525 - val_loss: 0.1401 - val_accuracy: 0.9576\n",
      "Epoch 9/150\n",
      "834036/834036 [==============================] - 340s 408us/step - loss: 0.1355 - accuracy: 0.9537 - val_loss: 0.1291 - val_accuracy: 0.9564\n",
      "Epoch 10/150\n",
      "834036/834036 [==============================] - 342s 410us/step - loss: 0.1340 - accuracy: 0.9540 - val_loss: 0.1189 - val_accuracy: 0.9615\n",
      "Epoch 11/150\n",
      "834036/834036 [==============================] - 340s 408us/step - loss: 0.1320 - accuracy: 0.9547 - val_loss: 0.1293 - val_accuracy: 0.9558\n",
      "Epoch 12/150\n",
      "834036/834036 [==============================] - 341s 408us/step - loss: 0.1295 - accuracy: 0.9554 - val_loss: 0.1298 - val_accuracy: 0.9581\n",
      "Epoch 13/150\n",
      "834036/834036 [==============================] - 342s 410us/step - loss: 0.1288 - accuracy: 0.9558 - val_loss: 0.1202 - val_accuracy: 0.9620\n",
      "Epoch 14/150\n",
      "834036/834036 [==============================] - 340s 408us/step - loss: 0.1277 - accuracy: 0.9561 - val_loss: 0.1235 - val_accuracy: 0.9583\n",
      "Epoch 15/150\n",
      "834036/834036 [==============================] - 342s 410us/step - loss: 0.1261 - accuracy: 0.9565 - val_loss: 0.1187 - val_accuracy: 0.9611\n",
      "Epoch 16/150\n",
      "834036/834036 [==============================] - 340s 408us/step - loss: 0.1250 - accuracy: 0.9570 - val_loss: 0.1128 - val_accuracy: 0.9611\n",
      "Epoch 17/150\n",
      "834036/834036 [==============================] - 341s 408us/step - loss: 0.1237 - accuracy: 0.9572 - val_loss: 0.1184 - val_accuracy: 0.9647\n",
      "Epoch 18/150\n",
      "834036/834036 [==============================] - 342s 410us/step - loss: 0.1226 - accuracy: 0.9578 - val_loss: 0.1134 - val_accuracy: 0.9633\n",
      "Epoch 19/150\n",
      "834036/834036 [==============================] - 340s 408us/step - loss: 0.1215 - accuracy: 0.9581 - val_loss: 0.1289 - val_accuracy: 0.9603\n",
      "Epoch 20/150\n",
      "834036/834036 [==============================] - 340s 408us/step - loss: 0.1197 - accuracy: 0.9588 - val_loss: 0.1177 - val_accuracy: 0.9600\n",
      "Epoch 21/150\n",
      "834036/834036 [==============================] - 342s 410us/step - loss: 0.1174 - accuracy: 0.9596 - val_loss: 0.1105 - val_accuracy: 0.9657\n",
      "Epoch 22/150\n",
      "834036/834036 [==============================] - 341s 409us/step - loss: 0.1148 - accuracy: 0.9606 - val_loss: 0.1070 - val_accuracy: 0.9643\n",
      "Epoch 23/150\n",
      "834036/834036 [==============================] - 341s 409us/step - loss: 0.1127 - accuracy: 0.9614 - val_loss: 0.1033 - val_accuracy: 0.9659\n",
      "Epoch 24/150\n",
      "834036/834036 [==============================] - 341s 408us/step - loss: 0.1104 - accuracy: 0.9623 - val_loss: 0.1035 - val_accuracy: 0.9647\n",
      "Epoch 25/150\n",
      "834036/834036 [==============================] - 340s 408us/step - loss: 0.1090 - accuracy: 0.9626 - val_loss: 0.1028 - val_accuracy: 0.9657\n",
      "Epoch 26/150\n",
      "834036/834036 [==============================] - 342s 410us/step - loss: 0.1079 - accuracy: 0.9630 - val_loss: 0.1062 - val_accuracy: 0.9661\n",
      "Epoch 27/150\n",
      "834036/834036 [==============================] - 340s 408us/step - loss: 0.1066 - accuracy: 0.9635 - val_loss: 0.1066 - val_accuracy: 0.9656\n",
      "Epoch 28/150\n",
      "834036/834036 [==============================] - 341s 409us/step - loss: 0.1058 - accuracy: 0.9638 - val_loss: 0.1032 - val_accuracy: 0.9659\n",
      "Epoch 29/150\n",
      "834036/834036 [==============================] - 342s 410us/step - loss: 0.1047 - accuracy: 0.9640 - val_loss: 0.1084 - val_accuracy: 0.9640\n",
      "Epoch 30/150\n",
      "834036/834036 [==============================] - 341s 408us/step - loss: 0.1038 - accuracy: 0.9645 - val_loss: 0.0972 - val_accuracy: 0.9654\n",
      "Epoch 31/150\n",
      "834036/834036 [==============================] - 342s 410us/step - loss: 0.1028 - accuracy: 0.9646 - val_loss: 0.0989 - val_accuracy: 0.9660\n",
      "Epoch 32/150\n",
      "834036/834036 [==============================] - 340s 408us/step - loss: 0.1018 - accuracy: 0.9649 - val_loss: 0.0962 - val_accuracy: 0.9667\n",
      "Epoch 33/150\n",
      "834036/834036 [==============================] - 341s 409us/step - loss: 0.1011 - accuracy: 0.9653 - val_loss: 0.0938 - val_accuracy: 0.9675\n",
      "Epoch 34/150\n",
      "834036/834036 [==============================] - 346s 415us/step - loss: 0.1005 - accuracy: 0.9654 - val_loss: 0.0966 - val_accuracy: 0.9659\n",
      "Epoch 35/150\n",
      "834036/834036 [==============================] - 340s 407us/step - loss: 0.1003 - accuracy: 0.9655 - val_loss: 0.0958 - val_accuracy: 0.9669\n",
      "Epoch 36/150\n",
      "834036/834036 [==============================] - 340s 408us/step - loss: 0.0994 - accuracy: 0.9658 - val_loss: 0.0954 - val_accuracy: 0.9659\n",
      "Epoch 37/150\n",
      "834036/834036 [==============================] - 341s 408us/step - loss: 0.0987 - accuracy: 0.9661 - val_loss: 0.0998 - val_accuracy: 0.9679\n",
      "Epoch 38/150\n",
      "834036/834036 [==============================] - 340s 407us/step - loss: 0.0989 - accuracy: 0.9658 - val_loss: 0.1028 - val_accuracy: 0.9641\n",
      "Epoch 39/150\n",
      "834036/834036 [==============================] - 341s 409us/step - loss: 0.0980 - accuracy: 0.9662 - val_loss: 0.0973 - val_accuracy: 0.9677\n",
      "Epoch 40/150\n",
      "834036/834036 [==============================] - 339s 407us/step - loss: 0.0974 - accuracy: 0.9664 - val_loss: 0.0905 - val_accuracy: 0.9703\n",
      "Epoch 41/150\n",
      "834036/834036 [==============================] - 339s 407us/step - loss: 0.0967 - accuracy: 0.9666 - val_loss: 0.0931 - val_accuracy: 0.9679\n",
      "Epoch 42/150\n",
      "834036/834036 [==============================] - 341s 409us/step - loss: 0.0962 - accuracy: 0.9667 - val_loss: 0.0924 - val_accuracy: 0.9686\n",
      "Epoch 43/150\n",
      "834036/834036 [==============================] - 339s 407us/step - loss: 0.0958 - accuracy: 0.9669 - val_loss: 0.0891 - val_accuracy: 0.9697\n",
      "Epoch 44/150\n",
      "834036/834036 [==============================] - 341s 409us/step - loss: 0.0955 - accuracy: 0.9669 - val_loss: 0.0879 - val_accuracy: 0.9707\n",
      "Epoch 45/150\n",
      "834036/834036 [==============================] - 340s 408us/step - loss: 0.0953 - accuracy: 0.9671 - val_loss: 0.0921 - val_accuracy: 0.9691\n",
      "Epoch 46/150\n",
      "834036/834036 [==============================] - 339s 407us/step - loss: 0.0947 - accuracy: 0.9672 - val_loss: 0.0864 - val_accuracy: 0.9699\n",
      "Epoch 47/150\n",
      "834036/834036 [==============================] - 341s 409us/step - loss: 0.0943 - accuracy: 0.9673 - val_loss: 0.0901 - val_accuracy: 0.9708\n",
      "Epoch 48/150\n",
      "834036/834036 [==============================] - 339s 407us/step - loss: 0.0940 - accuracy: 0.9674 - val_loss: 0.0918 - val_accuracy: 0.9691\n",
      "Epoch 49/150\n",
      "834036/834036 [==============================] - 340s 407us/step - loss: 0.0937 - accuracy: 0.9675 - val_loss: 0.0904 - val_accuracy: 0.9693\n",
      "Epoch 50/150\n",
      "834036/834036 [==============================] - 341s 409us/step - loss: 0.0930 - accuracy: 0.9679 - val_loss: 0.0928 - val_accuracy: 0.9680\n",
      "Epoch 51/150\n",
      "834036/834036 [==============================] - 340s 407us/step - loss: 0.0934 - accuracy: 0.9675 - val_loss: 0.0983 - val_accuracy: 0.9683\n",
      "Epoch 52/150\n",
      "834036/834036 [==============================] - 341s 408us/step - loss: 0.0929 - accuracy: 0.9677 - val_loss: 0.0926 - val_accuracy: 0.9683\n",
      "Epoch 53/150\n"
     ]
    },
    {
     "name": "stdout",
     "output_type": "stream",
     "text": [
      "834036/834036 [==============================] - 340s 407us/step - loss: 0.0926 - accuracy: 0.9678 - val_loss: 0.0860 - val_accuracy: 0.9715\n",
      "Epoch 54/150\n",
      "834036/834036 [==============================] - 340s 408us/step - loss: 0.0916 - accuracy: 0.9682 - val_loss: 0.0908 - val_accuracy: 0.9677\n",
      "Epoch 55/150\n",
      "834036/834036 [==============================] - 341s 409us/step - loss: 0.0915 - accuracy: 0.9682 - val_loss: 0.0874 - val_accuracy: 0.9703\n",
      "Epoch 56/150\n",
      "834036/834036 [==============================] - 339s 407us/step - loss: 0.0913 - accuracy: 0.9682 - val_loss: 0.0837 - val_accuracy: 0.9700\n",
      "Epoch 57/150\n",
      "834036/834036 [==============================] - 339s 407us/step - loss: 0.0912 - accuracy: 0.9681 - val_loss: 0.0929 - val_accuracy: 0.9674\n",
      "Epoch 58/150\n",
      "834036/834036 [==============================] - 341s 409us/step - loss: 0.0909 - accuracy: 0.9683 - val_loss: 0.0936 - val_accuracy: 0.9661\n",
      "Epoch 59/150\n",
      "834036/834036 [==============================] - 340s 407us/step - loss: 0.0911 - accuracy: 0.9684 - val_loss: 0.0930 - val_accuracy: 0.9675\n",
      "Epoch 60/150\n",
      "834036/834036 [==============================] - 341s 409us/step - loss: 0.0898 - accuracy: 0.9687 - val_loss: 0.1009 - val_accuracy: 0.9679\n",
      "Epoch 61/150\n",
      "834036/834036 [==============================] - 340s 407us/step - loss: 0.0904 - accuracy: 0.9686 - val_loss: 0.0986 - val_accuracy: 0.9677\n",
      "Epoch 62/150\n",
      "834036/834036 [==============================] - 339s 407us/step - loss: 0.0905 - accuracy: 0.9683 - val_loss: 0.0930 - val_accuracy: 0.9670\n",
      "Epoch 63/150\n",
      "834036/834036 [==============================] - 341s 409us/step - loss: 0.0900 - accuracy: 0.9684 - val_loss: 0.0888 - val_accuracy: 0.9703\n",
      "Epoch 64/150\n",
      "834036/834036 [==============================] - 340s 407us/step - loss: 0.0892 - accuracy: 0.9689 - val_loss: 0.0870 - val_accuracy: 0.9711\n",
      "Epoch 65/150\n",
      "834036/834036 [==============================] - 340s 407us/step - loss: 0.0888 - accuracy: 0.9690 - val_loss: 0.0968 - val_accuracy: 0.9676\n",
      "Epoch 66/150\n",
      "834036/834036 [==============================] - 341s 409us/step - loss: 0.0886 - accuracy: 0.9689 - val_loss: 0.0927 - val_accuracy: 0.9682\n",
      "Epoch 67/150\n",
      "834036/834036 [==============================] - 339s 407us/step - loss: 0.0885 - accuracy: 0.9690 - val_loss: 0.0974 - val_accuracy: 0.9661\n",
      "Epoch 68/150\n",
      "834036/834036 [==============================] - 341s 409us/step - loss: 0.0884 - accuracy: 0.9690 - val_loss: 0.0884 - val_accuracy: 0.9711\n",
      "Epoch 69/150\n",
      "834036/834036 [==============================] - 346s 415us/step - loss: 0.0880 - accuracy: 0.9692 - val_loss: 0.0889 - val_accuracy: 0.9703\n",
      "Epoch 70/150\n",
      "834036/834036 [==============================] - 348s 417us/step - loss: 0.0882 - accuracy: 0.9692 - val_loss: 0.0967 - val_accuracy: 0.9679\n",
      "Epoch 71/150\n",
      "834036/834036 [==============================] - 349s 419us/step - loss: 0.0875 - accuracy: 0.9694 - val_loss: 0.0900 - val_accuracy: 0.9699\n",
      "Epoch 72/150\n",
      "834036/834036 [==============================] - 341s 409us/step - loss: 0.0877 - accuracy: 0.9693 - val_loss: 0.0981 - val_accuracy: 0.9684\n",
      "Epoch 73/150\n",
      "834036/834036 [==============================] - 341s 408us/step - loss: 0.0870 - accuracy: 0.9695 - val_loss: 0.0843 - val_accuracy: 0.9720\n",
      "Epoch 74/150\n",
      "834036/834036 [==============================] - 340s 407us/step - loss: 0.0871 - accuracy: 0.9694 - val_loss: 0.0887 - val_accuracy: 0.9702\n",
      "Epoch 75/150\n",
      "834036/834036 [==============================] - 340s 407us/step - loss: 0.0869 - accuracy: 0.9695 - val_loss: 0.0961 - val_accuracy: 0.9673\n",
      "Epoch 76/150\n",
      "834036/834036 [==============================] - 341s 409us/step - loss: 0.0866 - accuracy: 0.9694 - val_loss: 0.0900 - val_accuracy: 0.9705\n",
      "Epoch 77/150\n",
      "834036/834036 [==============================] - 342s 410us/step - loss: 0.0866 - accuracy: 0.9696 - val_loss: 0.0906 - val_accuracy: 0.9710\n",
      "Epoch 78/150\n",
      "834036/834036 [==============================] - 344s 413us/step - loss: 0.0861 - accuracy: 0.9698 - val_loss: 0.0961 - val_accuracy: 0.9686\n",
      "Epoch 79/150\n",
      "834036/834036 [==============================] - 342s 410us/step - loss: 0.0860 - accuracy: 0.9698 - val_loss: 0.0938 - val_accuracy: 0.9701\n",
      "Epoch 80/150\n",
      "834036/834036 [==============================] - 342s 410us/step - loss: 0.0859 - accuracy: 0.9695 - val_loss: 0.0937 - val_accuracy: 0.9712\n",
      "Epoch 81/150\n",
      "834036/834036 [==============================] - 344s 413us/step - loss: 0.0854 - accuracy: 0.9700 - val_loss: 0.0852 - val_accuracy: 0.9711\n",
      "Epoch 82/150\n",
      "834036/834036 [==============================] - 344s 413us/step - loss: 0.0853 - accuracy: 0.9701 - val_loss: 0.0903 - val_accuracy: 0.9697\n",
      "Epoch 83/150\n",
      "834036/834036 [==============================] - 346s 415us/step - loss: 0.0855 - accuracy: 0.9699 - val_loss: 0.0854 - val_accuracy: 0.9707\n",
      "Epoch 84/150\n",
      "834036/834036 [==============================] - 343s 411us/step - loss: 0.0849 - accuracy: 0.9700 - val_loss: 0.0856 - val_accuracy: 0.9725\n",
      "Epoch 85/150\n",
      "834036/834036 [==============================] - 346s 415us/step - loss: 0.0852 - accuracy: 0.9700 - val_loss: 0.0849 - val_accuracy: 0.9707\n",
      "Epoch 86/150\n",
      "834036/834036 [==============================] - 358s 429us/step - loss: 0.0850 - accuracy: 0.9701 - val_loss: 0.0903 - val_accuracy: 0.9701\n",
      "Epoch 87/150\n",
      "834036/834036 [==============================] - 359s 431us/step - loss: 0.0848 - accuracy: 0.9702 - val_loss: 0.0867 - val_accuracy: 0.9703\n",
      "Epoch 88/150\n",
      "834036/834036 [==============================] - 360s 432us/step - loss: 0.0848 - accuracy: 0.9701 - val_loss: 0.0910 - val_accuracy: 0.9698\n",
      "Epoch 89/150\n",
      "834036/834036 [==============================] - 361s 432us/step - loss: 0.0844 - accuracy: 0.9704 - val_loss: 0.0941 - val_accuracy: 0.9682\n",
      "Epoch 90/150\n",
      "834036/834036 [==============================] - 360s 432us/step - loss: 0.0844 - accuracy: 0.9703 - val_loss: 0.0879 - val_accuracy: 0.9697\n",
      "Epoch 91/150\n",
      "834036/834036 [==============================] - 353s 423us/step - loss: 0.0845 - accuracy: 0.9702 - val_loss: 0.0885 - val_accuracy: 0.9718\n",
      "Epoch 92/150\n",
      "834036/834036 [==============================] - 351s 421us/step - loss: 0.0840 - accuracy: 0.9703 - val_loss: 0.0929 - val_accuracy: 0.9702\n",
      "Epoch 93/150\n",
      "834036/834036 [==============================] - 352s 422us/step - loss: 0.0840 - accuracy: 0.9703 - val_loss: 0.0896 - val_accuracy: 0.9713\n",
      "Epoch 94/150\n",
      "834036/834036 [==============================] - 338s 405us/step - loss: 0.0843 - accuracy: 0.9703 - val_loss: 0.0887 - val_accuracy: 0.9718\n",
      "Epoch 95/150\n",
      "834036/834036 [==============================] - 342s 410us/step - loss: 0.0834 - accuracy: 0.9705 - val_loss: 0.0889 - val_accuracy: 0.9713\n",
      "Epoch 96/150\n",
      "834036/834036 [==============================] - 350s 420us/step - loss: 0.0835 - accuracy: 0.9703 - val_loss: 0.0826 - val_accuracy: 0.9715\n",
      "Epoch 97/150\n",
      "834036/834036 [==============================] - 353s 423us/step - loss: 0.0835 - accuracy: 0.9704 - val_loss: 0.0852 - val_accuracy: 0.9703\n",
      "Epoch 98/150\n",
      "834036/834036 [==============================] - 349s 419us/step - loss: 0.0833 - accuracy: 0.9705 - val_loss: 0.0882 - val_accuracy: 0.9697\n",
      "Epoch 99/150\n",
      "834036/834036 [==============================] - 343s 411us/step - loss: 0.0831 - accuracy: 0.9705 - val_loss: 0.0854 - val_accuracy: 0.9717\n",
      "Epoch 100/150\n",
      "834036/834036 [==============================] - 348s 417us/step - loss: 0.0829 - accuracy: 0.9709 - val_loss: 0.0875 - val_accuracy: 0.9704\n",
      "Epoch 101/150\n",
      "834036/834036 [==============================] - 345s 414us/step - loss: 0.0830 - accuracy: 0.9706 - val_loss: 0.0970 - val_accuracy: 0.9703\n",
      "Epoch 102/150\n",
      "834036/834036 [==============================] - 347s 416us/step - loss: 0.0825 - accuracy: 0.9708 - val_loss: 0.0857 - val_accuracy: 0.9705\n",
      "Epoch 103/150\n",
      "834036/834036 [==============================] - 349s 418us/step - loss: 0.0825 - accuracy: 0.9707 - val_loss: 0.0892 - val_accuracy: 0.9702\n",
      "Epoch 104/150\n",
      "834036/834036 [==============================] - 351s 421us/step - loss: 0.0822 - accuracy: 0.9710 - val_loss: 0.0820 - val_accuracy: 0.9730\n",
      "Epoch 105/150\n"
     ]
    },
    {
     "name": "stdout",
     "output_type": "stream",
     "text": [
      "834036/834036 [==============================] - 350s 420us/step - loss: 0.0825 - accuracy: 0.9706 - val_loss: 0.0873 - val_accuracy: 0.9718\n",
      "Epoch 106/150\n",
      "834036/834036 [==============================] - 345s 413us/step - loss: 0.0829 - accuracy: 0.9707 - val_loss: 0.0853 - val_accuracy: 0.9706\n",
      "Epoch 107/150\n",
      "834036/834036 [==============================] - 345s 413us/step - loss: 0.0823 - accuracy: 0.9707 - val_loss: 0.0899 - val_accuracy: 0.9705\n",
      "Epoch 108/150\n",
      "834036/834036 [==============================] - 343s 411us/step - loss: 0.0820 - accuracy: 0.9709 - val_loss: 0.0929 - val_accuracy: 0.9698\n",
      "Epoch 109/150\n",
      "834036/834036 [==============================] - 340s 408us/step - loss: 0.0819 - accuracy: 0.9712 - val_loss: 0.0876 - val_accuracy: 0.9717\n",
      "Epoch 110/150\n",
      "834036/834036 [==============================] - 342s 409us/step - loss: 0.0818 - accuracy: 0.9709 - val_loss: 0.0866 - val_accuracy: 0.9702\n",
      "Epoch 111/150\n",
      "834036/834036 [==============================] - 340s 408us/step - loss: 0.0820 - accuracy: 0.9707 - val_loss: 0.0894 - val_accuracy: 0.9719\n",
      "Epoch 112/150\n",
      "834036/834036 [==============================] - 342s 410us/step - loss: 0.0819 - accuracy: 0.9711 - val_loss: 0.0913 - val_accuracy: 0.9695\n",
      "Epoch 113/150\n",
      "834036/834036 [==============================] - 341s 409us/step - loss: 0.0810 - accuracy: 0.9711 - val_loss: 0.0849 - val_accuracy: 0.9712\n",
      "Epoch 114/150\n",
      "834036/834036 [==============================] - 340s 407us/step - loss: 0.0811 - accuracy: 0.9711 - val_loss: 0.0867 - val_accuracy: 0.9695\n",
      "Epoch 115/150\n",
      "834036/834036 [==============================] - 342s 410us/step - loss: 0.0812 - accuracy: 0.9713 - val_loss: 0.0853 - val_accuracy: 0.9722\n",
      "Epoch 116/150\n",
      "834036/834036 [==============================] - 346s 415us/step - loss: 0.0812 - accuracy: 0.9711 - val_loss: 0.0909 - val_accuracy: 0.9698\n",
      "Epoch 117/150\n",
      "834036/834036 [==============================] - 349s 418us/step - loss: 0.0807 - accuracy: 0.9714 - val_loss: 0.0858 - val_accuracy: 0.9719\n",
      "Epoch 118/150\n",
      "834036/834036 [==============================] - 345s 413us/step - loss: 0.0808 - accuracy: 0.9713 - val_loss: 0.0841 - val_accuracy: 0.9711\n",
      "Epoch 119/150\n",
      "834036/834036 [==============================] - 343s 411us/step - loss: 0.0812 - accuracy: 0.9711 - val_loss: 0.0836 - val_accuracy: 0.9713\n",
      "Epoch 120/150\n",
      "834036/834036 [==============================] - 343s 411us/step - loss: 0.0810 - accuracy: 0.9714 - val_loss: 0.0909 - val_accuracy: 0.9710\n",
      "Epoch 121/150\n",
      "834036/834036 [==============================] - 341s 409us/step - loss: 0.0804 - accuracy: 0.9714 - val_loss: 0.0901 - val_accuracy: 0.9713\n",
      "Epoch 122/150\n",
      "834036/834036 [==============================] - 350s 420us/step - loss: 0.0804 - accuracy: 0.9714 - val_loss: 0.0844 - val_accuracy: 0.9724\n",
      "Epoch 123/150\n",
      "834036/834036 [==============================] - 350s 419us/step - loss: 0.0804 - accuracy: 0.9713 - val_loss: 0.0861 - val_accuracy: 0.9717\n",
      "Epoch 124/150\n",
      "834036/834036 [==============================] - 350s 420us/step - loss: 0.0802 - accuracy: 0.9714 - val_loss: 0.0850 - val_accuracy: 0.9731\n",
      "Epoch 125/150\n",
      "834036/834036 [==============================] - 349s 419us/step - loss: 0.0800 - accuracy: 0.9713 - val_loss: 0.1071 - val_accuracy: 0.9681\n",
      "Epoch 126/150\n",
      "834036/834036 [==============================] - 342s 410us/step - loss: 0.0800 - accuracy: 0.9714 - val_loss: 0.0918 - val_accuracy: 0.9715\n",
      "Epoch 127/150\n",
      "834036/834036 [==============================] - 353s 423us/step - loss: 0.0800 - accuracy: 0.9716 - val_loss: 0.0895 - val_accuracy: 0.9720\n",
      "Epoch 128/150\n",
      "834036/834036 [==============================] - 356s 426us/step - loss: 0.0797 - accuracy: 0.9716 - val_loss: 0.0897 - val_accuracy: 0.9720\n",
      "Epoch 129/150\n",
      "834036/834036 [==============================] - 353s 423us/step - loss: 0.0797 - accuracy: 0.9715 - val_loss: 0.0852 - val_accuracy: 0.9715\n",
      "Epoch 130/150\n",
      "834036/834036 [==============================] - 352s 422us/step - loss: 0.0796 - accuracy: 0.9716 - val_loss: 0.0863 - val_accuracy: 0.9706\n",
      "Epoch 131/150\n",
      "834036/834036 [==============================] - 353s 423us/step - loss: 0.0793 - accuracy: 0.9718 - val_loss: 0.0819 - val_accuracy: 0.9722\n",
      "Epoch 132/150\n",
      "834036/834036 [==============================] - 346s 415us/step - loss: 0.0796 - accuracy: 0.9716 - val_loss: 0.0895 - val_accuracy: 0.9716\n",
      "Epoch 133/150\n",
      "834036/834036 [==============================] - 346s 415us/step - loss: 0.0797 - accuracy: 0.9715 - val_loss: 0.0885 - val_accuracy: 0.9711\n",
      "Epoch 134/150\n",
      "834036/834036 [==============================] - 351s 421us/step - loss: 0.0789 - accuracy: 0.9718 - val_loss: 0.0875 - val_accuracy: 0.9713\n",
      "Epoch 135/150\n",
      "834036/834036 [==============================] - 352s 423us/step - loss: 0.0790 - accuracy: 0.9717 - val_loss: 0.0850 - val_accuracy: 0.9719\n",
      "Epoch 136/150\n",
      "834036/834036 [==============================] - 348s 418us/step - loss: 0.0789 - accuracy: 0.9718 - val_loss: 0.0927 - val_accuracy: 0.9704\n",
      "Epoch 137/150\n",
      "834036/834036 [==============================] - 346s 415us/step - loss: 0.0786 - accuracy: 0.9718 - val_loss: 0.0816 - val_accuracy: 0.9740\n",
      "Epoch 138/150\n",
      "834036/834036 [==============================] - 346s 415us/step - loss: 0.0786 - accuracy: 0.9718 - val_loss: 0.0826 - val_accuracy: 0.9727\n",
      "Epoch 139/150\n",
      "834036/834036 [==============================] - 351s 420us/step - loss: 0.0789 - accuracy: 0.9717 - val_loss: 0.0839 - val_accuracy: 0.9727\n",
      "Epoch 140/150\n",
      "834036/834036 [==============================] - 353s 423us/step - loss: 0.0791 - accuracy: 0.9717 - val_loss: 0.0775 - val_accuracy: 0.9746\n",
      "Epoch 141/150\n",
      "834036/834036 [==============================] - 347s 416us/step - loss: 0.0793 - accuracy: 0.9717 - val_loss: 0.0888 - val_accuracy: 0.9715\n",
      "Epoch 142/150\n",
      "834036/834036 [==============================] - 346s 415us/step - loss: 0.0788 - accuracy: 0.9718 - val_loss: 0.0819 - val_accuracy: 0.9711\n",
      "Epoch 143/150\n",
      "834036/834036 [==============================] - 351s 420us/step - loss: 0.0788 - accuracy: 0.9719 - val_loss: 0.0895 - val_accuracy: 0.9727\n",
      "Epoch 144/150\n",
      "834036/834036 [==============================] - 349s 419us/step - loss: 0.0786 - accuracy: 0.9718 - val_loss: 0.0903 - val_accuracy: 0.9721\n",
      "Epoch 145/150\n",
      "834036/834036 [==============================] - 347s 416us/step - loss: 0.0782 - accuracy: 0.9720 - val_loss: 0.0932 - val_accuracy: 0.9711\n",
      "Epoch 146/150\n",
      "834036/834036 [==============================] - 346s 415us/step - loss: 0.0783 - accuracy: 0.9723 - val_loss: 0.0875 - val_accuracy: 0.9723\n",
      "Epoch 147/150\n",
      "834036/834036 [==============================] - 351s 420us/step - loss: 0.0782 - accuracy: 0.9720 - val_loss: 0.0827 - val_accuracy: 0.9727\n",
      "Epoch 148/150\n",
      "834036/834036 [==============================] - 351s 421us/step - loss: 0.0782 - accuracy: 0.9721 - val_loss: 0.0859 - val_accuracy: 0.9730\n",
      "Epoch 149/150\n",
      "834036/834036 [==============================] - 352s 422us/step - loss: 0.0782 - accuracy: 0.9720 - val_loss: 0.0906 - val_accuracy: 0.9722\n",
      "Epoch 150/150\n",
      "834036/834036 [==============================] - 351s 421us/step - loss: 0.0779 - accuracy: 0.9722 - val_loss: 0.0864 - val_accuracy: 0.9719\n"
     ]
    }
   ],
   "source": [
    "np.random.seed(123)\n",
    "results_3 = model_3.fit(train_images, train_labels, epochs=150, validation_data=(val_images, val_labels), batch_size=32, verbose=1)"
   ]
  },
  {
   "cell_type": "code",
   "execution_count": 28,
   "metadata": {},
   "outputs": [
    {
     "data": {
      "text/plain": [
       "dict_keys(['val_loss', 'val_accuracy', 'loss', 'accuracy'])"
      ]
     },
     "execution_count": 28,
     "metadata": {},
     "output_type": "execute_result"
    }
   ],
   "source": [
    "results_3.history.keys()"
   ]
  },
  {
   "cell_type": "code",
   "execution_count": 29,
   "metadata": {},
   "outputs": [],
   "source": [
    "def visualize_training_results(results):\n",
    "    history = results.history\n",
    "    plt.figure()\n",
    "    plt.plot(history['val_loss'])\n",
    "    plt.plot(history['loss'])\n",
    "    plt.legend(['val_loss', 'loss'])\n",
    "    plt.title('Loss')\n",
    "    plt.xlabel('Epochs')\n",
    "    plt.ylabel('Loss')\n",
    "    plt.show()\n",
    "    \n",
    "    plt.figure()\n",
    "    plt.plot(history['val_accuracy'])\n",
    "    plt.plot(history['accuracy'])\n",
    "    plt.legend(['val_accuracy', 'accuracy'])\n",
    "    plt.title('Accuracy')\n",
    "    plt.xlabel('Epochs')\n",
    "    plt.ylabel('Accuracy')\n",
    "    plt.show()"
   ]
  },
  {
   "cell_type": "code",
   "execution_count": 30,
   "metadata": {},
   "outputs": [
    {
     "data": {
      "image/png": "[encoded data removed]",
      "text/plain": [
       "<Figure size 432x288 with 1 Axes>"
      ]
     },
     "metadata": {
      "needs_background": "light"
     },
     "output_type": "display_data"
    },
    {
     "data": {
      "image/png": "[encoded data removed]",
      "text/plain": [
       "<Figure size 432x288 with 1 Axes>"
      ]
     },
     "metadata": {
      "needs_background": "light"
     },
     "output_type": "display_data"
    }
   ],
   "source": [
    "visualize_training_results(results_3)"
   ]
  },
  {
   "cell_type": "code",
   "execution_count": 31,
   "metadata": {},
   "outputs": [],
   "source": [
    "# Save model\n",
    "\n",
    "model_3.save('saved_models/CNN_model_3')"
   ]
  },
  {
   "cell_type": "code",
   "execution_count": 32,
   "metadata": {},
   "outputs": [],
   "source": [
    "# Load model\n",
    "\n",
    "model_3 = keras.models.load_model('saved_models/CNN_model_3')"
   ]
  },
  {
   "cell_type": "code",
   "execution_count": 32,
   "metadata": {},
   "outputs": [],
   "source": [
    "from keras import models\n",
    "from keras.preprocessing import image"
   ]
  },
  {
   "cell_type": "code",
   "execution_count": 33,
   "metadata": {
    "scrolled": true
   },
   "outputs": [
    {
     "name": "stdout",
     "output_type": "stream",
     "text": [
      "(1, 32, 32, 1)\n"
     ]
    },
    {
     "data": {
      "image/png": "[encoded data removed]",
      "text/plain": [
       "<Figure size 432x288 with 1 Axes>"
      ]
     },
     "metadata": {
      "needs_background": "light"
     },
     "output_type": "display_data"
    }
   ],
   "source": [
    "img_path = \"dataset/handwritten_character/Train/A/_1_47.jpg\"\n",
    "\n",
    "img = image.load_img(img_path, target_size=(32, 32), color_mode='grayscale')\n",
    "img_tensor = image.img_to_array(img)\n",
    "img_tensor = np.expand_dims(img_tensor, axis=0)\n",
    "\n",
    "img_tensor /= 255.\n",
    "\n",
    "print(img_tensor.shape)\n",
    "\n",
    "plt.imshow(img_tensor[0])\n",
    "plt.show()"
   ]
  },
  {
   "cell_type": "code",
   "execution_count": 34,
   "metadata": {},
   "outputs": [],
   "source": [
    "# Extract model layer outputs\n",
    "layer_outputs = [layer.output for layer in model_3.layers[:8]]\n",
    "\n",
    "# Rather then a model with a single output, we are going to make a model to display the feature maps\n",
    "activation_model = models.Model(inputs=model_3.input, outputs=layer_outputs)"
   ]
  },
  {
   "cell_type": "code",
   "execution_count": 35,
   "metadata": {
    "scrolled": true
   },
   "outputs": [
    {
     "name": "stdout",
     "output_type": "stream",
     "text": [
      "(1, 30, 30, 32)\n"
     ]
    },
    {
     "data": {
      "text/plain": [
       "<matplotlib.image.AxesImage at 0x19fa5877708>"
      ]
     },
     "execution_count": 35,
     "metadata": {},
     "output_type": "execute_result"
    },
    {
     "data": {
      "image/png": "[encoded data removed]",
      "text/plain": [
       "<Figure size 288x288 with 1 Axes>"
      ]
     },
     "metadata": {
      "needs_background": "light"
     },
     "output_type": "display_data"
    }
   ],
   "source": [
    "#returns an array for each activation layer\n",
    "activations = activation_model.predict(img_tensor)\n",
    "\n",
    "first_layer_activation = activations[0]\n",
    "print(first_layer_activation.shape)\n",
    "\n",
    "# We slice the third channel and preview the results\n",
    "plt.matshow(first_layer_activation[0, :, :, 3], cmap='viridis')"
   ]
  },
  {
   "cell_type": "code",
   "execution_count": 36,
   "metadata": {
    "scrolled": true
   },
   "outputs": [
    {
     "data": {
      "image/png": "[encoded data removed]",
      "text/plain": [
       "<Figure size 864x1728 with 32 Axes>"
      ]
     },
     "metadata": {
      "needs_background": "light"
     },
     "output_type": "display_data"
    }
   ],
   "source": [
    "# visualize all 32 of these channels from the first activation function\n",
    "\n",
    "fig, axes = plt.subplots(8, 4, figsize=(12, 24))\n",
    "for i in range(32):\n",
    "    row = i//4\n",
    "    column = i%4\n",
    "    ax = axes[row, column]\n",
    "    first_layer_activation = activations[0]\n",
    "    ax.matshow(first_layer_activation[0, :, :, i], cmap='viridis')"
   ]
  },
  {
   "cell_type": "code",
   "execution_count": 37,
   "metadata": {
    "scrolled": true
   },
   "outputs": [
    {
     "data": {
      "image/png": "[encoded data removed]",
      "text/plain": [
       "<Figure size 864x576 with 8 Axes>"
      ]
     },
     "metadata": {
      "needs_background": "light"
     },
     "output_type": "display_data"
    }
   ],
   "source": [
    "# visualization of the 29th channel for each of the activation layers\n",
    "\n",
    "fig, axes = plt.subplots(2, 4, figsize=(12, 8))\n",
    "\n",
    "layer_names = []\n",
    "for layer in model_3.layers[:8]:\n",
    "    layer_names.append(layer.name)\n",
    "    \n",
    "for i in range(8):\n",
    "    row = i//4\n",
    "    column = i%4\n",
    "    ax = axes[row, column]\n",
    "    cur_layer = activations[i]\n",
    "    ax.matshow(cur_layer[0, :, :, 29], cmap='viridis')\n",
    "    ax.xaxis.set_ticks_position('bottom')\n",
    "    ax.set_title(layer_names[i])"
   ]
  },
  {
   "cell_type": "code",
   "execution_count": 38,
   "metadata": {},
   "outputs": [],
   "source": [
    "predictions = model_3.predict(x=val_images, verbose=0)"
   ]
  },
  {
   "cell_type": "code",
   "execution_count": 118,
   "metadata": {
    "scrolled": true
   },
   "outputs": [
    {
     "data": {
      "text/plain": [
       "array([11, 29, 25, ...,  6, 21, 13], dtype=int64)"
      ]
     },
     "execution_count": 118,
     "metadata": {},
     "output_type": "execute_result"
    }
   ],
   "source": [
    "np.argmax(predictions, axis=1)"
   ]
  },
  {
   "cell_type": "code",
   "execution_count": 120,
   "metadata": {},
   "outputs": [
    {
     "data": {
      "text/plain": [
       "array([[0, 0, 0, ..., 0, 0, 0],\n",
       "       [0, 0, 0, ..., 0, 0, 0],\n",
       "       [0, 0, 0, ..., 0, 0, 0],\n",
       "       ...,\n",
       "       [0, 0, 0, ..., 0, 0, 0],\n",
       "       [0, 0, 0, ..., 0, 0, 0],\n",
       "       [0, 0, 0, ..., 0, 0, 0]])"
      ]
     },
     "execution_count": 120,
     "metadata": {},
     "output_type": "execute_result"
    }
   ],
   "source": [
    "val_labels"
   ]
  },
  {
   "cell_type": "code",
   "execution_count": 121,
   "metadata": {},
   "outputs": [
    {
     "data": {
      "text/plain": [
       "array([11., 29., 25., ...,  6., 21., 13.], dtype=float32)"
      ]
     },
     "execution_count": 121,
     "metadata": {},
     "output_type": "execute_result"
    }
   ],
   "source": [
    "LB.inverse_transform(val_labels)"
   ]
  },
  {
   "cell_type": "code",
   "execution_count": 39,
   "metadata": {},
   "outputs": [],
   "source": [
    "cm = confusion_matrix(y_true=LB.inverse_transform(val_labels), y_pred=np.argmax(predictions, axis=1))"
   ]
  },
  {
   "cell_type": "code",
   "execution_count": 40,
   "metadata": {},
   "outputs": [
    {
     "data": {
      "text/plain": [
       "numpy.ndarray"
      ]
     },
     "execution_count": 40,
     "metadata": {},
     "output_type": "execute_result"
    }
   ],
   "source": [
    "type(cm)"
   ]
  },
  {
   "cell_type": "code",
   "execution_count": 41,
   "metadata": {},
   "outputs": [],
   "source": [
    "cm_plot_labels= list(train_generator.class_indices.keys())"
   ]
  },
  {
   "cell_type": "code",
   "execution_count": 42,
   "metadata": {},
   "outputs": [
    {
     "data": {
      "image/png": "[encoded data removed]",
      "text/plain": [
       "<Figure size 1440x1440 with 2 Axes>"
      ]
     },
     "metadata": {
      "needs_background": "light"
     },
     "output_type": "display_data"
    }
   ],
   "source": [
    "plt.figure(figsize=(20,20))\n",
    "ax = sns.heatmap(cm, xticklabels=cm_plot_labels, yticklabels=cm_plot_labels, annot=True, fmt='d', cmap='Blues', linewidths=.5)\n",
    "ax.set(xlabel='Predicted label', ylabel='True label', title='Confusion Matrix')\n",
    "plt.show()"
   ]
  },
  {
   "cell_type": "code",
   "execution_count": 153,
   "metadata": {},
   "outputs": [],
   "source": [
    "import plotly.express as px"
   ]
  },
  {
   "cell_type": "code",
   "execution_count": 155,
   "metadata": {},
   "outputs": [],
   "source": [
    "# px.imshow(cm, x=cm_plot_labels, y=cm_plot_labels)"
   ]
  },
  {
   "cell_type": "code",
   "execution_count": 43,
   "metadata": {},
   "outputs": [],
   "source": [
    "names_train = pd.read_csv('dataset/handwritting_names/written_name_train_v2.csv')"
   ]
  },
  {
   "cell_type": "code",
   "execution_count": 44,
   "metadata": {
    "scrolled": true
   },
   "outputs": [
    {
     "data": {
      "text/html": [
       "<div>\n",
       "<style scoped>\n",
       "    .dataframe tbody tr th:only-of-type {\n",
       "        vertical-align: middle;\n",
       "    }\n",
       "\n",
       "    .dataframe tbody tr th {\n",
       "        vertical-align: top;\n",
       "    }\n",
       "\n",
       "    .dataframe thead th {\n",
       "        text-align: right;\n",
       "    }\n",
       "</style>\n",
       "<table border=\"1\" class=\"dataframe\">\n",
       "  <thead>\n",
       "    <tr style=\"text-align: right;\">\n",
       "      <th></th>\n",
       "      <th>FILENAME</th>\n",
       "      <th>IDENTITY</th>\n",
       "    </tr>\n",
       "  </thead>\n",
       "  <tbody>\n",
       "    <tr>\n",
       "      <th>0</th>\n",
       "      <td>TRAIN_00001.jpg</td>\n",
       "      <td>BALTHAZAR</td>\n",
       "    </tr>\n",
       "    <tr>\n",
       "      <th>1</th>\n",
       "      <td>TRAIN_00002.jpg</td>\n",
       "      <td>SIMON</td>\n",
       "    </tr>\n",
       "    <tr>\n",
       "      <th>2</th>\n",
       "      <td>TRAIN_00003.jpg</td>\n",
       "      <td>BENES</td>\n",
       "    </tr>\n",
       "    <tr>\n",
       "      <th>3</th>\n",
       "      <td>TRAIN_00004.jpg</td>\n",
       "      <td>LA LOVE</td>\n",
       "    </tr>\n",
       "    <tr>\n",
       "      <th>4</th>\n",
       "      <td>TRAIN_00005.jpg</td>\n",
       "      <td>DAPHNE</td>\n",
       "    </tr>\n",
       "  </tbody>\n",
       "</table>\n",
       "</div>"
      ],
      "text/plain": [
       "          FILENAME   IDENTITY\n",
       "0  TRAIN_00001.jpg  BALTHAZAR\n",
       "1  TRAIN_00002.jpg      SIMON\n",
       "2  TRAIN_00003.jpg      BENES\n",
       "3  TRAIN_00004.jpg    LA LOVE\n",
       "4  TRAIN_00005.jpg     DAPHNE"
      ]
     },
     "execution_count": 44,
     "metadata": {},
     "output_type": "execute_result"
    }
   ],
   "source": [
    "names_train.head()"
   ]
  },
  {
   "cell_type": "code",
   "execution_count": 45,
   "metadata": {
    "scrolled": false
   },
   "outputs": [
    {
     "data": {
      "text/plain": [
       "THOMAS       1825\n",
       "EMPTY        1796\n",
       "LEA          1582\n",
       "EMMA         1482\n",
       "LUCAS        1479\n",
       "HUGO         1367\n",
       "CAMILLE      1367\n",
       "CLEMENT      1313\n",
       "MANON        1277\n",
       "LOUIS        1257\n",
       "THEO         1214\n",
       "CHLOE        1204\n",
       "ANTOINE      1168\n",
       "MARIE        1156\n",
       "ENZO         1148\n",
       "CLARA        1143\n",
       "PAUL         1118\n",
       "NATHAN       1107\n",
       "ALEXANDRE    1080\n",
       "MAXIME       1066\n",
       "Name: IDENTITY, dtype: int64"
      ]
     },
     "execution_count": 45,
     "metadata": {},
     "output_type": "execute_result"
    }
   ],
   "source": [
    "names_train.IDENTITY.value_counts().head(20)"
   ]
  },
  {
   "cell_type": "code",
   "execution_count": 46,
   "metadata": {},
   "outputs": [],
   "source": [
    "# Are there names that are lower case?"
   ]
  },
  {
   "cell_type": "code",
   "execution_count": 47,
   "metadata": {},
   "outputs": [],
   "source": [
    "# turn this into a top 20 names list"
   ]
  },
  {
   "cell_type": "code",
   "execution_count": 48,
   "metadata": {},
   "outputs": [
    {
     "data": {
      "text/html": [
       "<div>\n",
       "<style scoped>\n",
       "    .dataframe tbody tr th:only-of-type {\n",
       "        vertical-align: middle;\n",
       "    }\n",
       "\n",
       "    .dataframe tbody tr th {\n",
       "        vertical-align: top;\n",
       "    }\n",
       "\n",
       "    .dataframe thead th {\n",
       "        text-align: right;\n",
       "    }\n",
       "</style>\n",
       "<table border=\"1\" class=\"dataframe\">\n",
       "  <thead>\n",
       "    <tr style=\"text-align: right;\">\n",
       "      <th></th>\n",
       "      <th>FILENAME</th>\n",
       "      <th>IDENTITY</th>\n",
       "    </tr>\n",
       "  </thead>\n",
       "  <tbody>\n",
       "    <tr>\n",
       "      <th>256</th>\n",
       "      <td>TRAIN_00257.jpg</td>\n",
       "      <td>CLARA</td>\n",
       "    </tr>\n",
       "    <tr>\n",
       "      <th>410</th>\n",
       "      <td>TRAIN_00411.jpg</td>\n",
       "      <td>CLARA</td>\n",
       "    </tr>\n",
       "    <tr>\n",
       "      <th>440</th>\n",
       "      <td>TRAIN_00441.jpg</td>\n",
       "      <td>CLARA</td>\n",
       "    </tr>\n",
       "    <tr>\n",
       "      <th>1142</th>\n",
       "      <td>TRAIN_01143.jpg</td>\n",
       "      <td>CLARA</td>\n",
       "    </tr>\n",
       "    <tr>\n",
       "      <th>1164</th>\n",
       "      <td>TRAIN_01165.jpg</td>\n",
       "      <td>CLARA</td>\n",
       "    </tr>\n",
       "    <tr>\n",
       "      <th>1480</th>\n",
       "      <td>TRAIN_01481.jpg</td>\n",
       "      <td>CLARA</td>\n",
       "    </tr>\n",
       "    <tr>\n",
       "      <th>1808</th>\n",
       "      <td>TRAIN_01809.jpg</td>\n",
       "      <td>CLARA</td>\n",
       "    </tr>\n",
       "    <tr>\n",
       "      <th>2020</th>\n",
       "      <td>TRAIN_02021.jpg</td>\n",
       "      <td>CLARA</td>\n",
       "    </tr>\n",
       "    <tr>\n",
       "      <th>2511</th>\n",
       "      <td>TRAIN_02512.jpg</td>\n",
       "      <td>CLARA</td>\n",
       "    </tr>\n",
       "    <tr>\n",
       "      <th>2596</th>\n",
       "      <td>TRAIN_02597.jpg</td>\n",
       "      <td>CLARA</td>\n",
       "    </tr>\n",
       "  </tbody>\n",
       "</table>\n",
       "</div>"
      ],
      "text/plain": [
       "             FILENAME IDENTITY\n",
       "256   TRAIN_00257.jpg    CLARA\n",
       "410   TRAIN_00411.jpg    CLARA\n",
       "440   TRAIN_00441.jpg    CLARA\n",
       "1142  TRAIN_01143.jpg    CLARA\n",
       "1164  TRAIN_01165.jpg    CLARA\n",
       "1480  TRAIN_01481.jpg    CLARA\n",
       "1808  TRAIN_01809.jpg    CLARA\n",
       "2020  TRAIN_02021.jpg    CLARA\n",
       "2511  TRAIN_02512.jpg    CLARA\n",
       "2596  TRAIN_02597.jpg    CLARA"
      ]
     },
     "execution_count": 48,
     "metadata": {},
     "output_type": "execute_result"
    }
   ],
   "source": [
    "names_train[names_train.IDENTITY == 'CLARA'].head(10)"
   ]
  },
  {
   "cell_type": "code",
   "execution_count": 49,
   "metadata": {},
   "outputs": [],
   "source": [
    "def sort_contours(cnts, method='left-to-right'):\n",
    "    reverse = False\n",
    "    i = 0\n",
    "    if method == 'right-to-left' or method == 'bottom-to-top':\n",
    "        reverse = True\n",
    "    if method == 'top-to-bottom' or method == 'botton-to-top':\n",
    "        i = 1\n",
    "    boundingBoxes = [cv2.boundingRect(c) for c in cnts]\n",
    "    (cnts, boundingBoxes) = zip(*sorted(zip(cnts, boundingBoxes),\n",
    "       key = lambda b:b[1][i], reverse=reverse))\n",
    "    return (cnts, boundingBoxes)"
   ]
  },
  {
   "cell_type": "code",
   "execution_count": 50,
   "metadata": {},
   "outputs": [],
   "source": [
    "def get_letters(img):\n",
    "    letters = []\n",
    "    image = cv2.imread(img)\n",
    "    gray = cv2.cvtColor(image, cv2.COLOR_BGR2GRAY)\n",
    "    ret,thresh1 = cv2.threshold(gray ,127,255,cv2.THRESH_BINARY_INV)\n",
    "    dilated = cv2.dilate(thresh1, None, iterations=2)\n",
    "\n",
    "    cnts = cv2.findContours(dilated.copy(), cv2.RETR_EXTERNAL,cv2.CHAIN_APPROX_SIMPLE)\n",
    "    cnts = imutils.grab_contours(cnts)\n",
    "    cnts = sort_contours(cnts, method=\"left-to-right\")[0]\n",
    "    # loop over the contours\n",
    "    for c in cnts:\n",
    "        if cv2.contourArea(c) > 10:\n",
    "            (x, y, w, h) = cv2.boundingRect(c)\n",
    "            cv2.rectangle(image, (x, y), (x + w, y + h), (0, 255, 255), 2)\n",
    "        roi = gray[y:y + h, x:x + w]\n",
    "        thresh = cv2.threshold(roi, 0, 255,cv2.THRESH_BINARY_INV | cv2.THRESH_OTSU)[1]\n",
    "        thresh = cv2.resize(thresh, (32, 32), interpolation = cv2.INTER_CUBIC)\n",
    "        thresh = thresh.astype(\"float32\") / 255.0\n",
    "        thresh = np.expand_dims(thresh, axis=-1)\n",
    "        thresh = thresh.reshape(1,32,32,1)\n",
    "        ypred = model_3.predict(thresh)\n",
    "        ypred = LB.inverse_transform(ypred)\n",
    "        ypred = [k for k, v in train_generator.class_indices.items() if v == ypred]\n",
    "        [x] = ypred\n",
    "        letters.append(x)\n",
    "    return letters, image"
   ]
  },
  {
   "cell_type": "code",
   "execution_count": 42,
   "metadata": {},
   "outputs": [],
   "source": [
    "# gray = cv2.cvtColor(image, cv2.COLOR_BGR2GRAY)"
   ]
  },
  {
   "cell_type": "code",
   "execution_count": 43,
   "metadata": {},
   "outputs": [],
   "source": [
    "# ret,thresh1 = cv2.threshold(gray ,127,255,cv2.THRESH_BINARY_INV)"
   ]
  },
  {
   "cell_type": "code",
   "execution_count": 44,
   "metadata": {},
   "outputs": [],
   "source": [
    "# dilated = cv2.dilate(thresh1, None, iterations=2)"
   ]
  },
  {
   "cell_type": "code",
   "execution_count": 45,
   "metadata": {},
   "outputs": [],
   "source": [
    "# cnts = cv2.findContours(dilated.copy(), cv2.RETR_EXTERNAL,cv2.CHAIN_APPROX_SIMPLE)"
   ]
  },
  {
   "cell_type": "code",
   "execution_count": 46,
   "metadata": {},
   "outputs": [],
   "source": [
    "# cnts = imutils.grab_contours(cnts)"
   ]
  },
  {
   "cell_type": "code",
   "execution_count": 47,
   "metadata": {},
   "outputs": [],
   "source": [
    "# cnts = sort_contours(cnts, method=\"left-to-right\")[0]"
   ]
  },
  {
   "cell_type": "code",
   "execution_count": 48,
   "metadata": {},
   "outputs": [],
   "source": [
    "# for c in cnts:\n",
    "#         if cv2.contourArea(c) > 10:\n",
    "#             (x, y, w, h) = cv2.boundingRect(c)\n",
    "#             cv2.rectangle(image, (x, y), (x + w, y + h), (0, 255, 0), 2)"
   ]
  },
  {
   "cell_type": "code",
   "execution_count": 49,
   "metadata": {},
   "outputs": [],
   "source": [
    "# roi = gray[y:y + h, x:x + w]"
   ]
  },
  {
   "cell_type": "code",
   "execution_count": 50,
   "metadata": {},
   "outputs": [],
   "source": [
    "# thresh = cv2.threshold(roi, 0, 255,cv2.THRESH_BINARY_INV | cv2.THRESH_OTSU)[1]"
   ]
  },
  {
   "cell_type": "code",
   "execution_count": 51,
   "metadata": {},
   "outputs": [],
   "source": [
    "# thresh = cv2.resize(thresh, (32, 32), interpolation = cv2.INTER_CUBIC)"
   ]
  },
  {
   "cell_type": "code",
   "execution_count": 52,
   "metadata": {},
   "outputs": [],
   "source": [
    "# thresh = thresh.astype(\"float32\") / 255.0"
   ]
  },
  {
   "cell_type": "code",
   "execution_count": 53,
   "metadata": {},
   "outputs": [],
   "source": [
    "# thresh = np.expand_dims(thresh, axis=-1)"
   ]
  },
  {
   "cell_type": "code",
   "execution_count": 54,
   "metadata": {},
   "outputs": [],
   "source": [
    "# thresh = thresh.reshape(1,32,32,1)"
   ]
  },
  {
   "cell_type": "code",
   "execution_count": 55,
   "metadata": {},
   "outputs": [],
   "source": [
    "# ypred = model_1.predict(thresh)"
   ]
  },
  {
   "cell_type": "code",
   "execution_count": 56,
   "metadata": {},
   "outputs": [],
   "source": [
    "# ypred = LB.inverse_transform(ypred)"
   ]
  },
  {
   "cell_type": "code",
   "execution_count": 57,
   "metadata": {},
   "outputs": [],
   "source": [
    "# ypred"
   ]
  },
  {
   "cell_type": "code",
   "execution_count": null,
   "metadata": {},
   "outputs": [],
   "source": []
  },
  {
   "cell_type": "code",
   "execution_count": 51,
   "metadata": {},
   "outputs": [],
   "source": [
    "def get_word(letter):\n",
    "    word = \"\".join(letter)\n",
    "    return word"
   ]
  },
  {
   "cell_type": "code",
   "execution_count": 52,
   "metadata": {
    "scrolled": true
   },
   "outputs": [
    {
     "name": "stdout",
     "output_type": "stream",
     "text": [
      "CLARA\n"
     ]
    },
    {
     "data": {
      "text/plain": [
       "<matplotlib.image.AxesImage at 0x1a21d0ad748>"
      ]
     },
     "execution_count": 52,
     "metadata": {},
     "output_type": "execute_result"
    },
    {
     "data": {
      "image/png": "[encoded data removed]",
      "text/plain": [
       "<Figure size 432x288 with 1 Axes>"
      ]
     },
     "metadata": {
      "needs_background": "light"
     },
     "output_type": "display_data"
    }
   ],
   "source": [
    "letter, image = get_letters(\"dataset/handwritting_names/train_v2/train/TRAIN_00411.jpg\")\n",
    "word = get_word(letter)\n",
    "print(word)\n",
    "plt.imshow(image)"
   ]
  },
  {
   "cell_type": "code",
   "execution_count": null,
   "metadata": {},
   "outputs": [],
   "source": []
  }
 ],
 "metadata": {
  "kernelspec": {
   "display_name": "Python 3.7 (tensorflow)",
   "language": "python",
   "name": "tensorflow"
  },
  "language_info": {
   "codemirror_mode": {
    "name": "ipython",
    "version": 3
   },
   "file_extension": ".py",
   "mimetype": "text/x-python",
   "name": "python",
   "nbconvert_exporter": "python",
   "pygments_lexer": "ipython3",
   "version": "3.7.9"
  },
  "toc": {
   "base_numbering": 1,
   "nav_menu": {},
   "number_sections": true,
   "sideBar": true,
   "skip_h1_title": false,
   "title_cell": "Table of Contents",
   "title_sidebar": "Contents",
   "toc_cell": false,
   "toc_position": {},
   "toc_section_display": true,
   "toc_window_display": false
  }
 },
 "nbformat": 4,
 "nbformat_minor": 4
}
